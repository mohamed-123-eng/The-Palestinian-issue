{
 "cells": [
  {
   "cell_type": "code",
   "execution_count": 1,
   "metadata": {},
   "outputs": [],
   "source": [
    "import os\n",
    "import pandas as pd\n",
    "import plotly.express as px\n",
    "import plotly.figure_factory as ff"
   ]
  },
  {
   "cell_type": "code",
   "execution_count": 2,
   "metadata": {},
   "outputs": [],
   "source": [
    "# Current working directory of the notebook\n",
    "notebook_directory = os.getcwd()\n",
    "\n",
    "# Relative path to the dataset from the notebook directory\n",
    "relative_path = r'..\\data\\raw\\Cleaned_Data.csv'\n",
    "\n",
    "# Construct the absolute path to the dataset\n",
    "dataset_path = os.path.normpath(os.path.join(notebook_directory, relative_path))"
   ]
  },
  {
   "cell_type": "code",
   "execution_count": 3,
   "metadata": {},
   "outputs": [],
   "source": [
    "df = pd.read_csv(dataset_path)"
   ]
  },
  {
   "cell_type": "code",
   "execution_count": 19,
   "metadata": {},
   "outputs": [],
   "source": [
    "df.drop(columns=\"Unnamed: 0\", axis=1, inplace=True)"
   ]
  },
  {
   "cell_type": "code",
   "execution_count": 20,
   "metadata": {},
   "outputs": [
    {
     "data": {
      "text/html": [
       "<div>\n",
       "<style scoped>\n",
       "    .dataframe tbody tr th:only-of-type {\n",
       "        vertical-align: middle;\n",
       "    }\n",
       "\n",
       "    .dataframe tbody tr th {\n",
       "        vertical-align: top;\n",
       "    }\n",
       "\n",
       "    .dataframe thead th {\n",
       "        text-align: right;\n",
       "    }\n",
       "</style>\n",
       "<table border=\"1\" class=\"dataframe\">\n",
       "  <thead>\n",
       "    <tr style=\"text-align: right;\">\n",
       "      <th></th>\n",
       "      <th>year</th>\n",
       "      <th>month</th>\n",
       "      <th>palestinians_injuries</th>\n",
       "      <th>israelis_injuries</th>\n",
       "      <th>palestinians_killed</th>\n",
       "      <th>israelis_killed</th>\n",
       "    </tr>\n",
       "  </thead>\n",
       "  <tbody>\n",
       "    <tr>\n",
       "      <th>0</th>\n",
       "      <td>2000</td>\n",
       "      <td>DECEMBER</td>\n",
       "      <td>781</td>\n",
       "      <td>0</td>\n",
       "      <td>51</td>\n",
       "      <td>8</td>\n",
       "    </tr>\n",
       "    <tr>\n",
       "      <th>1</th>\n",
       "      <td>2000</td>\n",
       "      <td>NOVEMBER</td>\n",
       "      <td>3838</td>\n",
       "      <td>0</td>\n",
       "      <td>112</td>\n",
       "      <td>22</td>\n",
       "    </tr>\n",
       "    <tr>\n",
       "      <th>2</th>\n",
       "      <td>2000</td>\n",
       "      <td>OCTOBER</td>\n",
       "      <td>5984</td>\n",
       "      <td>0</td>\n",
       "      <td>104</td>\n",
       "      <td>10</td>\n",
       "    </tr>\n",
       "    <tr>\n",
       "      <th>3</th>\n",
       "      <td>2000</td>\n",
       "      <td>SEPTEMBER</td>\n",
       "      <td>0</td>\n",
       "      <td>0</td>\n",
       "      <td>16</td>\n",
       "      <td>1</td>\n",
       "    </tr>\n",
       "    <tr>\n",
       "      <th>4</th>\n",
       "      <td>2001</td>\n",
       "      <td>DECEMBER</td>\n",
       "      <td>304</td>\n",
       "      <td>0</td>\n",
       "      <td>67</td>\n",
       "      <td>36</td>\n",
       "    </tr>\n",
       "    <tr>\n",
       "      <th>5</th>\n",
       "      <td>2001</td>\n",
       "      <td>NOVEMBER</td>\n",
       "      <td>160</td>\n",
       "      <td>0</td>\n",
       "      <td>39</td>\n",
       "      <td>14</td>\n",
       "    </tr>\n",
       "    <tr>\n",
       "      <th>6</th>\n",
       "      <td>2001</td>\n",
       "      <td>OCTOBER</td>\n",
       "      <td>407</td>\n",
       "      <td>0</td>\n",
       "      <td>89</td>\n",
       "      <td>14</td>\n",
       "    </tr>\n",
       "    <tr>\n",
       "      <th>7</th>\n",
       "      <td>2001</td>\n",
       "      <td>SEPTEMBER</td>\n",
       "      <td>657</td>\n",
       "      <td>0</td>\n",
       "      <td>59</td>\n",
       "      <td>13</td>\n",
       "    </tr>\n",
       "    <tr>\n",
       "      <th>8</th>\n",
       "      <td>2001</td>\n",
       "      <td>AUGUST</td>\n",
       "      <td>502</td>\n",
       "      <td>0</td>\n",
       "      <td>37</td>\n",
       "      <td>26</td>\n",
       "    </tr>\n",
       "    <tr>\n",
       "      <th>9</th>\n",
       "      <td>2001</td>\n",
       "      <td>JULY</td>\n",
       "      <td>394</td>\n",
       "      <td>0</td>\n",
       "      <td>32</td>\n",
       "      <td>10</td>\n",
       "    </tr>\n",
       "    <tr>\n",
       "      <th>10</th>\n",
       "      <td>2001</td>\n",
       "      <td>JUNE</td>\n",
       "      <td>319</td>\n",
       "      <td>0</td>\n",
       "      <td>13</td>\n",
       "      <td>28</td>\n",
       "    </tr>\n",
       "    <tr>\n",
       "      <th>11</th>\n",
       "      <td>2001</td>\n",
       "      <td>MAY</td>\n",
       "      <td>932</td>\n",
       "      <td>0</td>\n",
       "      <td>46</td>\n",
       "      <td>17</td>\n",
       "    </tr>\n",
       "    <tr>\n",
       "      <th>12</th>\n",
       "      <td>2001</td>\n",
       "      <td>APRIL</td>\n",
       "      <td>715</td>\n",
       "      <td>0</td>\n",
       "      <td>23</td>\n",
       "      <td>7</td>\n",
       "    </tr>\n",
       "    <tr>\n",
       "      <th>13</th>\n",
       "      <td>2001</td>\n",
       "      <td>MARCH</td>\n",
       "      <td>927</td>\n",
       "      <td>0</td>\n",
       "      <td>27</td>\n",
       "      <td>8</td>\n",
       "    </tr>\n",
       "    <tr>\n",
       "      <th>14</th>\n",
       "      <td>2001</td>\n",
       "      <td>FEBRUARY</td>\n",
       "      <td>598</td>\n",
       "      <td>0</td>\n",
       "      <td>19</td>\n",
       "      <td>13</td>\n",
       "    </tr>\n",
       "  </tbody>\n",
       "</table>\n",
       "</div>"
      ],
      "text/plain": [
       "    year      month  palestinians_injuries  israelis_injuries  \\\n",
       "0   2000   DECEMBER                    781                  0   \n",
       "1   2000   NOVEMBER                   3838                  0   \n",
       "2   2000    OCTOBER                   5984                  0   \n",
       "3   2000  SEPTEMBER                      0                  0   \n",
       "4   2001   DECEMBER                    304                  0   \n",
       "5   2001   NOVEMBER                    160                  0   \n",
       "6   2001    OCTOBER                    407                  0   \n",
       "7   2001  SEPTEMBER                    657                  0   \n",
       "8   2001     AUGUST                    502                  0   \n",
       "9   2001       JULY                    394                  0   \n",
       "10  2001       JUNE                    319                  0   \n",
       "11  2001        MAY                    932                  0   \n",
       "12  2001      APRIL                    715                  0   \n",
       "13  2001      MARCH                    927                  0   \n",
       "14  2001   FEBRUARY                    598                  0   \n",
       "\n",
       "    palestinians_killed  israelis_killed  \n",
       "0                    51                8  \n",
       "1                   112               22  \n",
       "2                   104               10  \n",
       "3                    16                1  \n",
       "4                    67               36  \n",
       "5                    39               14  \n",
       "6                    89               14  \n",
       "7                    59               13  \n",
       "8                    37               26  \n",
       "9                    32               10  \n",
       "10                   13               28  \n",
       "11                   46               17  \n",
       "12                   23                7  \n",
       "13                   27                8  \n",
       "14                   19               13  "
      ]
     },
     "execution_count": 20,
     "metadata": {},
     "output_type": "execute_result"
    }
   ],
   "source": [
    "df.head(15)"
   ]
  },
  {
   "cell_type": "code",
   "execution_count": 8,
   "metadata": {},
   "outputs": [
    {
     "data": {
      "application/vnd.plotly.v1+json": {
       "config": {
        "plotlyServerURL": "https://plot.ly"
       },
       "data": [
        {
         "alignmentgroup": "True",
         "hovertemplate": "Variable Type=palestinians_injuries<br>month=%{x}<br>Count=%{y}<extra></extra>",
         "legendgroup": "palestinians_injuries",
         "marker": {
          "color": "#636efa",
          "pattern": {
           "shape": ""
          }
         },
         "name": "palestinians_injuries",
         "offsetgroup": "palestinians_injuries",
         "orientation": "v",
         "showlegend": true,
         "textposition": "auto",
         "type": "bar",
         "x": [
          "DECEMBER",
          "NOVEMBER",
          "OCTOBER",
          "SEPTEMBER",
          "DECEMBER",
          "NOVEMBER",
          "OCTOBER",
          "SEPTEMBER",
          "AUGUST",
          "JULY",
          "JUNE",
          "MAY",
          "APRIL",
          "MARCH",
          "FEBRUARY",
          "JANUARY",
          "DECEMBER",
          "NOVEMBER",
          "OCTOBER",
          "SEPTEMBER",
          "AUGUST",
          "JULY",
          "JUNE",
          "MAY",
          "APRIL",
          "MARCH",
          "FEBRUARY",
          "JANUARY",
          "DECEMBER",
          "NOVEMBER",
          "OCTOBER",
          "SEPTEMBER",
          "AUGUST",
          "JULY",
          "JUNE",
          "MAY",
          "APRIL",
          "MARCH",
          "FEBRUARY",
          "JANUARY",
          "DECEMBER",
          "NOVEMBER",
          "OCTOBER",
          "SEPTEMBER",
          "AUGUST",
          "JULY",
          "JUNE",
          "MAY",
          "APRIL",
          "MARCH",
          "FEBRUARY",
          "JANUARY",
          "DECEMBER",
          "NOVEMBER",
          "OCTOBER",
          "SEPTEMBER",
          "AUGUST",
          "JULY",
          "JUNE",
          "MAY",
          "APRIL",
          "MARCH",
          "FEBRUARY",
          "JANUARY",
          "DECEMBER",
          "NOVEMBER",
          "OCTOBER",
          "SEPTEMBER",
          "AUGUST",
          "JULY",
          "JUNE",
          "MAY",
          "APRIL",
          "MARCH",
          "FEBRUARY",
          "JANUARY",
          "DECEMBER",
          "NOVEMBER",
          "OCTOBER",
          "SEPTEMBER",
          "AUGUST",
          "JULY",
          "JUNE",
          "MAY",
          "APRIL",
          "MARCH",
          "FEBRUARY",
          "JANUARY",
          "DECEMBER",
          "NOVEMBER",
          "OCTOBER",
          "SEPTEMBER",
          "AUGUST",
          "JULY",
          "JUNE",
          "MAY",
          "APRIL",
          "MARCH",
          "FEBRUARY",
          "JANUARY",
          "DECEMBER",
          "NOVEMBER",
          "OCTOBER",
          "SEPTEMBER",
          "AUGUST",
          "JULY",
          "JUNE",
          "MAY",
          "APRIL",
          "MARCH",
          "FEBRUARY",
          "JANUARY",
          "DECEMBER",
          "NOVEMBER",
          "OCTOBER",
          "SEPTEMBER",
          "AUGUST",
          "JULY",
          "JUNE",
          "MAY",
          "APRIL",
          "MARCH",
          "FEBRUARY",
          "JANUARY",
          "DECEMBER",
          "NOVEMBER",
          "OCTOBER",
          "SEPTEMBER",
          "AUGUST",
          "JULY",
          "JUNE",
          "MAY",
          "APRIL",
          "MARCH",
          "FEBRUARY",
          "JANUARY",
          "DECEMBER",
          "NOVEMBER",
          "OCTOBER",
          "SEPTEMBER",
          "AUGUST",
          "JULY",
          "JUNE",
          "MAY",
          "APRIL",
          "MARCH",
          "FEBRUARY",
          "JANUARY",
          "DECEMBER",
          "NOVEMBER",
          "OCTOBER",
          "SEPTEMBER",
          "AUGUST",
          "JULY",
          "JUNE",
          "MAY",
          "APRIL",
          "MARCH",
          "FEBRUARY",
          "JANUARY",
          "DECEMBER",
          "NOVEMBER",
          "OCTOBER",
          "SEPTEMBER",
          "AUGUST",
          "JULY",
          "JUNE",
          "MAY",
          "APRIL",
          "MARCH",
          "FEBRUARY",
          "JANUARY",
          "DECEMBER",
          "NOVEMBER",
          "OCTOBER",
          "SEPTEMBER",
          "AUGUST",
          "JULY",
          "JUNE",
          "MAY",
          "APRIL",
          "MARCH",
          "FEBRUARY",
          "JANUARY",
          "DECEMBER",
          "NOVEMBER",
          "OCTOBER",
          "SEPTEMBER",
          "AUGUST",
          "JULY",
          "JUNE",
          "MAY",
          "APRIL",
          "MARCH",
          "FEBRUARY",
          "JANUARY",
          "DECEMBER",
          "NOVEMBER",
          "OCTOBER",
          "SEPTEMBER",
          "AUGUST",
          "JULY",
          "JUNE",
          "MAY",
          "APRIL",
          "MARCH",
          "FEBRUARY",
          "JANUARY",
          "DECEMBER",
          "NOVEMBER",
          "OCTOBER",
          "SEPTEMBER",
          "AUGUST",
          "JULY",
          "JUNE",
          "MAY",
          "APRIL",
          "MARCH",
          "FEBRUARY",
          "JANUARY",
          "DECEMBER",
          "NOVEMBER",
          "OCTOBER",
          "SEPTEMBER",
          "AUGUST",
          "JULY",
          "JUNE",
          "MAY",
          "APRIL",
          "MARCH",
          "FEBRUARY",
          "JANUARY",
          "DECEMBER",
          "NOVEMBER",
          "OCTOBER",
          "SEPTEMBER",
          "AUGUST",
          "JULY",
          "JUNE",
          "MAY",
          "APRIL",
          "MARCH",
          "FEBRUARY",
          "JANUARY",
          "JANUARY",
          "FEBRUARY",
          "MARCH",
          "APRIL",
          "MAY"
         ],
         "xaxis": "x",
         "y": [
          781,
          3838,
          5984,
          0,
          304,
          160,
          407,
          657,
          502,
          394,
          319,
          932,
          715,
          927,
          598,
          471,
          185,
          264,
          388,
          353,
          186,
          374,
          299,
          181,
          523,
          870,
          429,
          330,
          322,
          106,
          289,
          226,
          191,
          34,
          367,
          239,
          303,
          379,
          244,
          292,
          161,
          98,
          343,
          579,
          287,
          251,
          377,
          545,
          346,
          417,
          437,
          168,
          166,
          99,
          81,
          90,
          130,
          165,
          116,
          81,
          183,
          68,
          42,
          164,
          73,
          491,
          180,
          196,
          266,
          799,
          198,
          257,
          254,
          203,
          194,
          88,
          13720,
          127,
          152,
          135,
          154,
          67,
          162,
          281,
          115,
          153,
          256,
          104,
          0,
          0,
          0,
          0,
          0,
          0,
          0,
          0,
          0,
          0,
          0,
          0,
          195,
          30,
          88,
          80,
          36,
          26,
          89,
          82,
          136,
          87,
          65,
          5557,
          105,
          87,
          147,
          148,
          46,
          85,
          104,
          118,
          119,
          402,
          92,
          86,
          210,
          63,
          110,
          149,
          191,
          156,
          159,
          397,
          193,
          204,
          135,
          143,
          198,
          2252,
          89,
          161,
          169,
          202,
          231,
          703,
          169,
          404,
          256,
          60,
          159,
          320,
          105,
          374,
          137,
          138,
          124,
          429,
          656,
          493,
          766,
          263,
          350,
          984,
          291,
          209,
          13735,
          0,
          326,
          265,
          302,
          228,
          216,
          219,
          2222,
          3888,
          7555,
          413,
          196,
          141,
          78,
          284,
          223,
          176,
          167,
          134,
          105,
          97,
          169,
          210,
          261,
          256,
          167,
          434,
          286,
          348,
          514,
          582,
          4580,
          89,
          120,
          118,
          135,
          1772,
          790,
          0,
          150,
          189,
          97,
          44,
          0,
          0,
          0,
          0,
          0,
          0,
          0,
          0,
          0,
          0,
          0,
          0,
          0,
          0,
          0,
          0,
          0,
          0,
          0,
          0,
          0,
          0,
          0,
          0,
          0,
          0,
          0,
          0,
          0,
          0,
          0,
          0,
          0,
          0,
          0,
          0,
          0,
          0,
          0,
          0,
          0
         ],
         "yaxis": "y"
        },
        {
         "alignmentgroup": "True",
         "hovertemplate": "Variable Type=israelis_injuries<br>month=%{x}<br>Count=%{y}<extra></extra>",
         "legendgroup": "israelis_injuries",
         "marker": {
          "color": "#EF553B",
          "pattern": {
           "shape": ""
          }
         },
         "name": "israelis_injuries",
         "offsetgroup": "israelis_injuries",
         "orientation": "v",
         "showlegend": true,
         "textposition": "auto",
         "type": "bar",
         "x": [
          "DECEMBER",
          "NOVEMBER",
          "OCTOBER",
          "SEPTEMBER",
          "DECEMBER",
          "NOVEMBER",
          "OCTOBER",
          "SEPTEMBER",
          "AUGUST",
          "JULY",
          "JUNE",
          "MAY",
          "APRIL",
          "MARCH",
          "FEBRUARY",
          "JANUARY",
          "DECEMBER",
          "NOVEMBER",
          "OCTOBER",
          "SEPTEMBER",
          "AUGUST",
          "JULY",
          "JUNE",
          "MAY",
          "APRIL",
          "MARCH",
          "FEBRUARY",
          "JANUARY",
          "DECEMBER",
          "NOVEMBER",
          "OCTOBER",
          "SEPTEMBER",
          "AUGUST",
          "JULY",
          "JUNE",
          "MAY",
          "APRIL",
          "MARCH",
          "FEBRUARY",
          "JANUARY",
          "DECEMBER",
          "NOVEMBER",
          "OCTOBER",
          "SEPTEMBER",
          "AUGUST",
          "JULY",
          "JUNE",
          "MAY",
          "APRIL",
          "MARCH",
          "FEBRUARY",
          "JANUARY",
          "DECEMBER",
          "NOVEMBER",
          "OCTOBER",
          "SEPTEMBER",
          "AUGUST",
          "JULY",
          "JUNE",
          "MAY",
          "APRIL",
          "MARCH",
          "FEBRUARY",
          "JANUARY",
          "DECEMBER",
          "NOVEMBER",
          "OCTOBER",
          "SEPTEMBER",
          "AUGUST",
          "JULY",
          "JUNE",
          "MAY",
          "APRIL",
          "MARCH",
          "FEBRUARY",
          "JANUARY",
          "DECEMBER",
          "NOVEMBER",
          "OCTOBER",
          "SEPTEMBER",
          "AUGUST",
          "JULY",
          "JUNE",
          "MAY",
          "APRIL",
          "MARCH",
          "FEBRUARY",
          "JANUARY",
          "DECEMBER",
          "NOVEMBER",
          "OCTOBER",
          "SEPTEMBER",
          "AUGUST",
          "JULY",
          "JUNE",
          "MAY",
          "APRIL",
          "MARCH",
          "FEBRUARY",
          "JANUARY",
          "DECEMBER",
          "NOVEMBER",
          "OCTOBER",
          "SEPTEMBER",
          "AUGUST",
          "JULY",
          "JUNE",
          "MAY",
          "APRIL",
          "MARCH",
          "FEBRUARY",
          "JANUARY",
          "DECEMBER",
          "NOVEMBER",
          "OCTOBER",
          "SEPTEMBER",
          "AUGUST",
          "JULY",
          "JUNE",
          "MAY",
          "APRIL",
          "MARCH",
          "FEBRUARY",
          "JANUARY",
          "DECEMBER",
          "NOVEMBER",
          "OCTOBER",
          "SEPTEMBER",
          "AUGUST",
          "JULY",
          "JUNE",
          "MAY",
          "APRIL",
          "MARCH",
          "FEBRUARY",
          "JANUARY",
          "DECEMBER",
          "NOVEMBER",
          "OCTOBER",
          "SEPTEMBER",
          "AUGUST",
          "JULY",
          "JUNE",
          "MAY",
          "APRIL",
          "MARCH",
          "FEBRUARY",
          "JANUARY",
          "DECEMBER",
          "NOVEMBER",
          "OCTOBER",
          "SEPTEMBER",
          "AUGUST",
          "JULY",
          "JUNE",
          "MAY",
          "APRIL",
          "MARCH",
          "FEBRUARY",
          "JANUARY",
          "DECEMBER",
          "NOVEMBER",
          "OCTOBER",
          "SEPTEMBER",
          "AUGUST",
          "JULY",
          "JUNE",
          "MAY",
          "APRIL",
          "MARCH",
          "FEBRUARY",
          "JANUARY",
          "DECEMBER",
          "NOVEMBER",
          "OCTOBER",
          "SEPTEMBER",
          "AUGUST",
          "JULY",
          "JUNE",
          "MAY",
          "APRIL",
          "MARCH",
          "FEBRUARY",
          "JANUARY",
          "DECEMBER",
          "NOVEMBER",
          "OCTOBER",
          "SEPTEMBER",
          "AUGUST",
          "JULY",
          "JUNE",
          "MAY",
          "APRIL",
          "MARCH",
          "FEBRUARY",
          "JANUARY",
          "DECEMBER",
          "NOVEMBER",
          "OCTOBER",
          "SEPTEMBER",
          "AUGUST",
          "JULY",
          "JUNE",
          "MAY",
          "APRIL",
          "MARCH",
          "FEBRUARY",
          "JANUARY",
          "DECEMBER",
          "NOVEMBER",
          "OCTOBER",
          "SEPTEMBER",
          "AUGUST",
          "JULY",
          "JUNE",
          "MAY",
          "APRIL",
          "MARCH",
          "FEBRUARY",
          "JANUARY",
          "DECEMBER",
          "NOVEMBER",
          "OCTOBER",
          "SEPTEMBER",
          "AUGUST",
          "JULY",
          "JUNE",
          "MAY",
          "APRIL",
          "MARCH",
          "FEBRUARY",
          "JANUARY",
          "DECEMBER",
          "NOVEMBER",
          "OCTOBER",
          "SEPTEMBER",
          "AUGUST",
          "JULY",
          "JUNE",
          "MAY",
          "APRIL",
          "MARCH",
          "FEBRUARY",
          "JANUARY",
          "JANUARY",
          "FEBRUARY",
          "MARCH",
          "APRIL",
          "MAY"
         ],
         "xaxis": "x",
         "y": [
          0,
          0,
          0,
          0,
          0,
          0,
          0,
          0,
          0,
          0,
          0,
          0,
          0,
          0,
          0,
          0,
          0,
          0,
          0,
          0,
          0,
          0,
          0,
          0,
          0,
          0,
          0,
          0,
          0,
          0,
          0,
          0,
          0,
          0,
          0,
          0,
          0,
          0,
          0,
          0,
          0,
          0,
          0,
          0,
          0,
          0,
          0,
          0,
          0,
          0,
          0,
          0,
          88,
          17,
          46,
          25,
          16,
          105,
          20,
          17,
          19,
          17,
          62,
          61,
          12,
          30,
          19,
          24,
          10,
          41,
          26,
          14,
          78,
          46,
          30,
          47,
          20,
          6,
          13,
          87,
          56,
          7,
          19,
          30,
          22,
          15,
          35,
          12,
          0,
          0,
          0,
          0,
          0,
          0,
          0,
          0,
          0,
          0,
          0,
          0,
          0,
          0,
          0,
          0,
          0,
          0,
          0,
          0,
          0,
          0,
          0,
          0,
          5,
          7,
          5,
          12,
          11,
          0,
          21,
          17,
          10,
          59,
          14,
          15,
          6,
          3,
          9,
          5,
          22,
          3,
          9,
          36,
          10,
          13,
          3,
          5,
          6,
          253,
          1,
          7,
          5,
          12,
          4,
          15,
          9,
          16,
          14,
          3,
          4,
          5,
          15,
          9,
          5,
          11,
          1,
          33,
          17,
          21,
          24,
          6,
          15,
          55,
          32,
          22,
          2347,
          0,
          5,
          28,
          15,
          5,
          6,
          9,
          43,
          50,
          80,
          39,
          20,
          8,
          14,
          11,
          13,
          13,
          5,
          8,
          18,
          7,
          17,
          14,
          2,
          9,
          30,
          2,
          21,
          27,
          8,
          16,
          10,
          8,
          5,
          5,
          2,
          23,
          20,
          0,
          12,
          19,
          37,
          17,
          0,
          0,
          0,
          0,
          0,
          0,
          0,
          0,
          0,
          0,
          0,
          0,
          0,
          0,
          0,
          0,
          0,
          0,
          0,
          0,
          0,
          0,
          0,
          0,
          0,
          0,
          0,
          0,
          0,
          0,
          0,
          0,
          0,
          0,
          0,
          0,
          0,
          0,
          0,
          0,
          0
         ],
         "yaxis": "y"
        }
       ],
       "layout": {
        "barmode": "group",
        "legend": {
         "title": {
          "text": "Variable Type"
         },
         "tracegroupgap": 0
        },
        "template": {
         "data": {
          "bar": [
           {
            "error_x": {
             "color": "#2a3f5f"
            },
            "error_y": {
             "color": "#2a3f5f"
            },
            "marker": {
             "line": {
              "color": "#E5ECF6",
              "width": 0.5
             },
             "pattern": {
              "fillmode": "overlay",
              "size": 10,
              "solidity": 0.2
             }
            },
            "type": "bar"
           }
          ],
          "barpolar": [
           {
            "marker": {
             "line": {
              "color": "#E5ECF6",
              "width": 0.5
             },
             "pattern": {
              "fillmode": "overlay",
              "size": 10,
              "solidity": 0.2
             }
            },
            "type": "barpolar"
           }
          ],
          "carpet": [
           {
            "aaxis": {
             "endlinecolor": "#2a3f5f",
             "gridcolor": "white",
             "linecolor": "white",
             "minorgridcolor": "white",
             "startlinecolor": "#2a3f5f"
            },
            "baxis": {
             "endlinecolor": "#2a3f5f",
             "gridcolor": "white",
             "linecolor": "white",
             "minorgridcolor": "white",
             "startlinecolor": "#2a3f5f"
            },
            "type": "carpet"
           }
          ],
          "choropleth": [
           {
            "colorbar": {
             "outlinewidth": 0,
             "ticks": ""
            },
            "type": "choropleth"
           }
          ],
          "contour": [
           {
            "colorbar": {
             "outlinewidth": 0,
             "ticks": ""
            },
            "colorscale": [
             [
              0,
              "#0d0887"
             ],
             [
              0.1111111111111111,
              "#46039f"
             ],
             [
              0.2222222222222222,
              "#7201a8"
             ],
             [
              0.3333333333333333,
              "#9c179e"
             ],
             [
              0.4444444444444444,
              "#bd3786"
             ],
             [
              0.5555555555555556,
              "#d8576b"
             ],
             [
              0.6666666666666666,
              "#ed7953"
             ],
             [
              0.7777777777777778,
              "#fb9f3a"
             ],
             [
              0.8888888888888888,
              "#fdca26"
             ],
             [
              1,
              "#f0f921"
             ]
            ],
            "type": "contour"
           }
          ],
          "contourcarpet": [
           {
            "colorbar": {
             "outlinewidth": 0,
             "ticks": ""
            },
            "type": "contourcarpet"
           }
          ],
          "heatmap": [
           {
            "colorbar": {
             "outlinewidth": 0,
             "ticks": ""
            },
            "colorscale": [
             [
              0,
              "#0d0887"
             ],
             [
              0.1111111111111111,
              "#46039f"
             ],
             [
              0.2222222222222222,
              "#7201a8"
             ],
             [
              0.3333333333333333,
              "#9c179e"
             ],
             [
              0.4444444444444444,
              "#bd3786"
             ],
             [
              0.5555555555555556,
              "#d8576b"
             ],
             [
              0.6666666666666666,
              "#ed7953"
             ],
             [
              0.7777777777777778,
              "#fb9f3a"
             ],
             [
              0.8888888888888888,
              "#fdca26"
             ],
             [
              1,
              "#f0f921"
             ]
            ],
            "type": "heatmap"
           }
          ],
          "heatmapgl": [
           {
            "colorbar": {
             "outlinewidth": 0,
             "ticks": ""
            },
            "colorscale": [
             [
              0,
              "#0d0887"
             ],
             [
              0.1111111111111111,
              "#46039f"
             ],
             [
              0.2222222222222222,
              "#7201a8"
             ],
             [
              0.3333333333333333,
              "#9c179e"
             ],
             [
              0.4444444444444444,
              "#bd3786"
             ],
             [
              0.5555555555555556,
              "#d8576b"
             ],
             [
              0.6666666666666666,
              "#ed7953"
             ],
             [
              0.7777777777777778,
              "#fb9f3a"
             ],
             [
              0.8888888888888888,
              "#fdca26"
             ],
             [
              1,
              "#f0f921"
             ]
            ],
            "type": "heatmapgl"
           }
          ],
          "histogram": [
           {
            "marker": {
             "pattern": {
              "fillmode": "overlay",
              "size": 10,
              "solidity": 0.2
             }
            },
            "type": "histogram"
           }
          ],
          "histogram2d": [
           {
            "colorbar": {
             "outlinewidth": 0,
             "ticks": ""
            },
            "colorscale": [
             [
              0,
              "#0d0887"
             ],
             [
              0.1111111111111111,
              "#46039f"
             ],
             [
              0.2222222222222222,
              "#7201a8"
             ],
             [
              0.3333333333333333,
              "#9c179e"
             ],
             [
              0.4444444444444444,
              "#bd3786"
             ],
             [
              0.5555555555555556,
              "#d8576b"
             ],
             [
              0.6666666666666666,
              "#ed7953"
             ],
             [
              0.7777777777777778,
              "#fb9f3a"
             ],
             [
              0.8888888888888888,
              "#fdca26"
             ],
             [
              1,
              "#f0f921"
             ]
            ],
            "type": "histogram2d"
           }
          ],
          "histogram2dcontour": [
           {
            "colorbar": {
             "outlinewidth": 0,
             "ticks": ""
            },
            "colorscale": [
             [
              0,
              "#0d0887"
             ],
             [
              0.1111111111111111,
              "#46039f"
             ],
             [
              0.2222222222222222,
              "#7201a8"
             ],
             [
              0.3333333333333333,
              "#9c179e"
             ],
             [
              0.4444444444444444,
              "#bd3786"
             ],
             [
              0.5555555555555556,
              "#d8576b"
             ],
             [
              0.6666666666666666,
              "#ed7953"
             ],
             [
              0.7777777777777778,
              "#fb9f3a"
             ],
             [
              0.8888888888888888,
              "#fdca26"
             ],
             [
              1,
              "#f0f921"
             ]
            ],
            "type": "histogram2dcontour"
           }
          ],
          "mesh3d": [
           {
            "colorbar": {
             "outlinewidth": 0,
             "ticks": ""
            },
            "type": "mesh3d"
           }
          ],
          "parcoords": [
           {
            "line": {
             "colorbar": {
              "outlinewidth": 0,
              "ticks": ""
             }
            },
            "type": "parcoords"
           }
          ],
          "pie": [
           {
            "automargin": true,
            "type": "pie"
           }
          ],
          "scatter": [
           {
            "fillpattern": {
             "fillmode": "overlay",
             "size": 10,
             "solidity": 0.2
            },
            "type": "scatter"
           }
          ],
          "scatter3d": [
           {
            "line": {
             "colorbar": {
              "outlinewidth": 0,
              "ticks": ""
             }
            },
            "marker": {
             "colorbar": {
              "outlinewidth": 0,
              "ticks": ""
             }
            },
            "type": "scatter3d"
           }
          ],
          "scattercarpet": [
           {
            "marker": {
             "colorbar": {
              "outlinewidth": 0,
              "ticks": ""
             }
            },
            "type": "scattercarpet"
           }
          ],
          "scattergeo": [
           {
            "marker": {
             "colorbar": {
              "outlinewidth": 0,
              "ticks": ""
             }
            },
            "type": "scattergeo"
           }
          ],
          "scattergl": [
           {
            "marker": {
             "colorbar": {
              "outlinewidth": 0,
              "ticks": ""
             }
            },
            "type": "scattergl"
           }
          ],
          "scattermapbox": [
           {
            "marker": {
             "colorbar": {
              "outlinewidth": 0,
              "ticks": ""
             }
            },
            "type": "scattermapbox"
           }
          ],
          "scatterpolar": [
           {
            "marker": {
             "colorbar": {
              "outlinewidth": 0,
              "ticks": ""
             }
            },
            "type": "scatterpolar"
           }
          ],
          "scatterpolargl": [
           {
            "marker": {
             "colorbar": {
              "outlinewidth": 0,
              "ticks": ""
             }
            },
            "type": "scatterpolargl"
           }
          ],
          "scatterternary": [
           {
            "marker": {
             "colorbar": {
              "outlinewidth": 0,
              "ticks": ""
             }
            },
            "type": "scatterternary"
           }
          ],
          "surface": [
           {
            "colorbar": {
             "outlinewidth": 0,
             "ticks": ""
            },
            "colorscale": [
             [
              0,
              "#0d0887"
             ],
             [
              0.1111111111111111,
              "#46039f"
             ],
             [
              0.2222222222222222,
              "#7201a8"
             ],
             [
              0.3333333333333333,
              "#9c179e"
             ],
             [
              0.4444444444444444,
              "#bd3786"
             ],
             [
              0.5555555555555556,
              "#d8576b"
             ],
             [
              0.6666666666666666,
              "#ed7953"
             ],
             [
              0.7777777777777778,
              "#fb9f3a"
             ],
             [
              0.8888888888888888,
              "#fdca26"
             ],
             [
              1,
              "#f0f921"
             ]
            ],
            "type": "surface"
           }
          ],
          "table": [
           {
            "cells": {
             "fill": {
              "color": "#EBF0F8"
             },
             "line": {
              "color": "white"
             }
            },
            "header": {
             "fill": {
              "color": "#C8D4E3"
             },
             "line": {
              "color": "white"
             }
            },
            "type": "table"
           }
          ]
         },
         "layout": {
          "annotationdefaults": {
           "arrowcolor": "#2a3f5f",
           "arrowhead": 0,
           "arrowwidth": 1
          },
          "autotypenumbers": "strict",
          "coloraxis": {
           "colorbar": {
            "outlinewidth": 0,
            "ticks": ""
           }
          },
          "colorscale": {
           "diverging": [
            [
             0,
             "#8e0152"
            ],
            [
             0.1,
             "#c51b7d"
            ],
            [
             0.2,
             "#de77ae"
            ],
            [
             0.3,
             "#f1b6da"
            ],
            [
             0.4,
             "#fde0ef"
            ],
            [
             0.5,
             "#f7f7f7"
            ],
            [
             0.6,
             "#e6f5d0"
            ],
            [
             0.7,
             "#b8e186"
            ],
            [
             0.8,
             "#7fbc41"
            ],
            [
             0.9,
             "#4d9221"
            ],
            [
             1,
             "#276419"
            ]
           ],
           "sequential": [
            [
             0,
             "#0d0887"
            ],
            [
             0.1111111111111111,
             "#46039f"
            ],
            [
             0.2222222222222222,
             "#7201a8"
            ],
            [
             0.3333333333333333,
             "#9c179e"
            ],
            [
             0.4444444444444444,
             "#bd3786"
            ],
            [
             0.5555555555555556,
             "#d8576b"
            ],
            [
             0.6666666666666666,
             "#ed7953"
            ],
            [
             0.7777777777777778,
             "#fb9f3a"
            ],
            [
             0.8888888888888888,
             "#fdca26"
            ],
            [
             1,
             "#f0f921"
            ]
           ],
           "sequentialminus": [
            [
             0,
             "#0d0887"
            ],
            [
             0.1111111111111111,
             "#46039f"
            ],
            [
             0.2222222222222222,
             "#7201a8"
            ],
            [
             0.3333333333333333,
             "#9c179e"
            ],
            [
             0.4444444444444444,
             "#bd3786"
            ],
            [
             0.5555555555555556,
             "#d8576b"
            ],
            [
             0.6666666666666666,
             "#ed7953"
            ],
            [
             0.7777777777777778,
             "#fb9f3a"
            ],
            [
             0.8888888888888888,
             "#fdca26"
            ],
            [
             1,
             "#f0f921"
            ]
           ]
          },
          "colorway": [
           "#636efa",
           "#EF553B",
           "#00cc96",
           "#ab63fa",
           "#FFA15A",
           "#19d3f3",
           "#FF6692",
           "#B6E880",
           "#FF97FF",
           "#FECB52"
          ],
          "font": {
           "color": "#2a3f5f"
          },
          "geo": {
           "bgcolor": "white",
           "lakecolor": "white",
           "landcolor": "#E5ECF6",
           "showlakes": true,
           "showland": true,
           "subunitcolor": "white"
          },
          "hoverlabel": {
           "align": "left"
          },
          "hovermode": "closest",
          "mapbox": {
           "style": "light"
          },
          "paper_bgcolor": "white",
          "plot_bgcolor": "#E5ECF6",
          "polar": {
           "angularaxis": {
            "gridcolor": "white",
            "linecolor": "white",
            "ticks": ""
           },
           "bgcolor": "#E5ECF6",
           "radialaxis": {
            "gridcolor": "white",
            "linecolor": "white",
            "ticks": ""
           }
          },
          "scene": {
           "xaxis": {
            "backgroundcolor": "#E5ECF6",
            "gridcolor": "white",
            "gridwidth": 2,
            "linecolor": "white",
            "showbackground": true,
            "ticks": "",
            "zerolinecolor": "white"
           },
           "yaxis": {
            "backgroundcolor": "#E5ECF6",
            "gridcolor": "white",
            "gridwidth": 2,
            "linecolor": "white",
            "showbackground": true,
            "ticks": "",
            "zerolinecolor": "white"
           },
           "zaxis": {
            "backgroundcolor": "#E5ECF6",
            "gridcolor": "white",
            "gridwidth": 2,
            "linecolor": "white",
            "showbackground": true,
            "ticks": "",
            "zerolinecolor": "white"
           }
          },
          "shapedefaults": {
           "line": {
            "color": "#2a3f5f"
           }
          },
          "ternary": {
           "aaxis": {
            "gridcolor": "white",
            "linecolor": "white",
            "ticks": ""
           },
           "baxis": {
            "gridcolor": "white",
            "linecolor": "white",
            "ticks": ""
           },
           "bgcolor": "#E5ECF6",
           "caxis": {
            "gridcolor": "white",
            "linecolor": "white",
            "ticks": ""
           }
          },
          "title": {
           "x": 0.05
          },
          "xaxis": {
           "automargin": true,
           "gridcolor": "white",
           "linecolor": "white",
           "ticks": "",
           "title": {
            "standoff": 15
           },
           "zerolinecolor": "white",
           "zerolinewidth": 2
          },
          "yaxis": {
           "automargin": true,
           "gridcolor": "white",
           "linecolor": "white",
           "ticks": "",
           "title": {
            "standoff": 15
           },
           "zerolinecolor": "white",
           "zerolinewidth": 2
          }
         }
        },
        "title": {
         "text": "Monthly Injuries"
        },
        "xaxis": {
         "anchor": "y",
         "domain": [
          0,
          1
         ],
         "title": {
          "text": "month"
         }
        },
        "yaxis": {
         "anchor": "x",
         "domain": [
          0,
          1
         ],
         "title": {
          "text": "Count"
         }
        }
       }
      }
     },
     "metadata": {},
     "output_type": "display_data"
    }
   ],
   "source": [
    "fig = px.bar(data_frame=df, x='month', y=['palestinians_injuries', 'israelis_injuries'],\n",
    "            title='Monthly Injuries',            \n",
    "            labels={'value': 'Count', 'variable': 'Variable Type'},\n",
    "            barmode='group')\n",
    "fig.show()"
   ]
  },
  {
   "cell_type": "code",
   "execution_count": 9,
   "metadata": {},
   "outputs": [
    {
     "data": {
      "application/vnd.plotly.v1+json": {
       "config": {
        "plotlyServerURL": "https://plot.ly"
       },
       "data": [
        {
         "alignmentgroup": "True",
         "hovertemplate": "Type=palestinians_killed<br>Month=%{x}<br>Count=%{y}<extra></extra>",
         "legendgroup": "palestinians_killed",
         "marker": {
          "color": "#636efa",
          "pattern": {
           "shape": ""
          }
         },
         "name": "palestinians_killed",
         "offsetgroup": "palestinians_killed",
         "orientation": "v",
         "showlegend": true,
         "textposition": "auto",
         "type": "bar",
         "x": [
          "DECEMBER",
          "NOVEMBER",
          "OCTOBER",
          "SEPTEMBER",
          "DECEMBER",
          "NOVEMBER",
          "OCTOBER",
          "SEPTEMBER",
          "AUGUST",
          "JULY",
          "JUNE",
          "MAY",
          "APRIL",
          "MARCH",
          "FEBRUARY",
          "JANUARY",
          "DECEMBER",
          "NOVEMBER",
          "OCTOBER",
          "SEPTEMBER",
          "AUGUST",
          "JULY",
          "JUNE",
          "MAY",
          "APRIL",
          "MARCH",
          "FEBRUARY",
          "JANUARY",
          "DECEMBER",
          "NOVEMBER",
          "OCTOBER",
          "SEPTEMBER",
          "AUGUST",
          "JULY",
          "JUNE",
          "MAY",
          "APRIL",
          "MARCH",
          "FEBRUARY",
          "JANUARY",
          "DECEMBER",
          "NOVEMBER",
          "OCTOBER",
          "SEPTEMBER",
          "AUGUST",
          "JULY",
          "JUNE",
          "MAY",
          "APRIL",
          "MARCH",
          "FEBRUARY",
          "JANUARY",
          "DECEMBER",
          "NOVEMBER",
          "OCTOBER",
          "SEPTEMBER",
          "AUGUST",
          "JULY",
          "JUNE",
          "MAY",
          "APRIL",
          "MARCH",
          "FEBRUARY",
          "JANUARY",
          "DECEMBER",
          "NOVEMBER",
          "OCTOBER",
          "SEPTEMBER",
          "AUGUST",
          "JULY",
          "JUNE",
          "MAY",
          "APRIL",
          "MARCH",
          "FEBRUARY",
          "JANUARY",
          "DECEMBER",
          "NOVEMBER",
          "OCTOBER",
          "SEPTEMBER",
          "AUGUST",
          "JULY",
          "JUNE",
          "MAY",
          "APRIL",
          "MARCH",
          "FEBRUARY",
          "JANUARY",
          "DECEMBER",
          "NOVEMBER",
          "OCTOBER",
          "SEPTEMBER",
          "AUGUST",
          "JULY",
          "JUNE",
          "MAY",
          "APRIL",
          "MARCH",
          "FEBRUARY",
          "JANUARY",
          "DECEMBER",
          "NOVEMBER",
          "OCTOBER",
          "SEPTEMBER",
          "AUGUST",
          "JULY",
          "JUNE",
          "MAY",
          "APRIL",
          "MARCH",
          "FEBRUARY",
          "JANUARY",
          "DECEMBER",
          "NOVEMBER",
          "OCTOBER",
          "SEPTEMBER",
          "AUGUST",
          "JULY",
          "JUNE",
          "MAY",
          "APRIL",
          "MARCH",
          "FEBRUARY",
          "JANUARY",
          "DECEMBER",
          "NOVEMBER",
          "OCTOBER",
          "SEPTEMBER",
          "AUGUST",
          "JULY",
          "JUNE",
          "MAY",
          "APRIL",
          "MARCH",
          "FEBRUARY",
          "JANUARY",
          "DECEMBER",
          "NOVEMBER",
          "OCTOBER",
          "SEPTEMBER",
          "AUGUST",
          "JULY",
          "JUNE",
          "MAY",
          "APRIL",
          "MARCH",
          "FEBRUARY",
          "JANUARY",
          "DECEMBER",
          "NOVEMBER",
          "OCTOBER",
          "SEPTEMBER",
          "AUGUST",
          "JULY",
          "JUNE",
          "MAY",
          "APRIL",
          "MARCH",
          "FEBRUARY",
          "JANUARY",
          "DECEMBER",
          "NOVEMBER",
          "OCTOBER",
          "SEPTEMBER",
          "AUGUST",
          "JULY",
          "JUNE",
          "MAY",
          "APRIL",
          "MARCH",
          "FEBRUARY",
          "JANUARY",
          "DECEMBER",
          "NOVEMBER",
          "OCTOBER",
          "SEPTEMBER",
          "AUGUST",
          "JULY",
          "JUNE",
          "MAY",
          "APRIL",
          "MARCH",
          "FEBRUARY",
          "JANUARY",
          "DECEMBER",
          "NOVEMBER",
          "OCTOBER",
          "SEPTEMBER",
          "AUGUST",
          "JULY",
          "JUNE",
          "MAY",
          "APRIL",
          "MARCH",
          "FEBRUARY",
          "JANUARY",
          "DECEMBER",
          "NOVEMBER",
          "OCTOBER",
          "SEPTEMBER",
          "AUGUST",
          "JULY",
          "JUNE",
          "MAY",
          "APRIL",
          "MARCH",
          "FEBRUARY",
          "JANUARY",
          "DECEMBER",
          "NOVEMBER",
          "OCTOBER",
          "SEPTEMBER",
          "AUGUST",
          "JULY",
          "JUNE",
          "MAY",
          "APRIL",
          "MARCH",
          "FEBRUARY",
          "JANUARY",
          "DECEMBER",
          "NOVEMBER",
          "OCTOBER",
          "SEPTEMBER",
          "AUGUST",
          "JULY",
          "JUNE",
          "MAY",
          "APRIL",
          "MARCH",
          "FEBRUARY",
          "JANUARY",
          "DECEMBER",
          "NOVEMBER",
          "OCTOBER",
          "SEPTEMBER",
          "AUGUST",
          "JULY",
          "JUNE",
          "MAY",
          "APRIL",
          "MARCH",
          "FEBRUARY",
          "JANUARY",
          "JANUARY",
          "FEBRUARY",
          "MARCH",
          "APRIL",
          "MAY"
         ],
         "xaxis": "x",
         "y": [
          51,
          112,
          104,
          16,
          67,
          39,
          89,
          59,
          37,
          32,
          13,
          46,
          23,
          27,
          19,
          19,
          72,
          46,
          66,
          51,
          53,
          43,
          57,
          48,
          246,
          237,
          85,
          28,
          48,
          30,
          58,
          29,
          26,
          4,
          59,
          61,
          59,
          85,
          69,
          60,
          61,
          42,
          145,
          112,
          39,
          0,
          59,
          113,
          55,
          79,
          54,
          27,
          20,
          15,
          22,
          17,
          11,
          25,
          5,
          10,
          5,
          1,
          9,
          50,
          14,
          134,
          61,
          32,
          74,
          180,
          43,
          37,
          31,
          15,
          31,
          13,
          61,
          31,
          36,
          34,
          47,
          27,
          40,
          62,
          16,
          9,
          12,
          10,
          432,
          15,
          4,
          3,
          0,
          8,
          30,
          40,
          72,
          114,
          79,
          89,
          6,
          1,
          0,
          9,
          6,
          2,
          4,
          6,
          6,
          9,
          9,
          978,
          13,
          3,
          6,
          13,
          2,
          5,
          15,
          2,
          5,
          8,
          2,
          8,
          8,
          4,
          12,
          2,
          30,
          4,
          0,
          2,
          24,
          15,
          6,
          10,
          2,
          181,
          12,
          8,
          1,
          3,
          15,
          0,
          1,
          28,
          2,
          2,
          5,
          9,
          4,
          2,
          6,
          1,
          0,
          0,
          3,
          2,
          1,
          5,
          5,
          8,
          8,
          20,
          614,
          1590,
          10,
          3,
          0,
          12,
          3,
          6,
          40,
          34,
          74,
          4,
          9,
          7,
          3,
          1,
          7,
          1,
          4,
          4,
          5,
          6,
          8,
          11,
          3,
          9,
          7,
          3,
          3,
          23,
          17,
          20,
          18,
          2,
          13,
          2,
          2,
          20,
          8,
          6,
          5,
          7,
          6,
          7,
          14,
          25,
          32,
          25,
          16,
          24,
          18,
          66,
          34,
          20,
          9,
          7,
          1,
          43,
          3,
          5,
          11,
          4,
          3,
          33,
          8,
          21,
          8,
          9,
          2,
          2,
          2,
          1,
          3,
          1,
          1,
          4,
          1,
          2,
          9,
          6,
          4,
          1,
          4,
          1,
          26
         ],
         "yaxis": "y"
        },
        {
         "alignmentgroup": "True",
         "hovertemplate": "Type=israelis_killed<br>Month=%{x}<br>Count=%{y}<extra></extra>",
         "legendgroup": "israelis_killed",
         "marker": {
          "color": "#EF553B",
          "pattern": {
           "shape": ""
          }
         },
         "name": "israelis_killed",
         "offsetgroup": "israelis_killed",
         "orientation": "v",
         "showlegend": true,
         "textposition": "auto",
         "type": "bar",
         "x": [
          "DECEMBER",
          "NOVEMBER",
          "OCTOBER",
          "SEPTEMBER",
          "DECEMBER",
          "NOVEMBER",
          "OCTOBER",
          "SEPTEMBER",
          "AUGUST",
          "JULY",
          "JUNE",
          "MAY",
          "APRIL",
          "MARCH",
          "FEBRUARY",
          "JANUARY",
          "DECEMBER",
          "NOVEMBER",
          "OCTOBER",
          "SEPTEMBER",
          "AUGUST",
          "JULY",
          "JUNE",
          "MAY",
          "APRIL",
          "MARCH",
          "FEBRUARY",
          "JANUARY",
          "DECEMBER",
          "NOVEMBER",
          "OCTOBER",
          "SEPTEMBER",
          "AUGUST",
          "JULY",
          "JUNE",
          "MAY",
          "APRIL",
          "MARCH",
          "FEBRUARY",
          "JANUARY",
          "DECEMBER",
          "NOVEMBER",
          "OCTOBER",
          "SEPTEMBER",
          "AUGUST",
          "JULY",
          "JUNE",
          "MAY",
          "APRIL",
          "MARCH",
          "FEBRUARY",
          "JANUARY",
          "DECEMBER",
          "NOVEMBER",
          "OCTOBER",
          "SEPTEMBER",
          "AUGUST",
          "JULY",
          "JUNE",
          "MAY",
          "APRIL",
          "MARCH",
          "FEBRUARY",
          "JANUARY",
          "DECEMBER",
          "NOVEMBER",
          "OCTOBER",
          "SEPTEMBER",
          "AUGUST",
          "JULY",
          "JUNE",
          "MAY",
          "APRIL",
          "MARCH",
          "FEBRUARY",
          "JANUARY",
          "DECEMBER",
          "NOVEMBER",
          "OCTOBER",
          "SEPTEMBER",
          "AUGUST",
          "JULY",
          "JUNE",
          "MAY",
          "APRIL",
          "MARCH",
          "FEBRUARY",
          "JANUARY",
          "DECEMBER",
          "NOVEMBER",
          "OCTOBER",
          "SEPTEMBER",
          "AUGUST",
          "JULY",
          "JUNE",
          "MAY",
          "APRIL",
          "MARCH",
          "FEBRUARY",
          "JANUARY",
          "DECEMBER",
          "NOVEMBER",
          "OCTOBER",
          "SEPTEMBER",
          "AUGUST",
          "JULY",
          "JUNE",
          "MAY",
          "APRIL",
          "MARCH",
          "FEBRUARY",
          "JANUARY",
          "DECEMBER",
          "NOVEMBER",
          "OCTOBER",
          "SEPTEMBER",
          "AUGUST",
          "JULY",
          "JUNE",
          "MAY",
          "APRIL",
          "MARCH",
          "FEBRUARY",
          "JANUARY",
          "DECEMBER",
          "NOVEMBER",
          "OCTOBER",
          "SEPTEMBER",
          "AUGUST",
          "JULY",
          "JUNE",
          "MAY",
          "APRIL",
          "MARCH",
          "FEBRUARY",
          "JANUARY",
          "DECEMBER",
          "NOVEMBER",
          "OCTOBER",
          "SEPTEMBER",
          "AUGUST",
          "JULY",
          "JUNE",
          "MAY",
          "APRIL",
          "MARCH",
          "FEBRUARY",
          "JANUARY",
          "DECEMBER",
          "NOVEMBER",
          "OCTOBER",
          "SEPTEMBER",
          "AUGUST",
          "JULY",
          "JUNE",
          "MAY",
          "APRIL",
          "MARCH",
          "FEBRUARY",
          "JANUARY",
          "DECEMBER",
          "NOVEMBER",
          "OCTOBER",
          "SEPTEMBER",
          "AUGUST",
          "JULY",
          "JUNE",
          "MAY",
          "APRIL",
          "MARCH",
          "FEBRUARY",
          "JANUARY",
          "DECEMBER",
          "NOVEMBER",
          "OCTOBER",
          "SEPTEMBER",
          "AUGUST",
          "JULY",
          "JUNE",
          "MAY",
          "APRIL",
          "MARCH",
          "FEBRUARY",
          "JANUARY",
          "DECEMBER",
          "NOVEMBER",
          "OCTOBER",
          "SEPTEMBER",
          "AUGUST",
          "JULY",
          "JUNE",
          "MAY",
          "APRIL",
          "MARCH",
          "FEBRUARY",
          "JANUARY",
          "DECEMBER",
          "NOVEMBER",
          "OCTOBER",
          "SEPTEMBER",
          "AUGUST",
          "JULY",
          "JUNE",
          "MAY",
          "APRIL",
          "MARCH",
          "FEBRUARY",
          "JANUARY",
          "DECEMBER",
          "NOVEMBER",
          "OCTOBER",
          "SEPTEMBER",
          "AUGUST",
          "JULY",
          "JUNE",
          "MAY",
          "APRIL",
          "MARCH",
          "FEBRUARY",
          "JANUARY",
          "DECEMBER",
          "NOVEMBER",
          "OCTOBER",
          "SEPTEMBER",
          "AUGUST",
          "JULY",
          "JUNE",
          "MAY",
          "APRIL",
          "MARCH",
          "FEBRUARY",
          "JANUARY",
          "DECEMBER",
          "NOVEMBER",
          "OCTOBER",
          "SEPTEMBER",
          "AUGUST",
          "JULY",
          "JUNE",
          "MAY",
          "APRIL",
          "MARCH",
          "FEBRUARY",
          "JANUARY",
          "JANUARY",
          "FEBRUARY",
          "MARCH",
          "APRIL",
          "MAY"
         ],
         "xaxis": "x",
         "y": [
          8,
          22,
          10,
          1,
          36,
          14,
          14,
          13,
          26,
          10,
          28,
          17,
          7,
          8,
          13,
          6,
          7,
          40,
          22,
          13,
          13,
          25,
          57,
          29,
          46,
          122,
          29,
          16,
          6,
          4,
          27,
          21,
          25,
          2,
          28,
          13,
          6,
          23,
          8,
          22,
          8,
          3,
          3,
          11,
          17,
          0,
          3,
          19,
          3,
          11,
          11,
          15,
          8,
          1,
          10,
          1,
          0,
          8,
          4,
          1,
          0,
          0,
          5,
          13,
          0,
          0,
          0,
          1,
          1,
          2,
          3,
          0,
          7,
          5,
          1,
          0,
          2,
          1,
          2,
          0,
          0,
          1,
          0,
          2,
          0,
          0,
          1,
          3,
          4,
          0,
          1,
          0,
          4,
          4,
          1,
          2,
          8,
          12,
          2,
          1,
          1,
          0,
          0,
          0,
          0,
          0,
          0,
          1,
          1,
          0,
          0,
          6,
          0,
          0,
          0,
          0,
          4,
          0,
          1,
          0,
          0,
          2,
          2,
          0,
          0,
          0,
          0,
          2,
          1,
          0,
          0,
          0,
          2,
          5,
          0,
          0,
          0,
          6,
          0,
          0,
          0,
          0,
          1,
          0,
          0,
          0,
          0,
          0,
          1,
          1,
          1,
          2,
          0,
          0,
          0,
          0,
          1,
          0,
          0,
          0,
          0,
          10,
          2,
          0,
          9,
          59,
          3,
          1,
          1,
          0,
          0,
          0,
          2,
          8,
          10,
          1,
          0,
          0,
          2,
          0,
          1,
          0,
          0,
          0,
          0,
          0,
          2,
          0,
          0,
          1,
          5,
          0,
          0,
          0,
          2,
          2,
          0,
          2,
          1,
          3,
          0,
          5,
          1,
          0,
          1,
          0,
          0,
          6,
          2,
          1,
          2,
          1,
          0,
          2,
          0,
          1,
          0,
          3,
          1,
          1,
          0,
          0,
          0,
          1,
          2,
          1,
          0,
          4,
          0,
          2,
          1,
          0,
          1,
          0,
          0,
          0,
          1,
          0,
          0,
          1,
          0,
          0,
          0,
          0,
          0,
          0,
          0,
          0,
          3
         ],
         "yaxis": "y"
        }
       ],
       "layout": {
        "barmode": "group",
        "legend": {
         "title": {
          "text": "Type"
         },
         "tracegroupgap": 0
        },
        "template": {
         "data": {
          "bar": [
           {
            "error_x": {
             "color": "#2a3f5f"
            },
            "error_y": {
             "color": "#2a3f5f"
            },
            "marker": {
             "line": {
              "color": "#E5ECF6",
              "width": 0.5
             },
             "pattern": {
              "fillmode": "overlay",
              "size": 10,
              "solidity": 0.2
             }
            },
            "type": "bar"
           }
          ],
          "barpolar": [
           {
            "marker": {
             "line": {
              "color": "#E5ECF6",
              "width": 0.5
             },
             "pattern": {
              "fillmode": "overlay",
              "size": 10,
              "solidity": 0.2
             }
            },
            "type": "barpolar"
           }
          ],
          "carpet": [
           {
            "aaxis": {
             "endlinecolor": "#2a3f5f",
             "gridcolor": "white",
             "linecolor": "white",
             "minorgridcolor": "white",
             "startlinecolor": "#2a3f5f"
            },
            "baxis": {
             "endlinecolor": "#2a3f5f",
             "gridcolor": "white",
             "linecolor": "white",
             "minorgridcolor": "white",
             "startlinecolor": "#2a3f5f"
            },
            "type": "carpet"
           }
          ],
          "choropleth": [
           {
            "colorbar": {
             "outlinewidth": 0,
             "ticks": ""
            },
            "type": "choropleth"
           }
          ],
          "contour": [
           {
            "colorbar": {
             "outlinewidth": 0,
             "ticks": ""
            },
            "colorscale": [
             [
              0,
              "#0d0887"
             ],
             [
              0.1111111111111111,
              "#46039f"
             ],
             [
              0.2222222222222222,
              "#7201a8"
             ],
             [
              0.3333333333333333,
              "#9c179e"
             ],
             [
              0.4444444444444444,
              "#bd3786"
             ],
             [
              0.5555555555555556,
              "#d8576b"
             ],
             [
              0.6666666666666666,
              "#ed7953"
             ],
             [
              0.7777777777777778,
              "#fb9f3a"
             ],
             [
              0.8888888888888888,
              "#fdca26"
             ],
             [
              1,
              "#f0f921"
             ]
            ],
            "type": "contour"
           }
          ],
          "contourcarpet": [
           {
            "colorbar": {
             "outlinewidth": 0,
             "ticks": ""
            },
            "type": "contourcarpet"
           }
          ],
          "heatmap": [
           {
            "colorbar": {
             "outlinewidth": 0,
             "ticks": ""
            },
            "colorscale": [
             [
              0,
              "#0d0887"
             ],
             [
              0.1111111111111111,
              "#46039f"
             ],
             [
              0.2222222222222222,
              "#7201a8"
             ],
             [
              0.3333333333333333,
              "#9c179e"
             ],
             [
              0.4444444444444444,
              "#bd3786"
             ],
             [
              0.5555555555555556,
              "#d8576b"
             ],
             [
              0.6666666666666666,
              "#ed7953"
             ],
             [
              0.7777777777777778,
              "#fb9f3a"
             ],
             [
              0.8888888888888888,
              "#fdca26"
             ],
             [
              1,
              "#f0f921"
             ]
            ],
            "type": "heatmap"
           }
          ],
          "heatmapgl": [
           {
            "colorbar": {
             "outlinewidth": 0,
             "ticks": ""
            },
            "colorscale": [
             [
              0,
              "#0d0887"
             ],
             [
              0.1111111111111111,
              "#46039f"
             ],
             [
              0.2222222222222222,
              "#7201a8"
             ],
             [
              0.3333333333333333,
              "#9c179e"
             ],
             [
              0.4444444444444444,
              "#bd3786"
             ],
             [
              0.5555555555555556,
              "#d8576b"
             ],
             [
              0.6666666666666666,
              "#ed7953"
             ],
             [
              0.7777777777777778,
              "#fb9f3a"
             ],
             [
              0.8888888888888888,
              "#fdca26"
             ],
             [
              1,
              "#f0f921"
             ]
            ],
            "type": "heatmapgl"
           }
          ],
          "histogram": [
           {
            "marker": {
             "pattern": {
              "fillmode": "overlay",
              "size": 10,
              "solidity": 0.2
             }
            },
            "type": "histogram"
           }
          ],
          "histogram2d": [
           {
            "colorbar": {
             "outlinewidth": 0,
             "ticks": ""
            },
            "colorscale": [
             [
              0,
              "#0d0887"
             ],
             [
              0.1111111111111111,
              "#46039f"
             ],
             [
              0.2222222222222222,
              "#7201a8"
             ],
             [
              0.3333333333333333,
              "#9c179e"
             ],
             [
              0.4444444444444444,
              "#bd3786"
             ],
             [
              0.5555555555555556,
              "#d8576b"
             ],
             [
              0.6666666666666666,
              "#ed7953"
             ],
             [
              0.7777777777777778,
              "#fb9f3a"
             ],
             [
              0.8888888888888888,
              "#fdca26"
             ],
             [
              1,
              "#f0f921"
             ]
            ],
            "type": "histogram2d"
           }
          ],
          "histogram2dcontour": [
           {
            "colorbar": {
             "outlinewidth": 0,
             "ticks": ""
            },
            "colorscale": [
             [
              0,
              "#0d0887"
             ],
             [
              0.1111111111111111,
              "#46039f"
             ],
             [
              0.2222222222222222,
              "#7201a8"
             ],
             [
              0.3333333333333333,
              "#9c179e"
             ],
             [
              0.4444444444444444,
              "#bd3786"
             ],
             [
              0.5555555555555556,
              "#d8576b"
             ],
             [
              0.6666666666666666,
              "#ed7953"
             ],
             [
              0.7777777777777778,
              "#fb9f3a"
             ],
             [
              0.8888888888888888,
              "#fdca26"
             ],
             [
              1,
              "#f0f921"
             ]
            ],
            "type": "histogram2dcontour"
           }
          ],
          "mesh3d": [
           {
            "colorbar": {
             "outlinewidth": 0,
             "ticks": ""
            },
            "type": "mesh3d"
           }
          ],
          "parcoords": [
           {
            "line": {
             "colorbar": {
              "outlinewidth": 0,
              "ticks": ""
             }
            },
            "type": "parcoords"
           }
          ],
          "pie": [
           {
            "automargin": true,
            "type": "pie"
           }
          ],
          "scatter": [
           {
            "fillpattern": {
             "fillmode": "overlay",
             "size": 10,
             "solidity": 0.2
            },
            "type": "scatter"
           }
          ],
          "scatter3d": [
           {
            "line": {
             "colorbar": {
              "outlinewidth": 0,
              "ticks": ""
             }
            },
            "marker": {
             "colorbar": {
              "outlinewidth": 0,
              "ticks": ""
             }
            },
            "type": "scatter3d"
           }
          ],
          "scattercarpet": [
           {
            "marker": {
             "colorbar": {
              "outlinewidth": 0,
              "ticks": ""
             }
            },
            "type": "scattercarpet"
           }
          ],
          "scattergeo": [
           {
            "marker": {
             "colorbar": {
              "outlinewidth": 0,
              "ticks": ""
             }
            },
            "type": "scattergeo"
           }
          ],
          "scattergl": [
           {
            "marker": {
             "colorbar": {
              "outlinewidth": 0,
              "ticks": ""
             }
            },
            "type": "scattergl"
           }
          ],
          "scattermapbox": [
           {
            "marker": {
             "colorbar": {
              "outlinewidth": 0,
              "ticks": ""
             }
            },
            "type": "scattermapbox"
           }
          ],
          "scatterpolar": [
           {
            "marker": {
             "colorbar": {
              "outlinewidth": 0,
              "ticks": ""
             }
            },
            "type": "scatterpolar"
           }
          ],
          "scatterpolargl": [
           {
            "marker": {
             "colorbar": {
              "outlinewidth": 0,
              "ticks": ""
             }
            },
            "type": "scatterpolargl"
           }
          ],
          "scatterternary": [
           {
            "marker": {
             "colorbar": {
              "outlinewidth": 0,
              "ticks": ""
             }
            },
            "type": "scatterternary"
           }
          ],
          "surface": [
           {
            "colorbar": {
             "outlinewidth": 0,
             "ticks": ""
            },
            "colorscale": [
             [
              0,
              "#0d0887"
             ],
             [
              0.1111111111111111,
              "#46039f"
             ],
             [
              0.2222222222222222,
              "#7201a8"
             ],
             [
              0.3333333333333333,
              "#9c179e"
             ],
             [
              0.4444444444444444,
              "#bd3786"
             ],
             [
              0.5555555555555556,
              "#d8576b"
             ],
             [
              0.6666666666666666,
              "#ed7953"
             ],
             [
              0.7777777777777778,
              "#fb9f3a"
             ],
             [
              0.8888888888888888,
              "#fdca26"
             ],
             [
              1,
              "#f0f921"
             ]
            ],
            "type": "surface"
           }
          ],
          "table": [
           {
            "cells": {
             "fill": {
              "color": "#EBF0F8"
             },
             "line": {
              "color": "white"
             }
            },
            "header": {
             "fill": {
              "color": "#C8D4E3"
             },
             "line": {
              "color": "white"
             }
            },
            "type": "table"
           }
          ]
         },
         "layout": {
          "annotationdefaults": {
           "arrowcolor": "#2a3f5f",
           "arrowhead": 0,
           "arrowwidth": 1
          },
          "autotypenumbers": "strict",
          "coloraxis": {
           "colorbar": {
            "outlinewidth": 0,
            "ticks": ""
           }
          },
          "colorscale": {
           "diverging": [
            [
             0,
             "#8e0152"
            ],
            [
             0.1,
             "#c51b7d"
            ],
            [
             0.2,
             "#de77ae"
            ],
            [
             0.3,
             "#f1b6da"
            ],
            [
             0.4,
             "#fde0ef"
            ],
            [
             0.5,
             "#f7f7f7"
            ],
            [
             0.6,
             "#e6f5d0"
            ],
            [
             0.7,
             "#b8e186"
            ],
            [
             0.8,
             "#7fbc41"
            ],
            [
             0.9,
             "#4d9221"
            ],
            [
             1,
             "#276419"
            ]
           ],
           "sequential": [
            [
             0,
             "#0d0887"
            ],
            [
             0.1111111111111111,
             "#46039f"
            ],
            [
             0.2222222222222222,
             "#7201a8"
            ],
            [
             0.3333333333333333,
             "#9c179e"
            ],
            [
             0.4444444444444444,
             "#bd3786"
            ],
            [
             0.5555555555555556,
             "#d8576b"
            ],
            [
             0.6666666666666666,
             "#ed7953"
            ],
            [
             0.7777777777777778,
             "#fb9f3a"
            ],
            [
             0.8888888888888888,
             "#fdca26"
            ],
            [
             1,
             "#f0f921"
            ]
           ],
           "sequentialminus": [
            [
             0,
             "#0d0887"
            ],
            [
             0.1111111111111111,
             "#46039f"
            ],
            [
             0.2222222222222222,
             "#7201a8"
            ],
            [
             0.3333333333333333,
             "#9c179e"
            ],
            [
             0.4444444444444444,
             "#bd3786"
            ],
            [
             0.5555555555555556,
             "#d8576b"
            ],
            [
             0.6666666666666666,
             "#ed7953"
            ],
            [
             0.7777777777777778,
             "#fb9f3a"
            ],
            [
             0.8888888888888888,
             "#fdca26"
            ],
            [
             1,
             "#f0f921"
            ]
           ]
          },
          "colorway": [
           "#636efa",
           "#EF553B",
           "#00cc96",
           "#ab63fa",
           "#FFA15A",
           "#19d3f3",
           "#FF6692",
           "#B6E880",
           "#FF97FF",
           "#FECB52"
          ],
          "font": {
           "color": "#2a3f5f"
          },
          "geo": {
           "bgcolor": "white",
           "lakecolor": "white",
           "landcolor": "#E5ECF6",
           "showlakes": true,
           "showland": true,
           "subunitcolor": "white"
          },
          "hoverlabel": {
           "align": "left"
          },
          "hovermode": "closest",
          "mapbox": {
           "style": "light"
          },
          "paper_bgcolor": "white",
          "plot_bgcolor": "#E5ECF6",
          "polar": {
           "angularaxis": {
            "gridcolor": "white",
            "linecolor": "white",
            "ticks": ""
           },
           "bgcolor": "#E5ECF6",
           "radialaxis": {
            "gridcolor": "white",
            "linecolor": "white",
            "ticks": ""
           }
          },
          "scene": {
           "xaxis": {
            "backgroundcolor": "#E5ECF6",
            "gridcolor": "white",
            "gridwidth": 2,
            "linecolor": "white",
            "showbackground": true,
            "ticks": "",
            "zerolinecolor": "white"
           },
           "yaxis": {
            "backgroundcolor": "#E5ECF6",
            "gridcolor": "white",
            "gridwidth": 2,
            "linecolor": "white",
            "showbackground": true,
            "ticks": "",
            "zerolinecolor": "white"
           },
           "zaxis": {
            "backgroundcolor": "#E5ECF6",
            "gridcolor": "white",
            "gridwidth": 2,
            "linecolor": "white",
            "showbackground": true,
            "ticks": "",
            "zerolinecolor": "white"
           }
          },
          "shapedefaults": {
           "line": {
            "color": "#2a3f5f"
           }
          },
          "ternary": {
           "aaxis": {
            "gridcolor": "white",
            "linecolor": "white",
            "ticks": ""
           },
           "baxis": {
            "gridcolor": "white",
            "linecolor": "white",
            "ticks": ""
           },
           "bgcolor": "#E5ECF6",
           "caxis": {
            "gridcolor": "white",
            "linecolor": "white",
            "ticks": ""
           }
          },
          "title": {
           "x": 0.05
          },
          "xaxis": {
           "automargin": true,
           "gridcolor": "white",
           "linecolor": "white",
           "ticks": "",
           "title": {
            "standoff": 15
           },
           "zerolinecolor": "white",
           "zerolinewidth": 2
          },
          "yaxis": {
           "automargin": true,
           "gridcolor": "white",
           "linecolor": "white",
           "ticks": "",
           "title": {
            "standoff": 15
           },
           "zerolinecolor": "white",
           "zerolinewidth": 2
          }
         }
        },
        "title": {
         "text": "Monthly Killings"
        },
        "xaxis": {
         "anchor": "y",
         "domain": [
          0,
          1
         ],
         "title": {
          "text": "Month"
         }
        },
        "yaxis": {
         "anchor": "x",
         "domain": [
          0,
          1
         ],
         "title": {
          "text": "Count"
         }
        }
       }
      }
     },
     "metadata": {},
     "output_type": "display_data"
    }
   ],
   "source": [
    "fig = px.bar(data_frame=df, x='month', y=['palestinians_killed', 'israelis_killed'],\n",
    "            title='Monthly Killings',\n",
    "            labels={'value': 'Count', 'variable': 'Type', \"month\": \"Month\"},\n",
    "            barmode='group')\n",
    "fig.show()"
   ]
  },
  {
   "cell_type": "code",
   "execution_count": 10,
   "metadata": {},
   "outputs": [
    {
     "data": {
      "application/vnd.plotly.v1+json": {
       "config": {
        "plotlyServerURL": "https://plot.ly"
       },
       "data": [
        {
         "alignmentgroup": "True",
         "box": {
          "visible": false
         },
         "hovertemplate": "Type=%{x}<br>Count=%{y}<extra></extra>",
         "legendgroup": "palestinians_injuries",
         "marker": {
          "color": "#636efa"
         },
         "name": "palestinians_injuries",
         "offsetgroup": "palestinians_injuries",
         "orientation": "v",
         "scalegroup": "True",
         "showlegend": true,
         "type": "violin",
         "x": [
          "palestinians_injuries",
          "palestinians_injuries",
          "palestinians_injuries",
          "palestinians_injuries",
          "palestinians_injuries",
          "palestinians_injuries",
          "palestinians_injuries",
          "palestinians_injuries",
          "palestinians_injuries",
          "palestinians_injuries",
          "palestinians_injuries",
          "palestinians_injuries",
          "palestinians_injuries",
          "palestinians_injuries",
          "palestinians_injuries",
          "palestinians_injuries",
          "palestinians_injuries",
          "palestinians_injuries",
          "palestinians_injuries",
          "palestinians_injuries",
          "palestinians_injuries",
          "palestinians_injuries",
          "palestinians_injuries",
          "palestinians_injuries",
          "palestinians_injuries",
          "palestinians_injuries",
          "palestinians_injuries",
          "palestinians_injuries",
          "palestinians_injuries",
          "palestinians_injuries",
          "palestinians_injuries",
          "palestinians_injuries",
          "palestinians_injuries",
          "palestinians_injuries",
          "palestinians_injuries",
          "palestinians_injuries",
          "palestinians_injuries",
          "palestinians_injuries",
          "palestinians_injuries",
          "palestinians_injuries",
          "palestinians_injuries",
          "palestinians_injuries",
          "palestinians_injuries",
          "palestinians_injuries",
          "palestinians_injuries",
          "palestinians_injuries",
          "palestinians_injuries",
          "palestinians_injuries",
          "palestinians_injuries",
          "palestinians_injuries",
          "palestinians_injuries",
          "palestinians_injuries",
          "palestinians_injuries",
          "palestinians_injuries",
          "palestinians_injuries",
          "palestinians_injuries",
          "palestinians_injuries",
          "palestinians_injuries",
          "palestinians_injuries",
          "palestinians_injuries",
          "palestinians_injuries",
          "palestinians_injuries",
          "palestinians_injuries",
          "palestinians_injuries",
          "palestinians_injuries",
          "palestinians_injuries",
          "palestinians_injuries",
          "palestinians_injuries",
          "palestinians_injuries",
          "palestinians_injuries",
          "palestinians_injuries",
          "palestinians_injuries",
          "palestinians_injuries",
          "palestinians_injuries",
          "palestinians_injuries",
          "palestinians_injuries",
          "palestinians_injuries",
          "palestinians_injuries",
          "palestinians_injuries",
          "palestinians_injuries",
          "palestinians_injuries",
          "palestinians_injuries",
          "palestinians_injuries",
          "palestinians_injuries",
          "palestinians_injuries",
          "palestinians_injuries",
          "palestinians_injuries",
          "palestinians_injuries",
          "palestinians_injuries",
          "palestinians_injuries",
          "palestinians_injuries",
          "palestinians_injuries",
          "palestinians_injuries",
          "palestinians_injuries",
          "palestinians_injuries",
          "palestinians_injuries",
          "palestinians_injuries",
          "palestinians_injuries",
          "palestinians_injuries",
          "palestinians_injuries",
          "palestinians_injuries",
          "palestinians_injuries",
          "palestinians_injuries",
          "palestinians_injuries",
          "palestinians_injuries",
          "palestinians_injuries",
          "palestinians_injuries",
          "palestinians_injuries",
          "palestinians_injuries",
          "palestinians_injuries",
          "palestinians_injuries",
          "palestinians_injuries",
          "palestinians_injuries",
          "palestinians_injuries",
          "palestinians_injuries",
          "palestinians_injuries",
          "palestinians_injuries",
          "palestinians_injuries",
          "palestinians_injuries",
          "palestinians_injuries",
          "palestinians_injuries",
          "palestinians_injuries",
          "palestinians_injuries",
          "palestinians_injuries",
          "palestinians_injuries",
          "palestinians_injuries",
          "palestinians_injuries",
          "palestinians_injuries",
          "palestinians_injuries",
          "palestinians_injuries",
          "palestinians_injuries",
          "palestinians_injuries",
          "palestinians_injuries",
          "palestinians_injuries",
          "palestinians_injuries",
          "palestinians_injuries",
          "palestinians_injuries",
          "palestinians_injuries",
          "palestinians_injuries",
          "palestinians_injuries",
          "palestinians_injuries",
          "palestinians_injuries",
          "palestinians_injuries",
          "palestinians_injuries",
          "palestinians_injuries",
          "palestinians_injuries",
          "palestinians_injuries",
          "palestinians_injuries",
          "palestinians_injuries",
          "palestinians_injuries",
          "palestinians_injuries",
          "palestinians_injuries",
          "palestinians_injuries",
          "palestinians_injuries",
          "palestinians_injuries",
          "palestinians_injuries",
          "palestinians_injuries",
          "palestinians_injuries",
          "palestinians_injuries",
          "palestinians_injuries",
          "palestinians_injuries",
          "palestinians_injuries",
          "palestinians_injuries",
          "palestinians_injuries",
          "palestinians_injuries",
          "palestinians_injuries",
          "palestinians_injuries",
          "palestinians_injuries",
          "palestinians_injuries",
          "palestinians_injuries",
          "palestinians_injuries",
          "palestinians_injuries",
          "palestinians_injuries",
          "palestinians_injuries",
          "palestinians_injuries",
          "palestinians_injuries",
          "palestinians_injuries",
          "palestinians_injuries",
          "palestinians_injuries",
          "palestinians_injuries",
          "palestinians_injuries",
          "palestinians_injuries",
          "palestinians_injuries",
          "palestinians_injuries",
          "palestinians_injuries",
          "palestinians_injuries",
          "palestinians_injuries",
          "palestinians_injuries",
          "palestinians_injuries",
          "palestinians_injuries",
          "palestinians_injuries",
          "palestinians_injuries",
          "palestinians_injuries",
          "palestinians_injuries",
          "palestinians_injuries",
          "palestinians_injuries",
          "palestinians_injuries",
          "palestinians_injuries",
          "palestinians_injuries",
          "palestinians_injuries",
          "palestinians_injuries",
          "palestinians_injuries",
          "palestinians_injuries",
          "palestinians_injuries",
          "palestinians_injuries",
          "palestinians_injuries",
          "palestinians_injuries",
          "palestinians_injuries",
          "palestinians_injuries",
          "palestinians_injuries",
          "palestinians_injuries",
          "palestinians_injuries",
          "palestinians_injuries",
          "palestinians_injuries",
          "palestinians_injuries",
          "palestinians_injuries",
          "palestinians_injuries",
          "palestinians_injuries",
          "palestinians_injuries",
          "palestinians_injuries",
          "palestinians_injuries",
          "palestinians_injuries",
          "palestinians_injuries",
          "palestinians_injuries",
          "palestinians_injuries",
          "palestinians_injuries",
          "palestinians_injuries",
          "palestinians_injuries",
          "palestinians_injuries",
          "palestinians_injuries",
          "palestinians_injuries",
          "palestinians_injuries",
          "palestinians_injuries",
          "palestinians_injuries",
          "palestinians_injuries",
          "palestinians_injuries",
          "palestinians_injuries",
          "palestinians_injuries",
          "palestinians_injuries",
          "palestinians_injuries",
          "palestinians_injuries",
          "palestinians_injuries",
          "palestinians_injuries",
          "palestinians_injuries",
          "palestinians_injuries",
          "palestinians_injuries",
          "palestinians_injuries",
          "palestinians_injuries",
          "palestinians_injuries"
         ],
         "x0": " ",
         "xaxis": "x",
         "y": [
          781,
          3838,
          5984,
          0,
          304,
          160,
          407,
          657,
          502,
          394,
          319,
          932,
          715,
          927,
          598,
          471,
          185,
          264,
          388,
          353,
          186,
          374,
          299,
          181,
          523,
          870,
          429,
          330,
          322,
          106,
          289,
          226,
          191,
          34,
          367,
          239,
          303,
          379,
          244,
          292,
          161,
          98,
          343,
          579,
          287,
          251,
          377,
          545,
          346,
          417,
          437,
          168,
          166,
          99,
          81,
          90,
          130,
          165,
          116,
          81,
          183,
          68,
          42,
          164,
          73,
          491,
          180,
          196,
          266,
          799,
          198,
          257,
          254,
          203,
          194,
          88,
          13720,
          127,
          152,
          135,
          154,
          67,
          162,
          281,
          115,
          153,
          256,
          104,
          0,
          0,
          0,
          0,
          0,
          0,
          0,
          0,
          0,
          0,
          0,
          0,
          195,
          30,
          88,
          80,
          36,
          26,
          89,
          82,
          136,
          87,
          65,
          5557,
          105,
          87,
          147,
          148,
          46,
          85,
          104,
          118,
          119,
          402,
          92,
          86,
          210,
          63,
          110,
          149,
          191,
          156,
          159,
          397,
          193,
          204,
          135,
          143,
          198,
          2252,
          89,
          161,
          169,
          202,
          231,
          703,
          169,
          404,
          256,
          60,
          159,
          320,
          105,
          374,
          137,
          138,
          124,
          429,
          656,
          493,
          766,
          263,
          350,
          984,
          291,
          209,
          13735,
          0,
          326,
          265,
          302,
          228,
          216,
          219,
          2222,
          3888,
          7555,
          413,
          196,
          141,
          78,
          284,
          223,
          176,
          167,
          134,
          105,
          97,
          169,
          210,
          261,
          256,
          167,
          434,
          286,
          348,
          514,
          582,
          4580,
          89,
          120,
          118,
          135,
          1772,
          790,
          0,
          150,
          189,
          97,
          44,
          0,
          0,
          0,
          0,
          0,
          0,
          0,
          0,
          0,
          0,
          0,
          0,
          0,
          0,
          0,
          0,
          0,
          0,
          0,
          0,
          0,
          0,
          0,
          0,
          0,
          0,
          0,
          0,
          0,
          0,
          0,
          0,
          0,
          0,
          0,
          0,
          0,
          0,
          0,
          0,
          0
         ],
         "y0": " ",
         "yaxis": "y"
        },
        {
         "alignmentgroup": "True",
         "box": {
          "visible": false
         },
         "hovertemplate": "Type=%{x}<br>Count=%{y}<extra></extra>",
         "legendgroup": "israelis_injuries",
         "marker": {
          "color": "#EF553B"
         },
         "name": "israelis_injuries",
         "offsetgroup": "israelis_injuries",
         "orientation": "v",
         "scalegroup": "True",
         "showlegend": true,
         "type": "violin",
         "x": [
          "israelis_injuries",
          "israelis_injuries",
          "israelis_injuries",
          "israelis_injuries",
          "israelis_injuries",
          "israelis_injuries",
          "israelis_injuries",
          "israelis_injuries",
          "israelis_injuries",
          "israelis_injuries",
          "israelis_injuries",
          "israelis_injuries",
          "israelis_injuries",
          "israelis_injuries",
          "israelis_injuries",
          "israelis_injuries",
          "israelis_injuries",
          "israelis_injuries",
          "israelis_injuries",
          "israelis_injuries",
          "israelis_injuries",
          "israelis_injuries",
          "israelis_injuries",
          "israelis_injuries",
          "israelis_injuries",
          "israelis_injuries",
          "israelis_injuries",
          "israelis_injuries",
          "israelis_injuries",
          "israelis_injuries",
          "israelis_injuries",
          "israelis_injuries",
          "israelis_injuries",
          "israelis_injuries",
          "israelis_injuries",
          "israelis_injuries",
          "israelis_injuries",
          "israelis_injuries",
          "israelis_injuries",
          "israelis_injuries",
          "israelis_injuries",
          "israelis_injuries",
          "israelis_injuries",
          "israelis_injuries",
          "israelis_injuries",
          "israelis_injuries",
          "israelis_injuries",
          "israelis_injuries",
          "israelis_injuries",
          "israelis_injuries",
          "israelis_injuries",
          "israelis_injuries",
          "israelis_injuries",
          "israelis_injuries",
          "israelis_injuries",
          "israelis_injuries",
          "israelis_injuries",
          "israelis_injuries",
          "israelis_injuries",
          "israelis_injuries",
          "israelis_injuries",
          "israelis_injuries",
          "israelis_injuries",
          "israelis_injuries",
          "israelis_injuries",
          "israelis_injuries",
          "israelis_injuries",
          "israelis_injuries",
          "israelis_injuries",
          "israelis_injuries",
          "israelis_injuries",
          "israelis_injuries",
          "israelis_injuries",
          "israelis_injuries",
          "israelis_injuries",
          "israelis_injuries",
          "israelis_injuries",
          "israelis_injuries",
          "israelis_injuries",
          "israelis_injuries",
          "israelis_injuries",
          "israelis_injuries",
          "israelis_injuries",
          "israelis_injuries",
          "israelis_injuries",
          "israelis_injuries",
          "israelis_injuries",
          "israelis_injuries",
          "israelis_injuries",
          "israelis_injuries",
          "israelis_injuries",
          "israelis_injuries",
          "israelis_injuries",
          "israelis_injuries",
          "israelis_injuries",
          "israelis_injuries",
          "israelis_injuries",
          "israelis_injuries",
          "israelis_injuries",
          "israelis_injuries",
          "israelis_injuries",
          "israelis_injuries",
          "israelis_injuries",
          "israelis_injuries",
          "israelis_injuries",
          "israelis_injuries",
          "israelis_injuries",
          "israelis_injuries",
          "israelis_injuries",
          "israelis_injuries",
          "israelis_injuries",
          "israelis_injuries",
          "israelis_injuries",
          "israelis_injuries",
          "israelis_injuries",
          "israelis_injuries",
          "israelis_injuries",
          "israelis_injuries",
          "israelis_injuries",
          "israelis_injuries",
          "israelis_injuries",
          "israelis_injuries",
          "israelis_injuries",
          "israelis_injuries",
          "israelis_injuries",
          "israelis_injuries",
          "israelis_injuries",
          "israelis_injuries",
          "israelis_injuries",
          "israelis_injuries",
          "israelis_injuries",
          "israelis_injuries",
          "israelis_injuries",
          "israelis_injuries",
          "israelis_injuries",
          "israelis_injuries",
          "israelis_injuries",
          "israelis_injuries",
          "israelis_injuries",
          "israelis_injuries",
          "israelis_injuries",
          "israelis_injuries",
          "israelis_injuries",
          "israelis_injuries",
          "israelis_injuries",
          "israelis_injuries",
          "israelis_injuries",
          "israelis_injuries",
          "israelis_injuries",
          "israelis_injuries",
          "israelis_injuries",
          "israelis_injuries",
          "israelis_injuries",
          "israelis_injuries",
          "israelis_injuries",
          "israelis_injuries",
          "israelis_injuries",
          "israelis_injuries",
          "israelis_injuries",
          "israelis_injuries",
          "israelis_injuries",
          "israelis_injuries",
          "israelis_injuries",
          "israelis_injuries",
          "israelis_injuries",
          "israelis_injuries",
          "israelis_injuries",
          "israelis_injuries",
          "israelis_injuries",
          "israelis_injuries",
          "israelis_injuries",
          "israelis_injuries",
          "israelis_injuries",
          "israelis_injuries",
          "israelis_injuries",
          "israelis_injuries",
          "israelis_injuries",
          "israelis_injuries",
          "israelis_injuries",
          "israelis_injuries",
          "israelis_injuries",
          "israelis_injuries",
          "israelis_injuries",
          "israelis_injuries",
          "israelis_injuries",
          "israelis_injuries",
          "israelis_injuries",
          "israelis_injuries",
          "israelis_injuries",
          "israelis_injuries",
          "israelis_injuries",
          "israelis_injuries",
          "israelis_injuries",
          "israelis_injuries",
          "israelis_injuries",
          "israelis_injuries",
          "israelis_injuries",
          "israelis_injuries",
          "israelis_injuries",
          "israelis_injuries",
          "israelis_injuries",
          "israelis_injuries",
          "israelis_injuries",
          "israelis_injuries",
          "israelis_injuries",
          "israelis_injuries",
          "israelis_injuries",
          "israelis_injuries",
          "israelis_injuries",
          "israelis_injuries",
          "israelis_injuries",
          "israelis_injuries",
          "israelis_injuries",
          "israelis_injuries",
          "israelis_injuries",
          "israelis_injuries",
          "israelis_injuries",
          "israelis_injuries",
          "israelis_injuries",
          "israelis_injuries",
          "israelis_injuries",
          "israelis_injuries",
          "israelis_injuries",
          "israelis_injuries",
          "israelis_injuries",
          "israelis_injuries",
          "israelis_injuries",
          "israelis_injuries",
          "israelis_injuries",
          "israelis_injuries",
          "israelis_injuries",
          "israelis_injuries",
          "israelis_injuries",
          "israelis_injuries",
          "israelis_injuries",
          "israelis_injuries",
          "israelis_injuries",
          "israelis_injuries",
          "israelis_injuries",
          "israelis_injuries",
          "israelis_injuries",
          "israelis_injuries",
          "israelis_injuries",
          "israelis_injuries",
          "israelis_injuries",
          "israelis_injuries",
          "israelis_injuries",
          "israelis_injuries",
          "israelis_injuries"
         ],
         "x0": " ",
         "xaxis": "x",
         "y": [
          0,
          0,
          0,
          0,
          0,
          0,
          0,
          0,
          0,
          0,
          0,
          0,
          0,
          0,
          0,
          0,
          0,
          0,
          0,
          0,
          0,
          0,
          0,
          0,
          0,
          0,
          0,
          0,
          0,
          0,
          0,
          0,
          0,
          0,
          0,
          0,
          0,
          0,
          0,
          0,
          0,
          0,
          0,
          0,
          0,
          0,
          0,
          0,
          0,
          0,
          0,
          0,
          88,
          17,
          46,
          25,
          16,
          105,
          20,
          17,
          19,
          17,
          62,
          61,
          12,
          30,
          19,
          24,
          10,
          41,
          26,
          14,
          78,
          46,
          30,
          47,
          20,
          6,
          13,
          87,
          56,
          7,
          19,
          30,
          22,
          15,
          35,
          12,
          0,
          0,
          0,
          0,
          0,
          0,
          0,
          0,
          0,
          0,
          0,
          0,
          0,
          0,
          0,
          0,
          0,
          0,
          0,
          0,
          0,
          0,
          0,
          0,
          5,
          7,
          5,
          12,
          11,
          0,
          21,
          17,
          10,
          59,
          14,
          15,
          6,
          3,
          9,
          5,
          22,
          3,
          9,
          36,
          10,
          13,
          3,
          5,
          6,
          253,
          1,
          7,
          5,
          12,
          4,
          15,
          9,
          16,
          14,
          3,
          4,
          5,
          15,
          9,
          5,
          11,
          1,
          33,
          17,
          21,
          24,
          6,
          15,
          55,
          32,
          22,
          2347,
          0,
          5,
          28,
          15,
          5,
          6,
          9,
          43,
          50,
          80,
          39,
          20,
          8,
          14,
          11,
          13,
          13,
          5,
          8,
          18,
          7,
          17,
          14,
          2,
          9,
          30,
          2,
          21,
          27,
          8,
          16,
          10,
          8,
          5,
          5,
          2,
          23,
          20,
          0,
          12,
          19,
          37,
          17,
          0,
          0,
          0,
          0,
          0,
          0,
          0,
          0,
          0,
          0,
          0,
          0,
          0,
          0,
          0,
          0,
          0,
          0,
          0,
          0,
          0,
          0,
          0,
          0,
          0,
          0,
          0,
          0,
          0,
          0,
          0,
          0,
          0,
          0,
          0,
          0,
          0,
          0,
          0,
          0,
          0
         ],
         "y0": " ",
         "yaxis": "y"
        },
        {
         "alignmentgroup": "True",
         "box": {
          "visible": false
         },
         "hovertemplate": "Type=%{x}<br>Count=%{y}<extra></extra>",
         "legendgroup": "palestinians_killed",
         "marker": {
          "color": "#00cc96"
         },
         "name": "palestinians_killed",
         "offsetgroup": "palestinians_killed",
         "orientation": "v",
         "scalegroup": "True",
         "showlegend": true,
         "type": "violin",
         "x": [
          "palestinians_killed",
          "palestinians_killed",
          "palestinians_killed",
          "palestinians_killed",
          "palestinians_killed",
          "palestinians_killed",
          "palestinians_killed",
          "palestinians_killed",
          "palestinians_killed",
          "palestinians_killed",
          "palestinians_killed",
          "palestinians_killed",
          "palestinians_killed",
          "palestinians_killed",
          "palestinians_killed",
          "palestinians_killed",
          "palestinians_killed",
          "palestinians_killed",
          "palestinians_killed",
          "palestinians_killed",
          "palestinians_killed",
          "palestinians_killed",
          "palestinians_killed",
          "palestinians_killed",
          "palestinians_killed",
          "palestinians_killed",
          "palestinians_killed",
          "palestinians_killed",
          "palestinians_killed",
          "palestinians_killed",
          "palestinians_killed",
          "palestinians_killed",
          "palestinians_killed",
          "palestinians_killed",
          "palestinians_killed",
          "palestinians_killed",
          "palestinians_killed",
          "palestinians_killed",
          "palestinians_killed",
          "palestinians_killed",
          "palestinians_killed",
          "palestinians_killed",
          "palestinians_killed",
          "palestinians_killed",
          "palestinians_killed",
          "palestinians_killed",
          "palestinians_killed",
          "palestinians_killed",
          "palestinians_killed",
          "palestinians_killed",
          "palestinians_killed",
          "palestinians_killed",
          "palestinians_killed",
          "palestinians_killed",
          "palestinians_killed",
          "palestinians_killed",
          "palestinians_killed",
          "palestinians_killed",
          "palestinians_killed",
          "palestinians_killed",
          "palestinians_killed",
          "palestinians_killed",
          "palestinians_killed",
          "palestinians_killed",
          "palestinians_killed",
          "palestinians_killed",
          "palestinians_killed",
          "palestinians_killed",
          "palestinians_killed",
          "palestinians_killed",
          "palestinians_killed",
          "palestinians_killed",
          "palestinians_killed",
          "palestinians_killed",
          "palestinians_killed",
          "palestinians_killed",
          "palestinians_killed",
          "palestinians_killed",
          "palestinians_killed",
          "palestinians_killed",
          "palestinians_killed",
          "palestinians_killed",
          "palestinians_killed",
          "palestinians_killed",
          "palestinians_killed",
          "palestinians_killed",
          "palestinians_killed",
          "palestinians_killed",
          "palestinians_killed",
          "palestinians_killed",
          "palestinians_killed",
          "palestinians_killed",
          "palestinians_killed",
          "palestinians_killed",
          "palestinians_killed",
          "palestinians_killed",
          "palestinians_killed",
          "palestinians_killed",
          "palestinians_killed",
          "palestinians_killed",
          "palestinians_killed",
          "palestinians_killed",
          "palestinians_killed",
          "palestinians_killed",
          "palestinians_killed",
          "palestinians_killed",
          "palestinians_killed",
          "palestinians_killed",
          "palestinians_killed",
          "palestinians_killed",
          "palestinians_killed",
          "palestinians_killed",
          "palestinians_killed",
          "palestinians_killed",
          "palestinians_killed",
          "palestinians_killed",
          "palestinians_killed",
          "palestinians_killed",
          "palestinians_killed",
          "palestinians_killed",
          "palestinians_killed",
          "palestinians_killed",
          "palestinians_killed",
          "palestinians_killed",
          "palestinians_killed",
          "palestinians_killed",
          "palestinians_killed",
          "palestinians_killed",
          "palestinians_killed",
          "palestinians_killed",
          "palestinians_killed",
          "palestinians_killed",
          "palestinians_killed",
          "palestinians_killed",
          "palestinians_killed",
          "palestinians_killed",
          "palestinians_killed",
          "palestinians_killed",
          "palestinians_killed",
          "palestinians_killed",
          "palestinians_killed",
          "palestinians_killed",
          "palestinians_killed",
          "palestinians_killed",
          "palestinians_killed",
          "palestinians_killed",
          "palestinians_killed",
          "palestinians_killed",
          "palestinians_killed",
          "palestinians_killed",
          "palestinians_killed",
          "palestinians_killed",
          "palestinians_killed",
          "palestinians_killed",
          "palestinians_killed",
          "palestinians_killed",
          "palestinians_killed",
          "palestinians_killed",
          "palestinians_killed",
          "palestinians_killed",
          "palestinians_killed",
          "palestinians_killed",
          "palestinians_killed",
          "palestinians_killed",
          "palestinians_killed",
          "palestinians_killed",
          "palestinians_killed",
          "palestinians_killed",
          "palestinians_killed",
          "palestinians_killed",
          "palestinians_killed",
          "palestinians_killed",
          "palestinians_killed",
          "palestinians_killed",
          "palestinians_killed",
          "palestinians_killed",
          "palestinians_killed",
          "palestinians_killed",
          "palestinians_killed",
          "palestinians_killed",
          "palestinians_killed",
          "palestinians_killed",
          "palestinians_killed",
          "palestinians_killed",
          "palestinians_killed",
          "palestinians_killed",
          "palestinians_killed",
          "palestinians_killed",
          "palestinians_killed",
          "palestinians_killed",
          "palestinians_killed",
          "palestinians_killed",
          "palestinians_killed",
          "palestinians_killed",
          "palestinians_killed",
          "palestinians_killed",
          "palestinians_killed",
          "palestinians_killed",
          "palestinians_killed",
          "palestinians_killed",
          "palestinians_killed",
          "palestinians_killed",
          "palestinians_killed",
          "palestinians_killed",
          "palestinians_killed",
          "palestinians_killed",
          "palestinians_killed",
          "palestinians_killed",
          "palestinians_killed",
          "palestinians_killed",
          "palestinians_killed",
          "palestinians_killed",
          "palestinians_killed",
          "palestinians_killed",
          "palestinians_killed",
          "palestinians_killed",
          "palestinians_killed",
          "palestinians_killed",
          "palestinians_killed",
          "palestinians_killed",
          "palestinians_killed",
          "palestinians_killed",
          "palestinians_killed",
          "palestinians_killed",
          "palestinians_killed",
          "palestinians_killed",
          "palestinians_killed",
          "palestinians_killed",
          "palestinians_killed",
          "palestinians_killed",
          "palestinians_killed",
          "palestinians_killed",
          "palestinians_killed",
          "palestinians_killed",
          "palestinians_killed",
          "palestinians_killed",
          "palestinians_killed",
          "palestinians_killed",
          "palestinians_killed",
          "palestinians_killed",
          "palestinians_killed",
          "palestinians_killed",
          "palestinians_killed",
          "palestinians_killed",
          "palestinians_killed",
          "palestinians_killed",
          "palestinians_killed",
          "palestinians_killed",
          "palestinians_killed"
         ],
         "x0": " ",
         "xaxis": "x",
         "y": [
          51,
          112,
          104,
          16,
          67,
          39,
          89,
          59,
          37,
          32,
          13,
          46,
          23,
          27,
          19,
          19,
          72,
          46,
          66,
          51,
          53,
          43,
          57,
          48,
          246,
          237,
          85,
          28,
          48,
          30,
          58,
          29,
          26,
          4,
          59,
          61,
          59,
          85,
          69,
          60,
          61,
          42,
          145,
          112,
          39,
          0,
          59,
          113,
          55,
          79,
          54,
          27,
          20,
          15,
          22,
          17,
          11,
          25,
          5,
          10,
          5,
          1,
          9,
          50,
          14,
          134,
          61,
          32,
          74,
          180,
          43,
          37,
          31,
          15,
          31,
          13,
          61,
          31,
          36,
          34,
          47,
          27,
          40,
          62,
          16,
          9,
          12,
          10,
          432,
          15,
          4,
          3,
          0,
          8,
          30,
          40,
          72,
          114,
          79,
          89,
          6,
          1,
          0,
          9,
          6,
          2,
          4,
          6,
          6,
          9,
          9,
          978,
          13,
          3,
          6,
          13,
          2,
          5,
          15,
          2,
          5,
          8,
          2,
          8,
          8,
          4,
          12,
          2,
          30,
          4,
          0,
          2,
          24,
          15,
          6,
          10,
          2,
          181,
          12,
          8,
          1,
          3,
          15,
          0,
          1,
          28,
          2,
          2,
          5,
          9,
          4,
          2,
          6,
          1,
          0,
          0,
          3,
          2,
          1,
          5,
          5,
          8,
          8,
          20,
          614,
          1590,
          10,
          3,
          0,
          12,
          3,
          6,
          40,
          34,
          74,
          4,
          9,
          7,
          3,
          1,
          7,
          1,
          4,
          4,
          5,
          6,
          8,
          11,
          3,
          9,
          7,
          3,
          3,
          23,
          17,
          20,
          18,
          2,
          13,
          2,
          2,
          20,
          8,
          6,
          5,
          7,
          6,
          7,
          14,
          25,
          32,
          25,
          16,
          24,
          18,
          66,
          34,
          20,
          9,
          7,
          1,
          43,
          3,
          5,
          11,
          4,
          3,
          33,
          8,
          21,
          8,
          9,
          2,
          2,
          2,
          1,
          3,
          1,
          1,
          4,
          1,
          2,
          9,
          6,
          4,
          1,
          4,
          1,
          26
         ],
         "y0": " ",
         "yaxis": "y"
        },
        {
         "alignmentgroup": "True",
         "box": {
          "visible": false
         },
         "hovertemplate": "Type=%{x}<br>Count=%{y}<extra></extra>",
         "legendgroup": "israelis_killed",
         "marker": {
          "color": "#ab63fa"
         },
         "name": "israelis_killed",
         "offsetgroup": "israelis_killed",
         "orientation": "v",
         "scalegroup": "True",
         "showlegend": true,
         "type": "violin",
         "x": [
          "israelis_killed",
          "israelis_killed",
          "israelis_killed",
          "israelis_killed",
          "israelis_killed",
          "israelis_killed",
          "israelis_killed",
          "israelis_killed",
          "israelis_killed",
          "israelis_killed",
          "israelis_killed",
          "israelis_killed",
          "israelis_killed",
          "israelis_killed",
          "israelis_killed",
          "israelis_killed",
          "israelis_killed",
          "israelis_killed",
          "israelis_killed",
          "israelis_killed",
          "israelis_killed",
          "israelis_killed",
          "israelis_killed",
          "israelis_killed",
          "israelis_killed",
          "israelis_killed",
          "israelis_killed",
          "israelis_killed",
          "israelis_killed",
          "israelis_killed",
          "israelis_killed",
          "israelis_killed",
          "israelis_killed",
          "israelis_killed",
          "israelis_killed",
          "israelis_killed",
          "israelis_killed",
          "israelis_killed",
          "israelis_killed",
          "israelis_killed",
          "israelis_killed",
          "israelis_killed",
          "israelis_killed",
          "israelis_killed",
          "israelis_killed",
          "israelis_killed",
          "israelis_killed",
          "israelis_killed",
          "israelis_killed",
          "israelis_killed",
          "israelis_killed",
          "israelis_killed",
          "israelis_killed",
          "israelis_killed",
          "israelis_killed",
          "israelis_killed",
          "israelis_killed",
          "israelis_killed",
          "israelis_killed",
          "israelis_killed",
          "israelis_killed",
          "israelis_killed",
          "israelis_killed",
          "israelis_killed",
          "israelis_killed",
          "israelis_killed",
          "israelis_killed",
          "israelis_killed",
          "israelis_killed",
          "israelis_killed",
          "israelis_killed",
          "israelis_killed",
          "israelis_killed",
          "israelis_killed",
          "israelis_killed",
          "israelis_killed",
          "israelis_killed",
          "israelis_killed",
          "israelis_killed",
          "israelis_killed",
          "israelis_killed",
          "israelis_killed",
          "israelis_killed",
          "israelis_killed",
          "israelis_killed",
          "israelis_killed",
          "israelis_killed",
          "israelis_killed",
          "israelis_killed",
          "israelis_killed",
          "israelis_killed",
          "israelis_killed",
          "israelis_killed",
          "israelis_killed",
          "israelis_killed",
          "israelis_killed",
          "israelis_killed",
          "israelis_killed",
          "israelis_killed",
          "israelis_killed",
          "israelis_killed",
          "israelis_killed",
          "israelis_killed",
          "israelis_killed",
          "israelis_killed",
          "israelis_killed",
          "israelis_killed",
          "israelis_killed",
          "israelis_killed",
          "israelis_killed",
          "israelis_killed",
          "israelis_killed",
          "israelis_killed",
          "israelis_killed",
          "israelis_killed",
          "israelis_killed",
          "israelis_killed",
          "israelis_killed",
          "israelis_killed",
          "israelis_killed",
          "israelis_killed",
          "israelis_killed",
          "israelis_killed",
          "israelis_killed",
          "israelis_killed",
          "israelis_killed",
          "israelis_killed",
          "israelis_killed",
          "israelis_killed",
          "israelis_killed",
          "israelis_killed",
          "israelis_killed",
          "israelis_killed",
          "israelis_killed",
          "israelis_killed",
          "israelis_killed",
          "israelis_killed",
          "israelis_killed",
          "israelis_killed",
          "israelis_killed",
          "israelis_killed",
          "israelis_killed",
          "israelis_killed",
          "israelis_killed",
          "israelis_killed",
          "israelis_killed",
          "israelis_killed",
          "israelis_killed",
          "israelis_killed",
          "israelis_killed",
          "israelis_killed",
          "israelis_killed",
          "israelis_killed",
          "israelis_killed",
          "israelis_killed",
          "israelis_killed",
          "israelis_killed",
          "israelis_killed",
          "israelis_killed",
          "israelis_killed",
          "israelis_killed",
          "israelis_killed",
          "israelis_killed",
          "israelis_killed",
          "israelis_killed",
          "israelis_killed",
          "israelis_killed",
          "israelis_killed",
          "israelis_killed",
          "israelis_killed",
          "israelis_killed",
          "israelis_killed",
          "israelis_killed",
          "israelis_killed",
          "israelis_killed",
          "israelis_killed",
          "israelis_killed",
          "israelis_killed",
          "israelis_killed",
          "israelis_killed",
          "israelis_killed",
          "israelis_killed",
          "israelis_killed",
          "israelis_killed",
          "israelis_killed",
          "israelis_killed",
          "israelis_killed",
          "israelis_killed",
          "israelis_killed",
          "israelis_killed",
          "israelis_killed",
          "israelis_killed",
          "israelis_killed",
          "israelis_killed",
          "israelis_killed",
          "israelis_killed",
          "israelis_killed",
          "israelis_killed",
          "israelis_killed",
          "israelis_killed",
          "israelis_killed",
          "israelis_killed",
          "israelis_killed",
          "israelis_killed",
          "israelis_killed",
          "israelis_killed",
          "israelis_killed",
          "israelis_killed",
          "israelis_killed",
          "israelis_killed",
          "israelis_killed",
          "israelis_killed",
          "israelis_killed",
          "israelis_killed",
          "israelis_killed",
          "israelis_killed",
          "israelis_killed",
          "israelis_killed",
          "israelis_killed",
          "israelis_killed",
          "israelis_killed",
          "israelis_killed",
          "israelis_killed",
          "israelis_killed",
          "israelis_killed",
          "israelis_killed",
          "israelis_killed",
          "israelis_killed",
          "israelis_killed",
          "israelis_killed",
          "israelis_killed",
          "israelis_killed",
          "israelis_killed",
          "israelis_killed",
          "israelis_killed",
          "israelis_killed",
          "israelis_killed",
          "israelis_killed",
          "israelis_killed",
          "israelis_killed",
          "israelis_killed",
          "israelis_killed",
          "israelis_killed",
          "israelis_killed",
          "israelis_killed",
          "israelis_killed",
          "israelis_killed",
          "israelis_killed",
          "israelis_killed"
         ],
         "x0": " ",
         "xaxis": "x",
         "y": [
          8,
          22,
          10,
          1,
          36,
          14,
          14,
          13,
          26,
          10,
          28,
          17,
          7,
          8,
          13,
          6,
          7,
          40,
          22,
          13,
          13,
          25,
          57,
          29,
          46,
          122,
          29,
          16,
          6,
          4,
          27,
          21,
          25,
          2,
          28,
          13,
          6,
          23,
          8,
          22,
          8,
          3,
          3,
          11,
          17,
          0,
          3,
          19,
          3,
          11,
          11,
          15,
          8,
          1,
          10,
          1,
          0,
          8,
          4,
          1,
          0,
          0,
          5,
          13,
          0,
          0,
          0,
          1,
          1,
          2,
          3,
          0,
          7,
          5,
          1,
          0,
          2,
          1,
          2,
          0,
          0,
          1,
          0,
          2,
          0,
          0,
          1,
          3,
          4,
          0,
          1,
          0,
          4,
          4,
          1,
          2,
          8,
          12,
          2,
          1,
          1,
          0,
          0,
          0,
          0,
          0,
          0,
          1,
          1,
          0,
          0,
          6,
          0,
          0,
          0,
          0,
          4,
          0,
          1,
          0,
          0,
          2,
          2,
          0,
          0,
          0,
          0,
          2,
          1,
          0,
          0,
          0,
          2,
          5,
          0,
          0,
          0,
          6,
          0,
          0,
          0,
          0,
          1,
          0,
          0,
          0,
          0,
          0,
          1,
          1,
          1,
          2,
          0,
          0,
          0,
          0,
          1,
          0,
          0,
          0,
          0,
          10,
          2,
          0,
          9,
          59,
          3,
          1,
          1,
          0,
          0,
          0,
          2,
          8,
          10,
          1,
          0,
          0,
          2,
          0,
          1,
          0,
          0,
          0,
          0,
          0,
          2,
          0,
          0,
          1,
          5,
          0,
          0,
          0,
          2,
          2,
          0,
          2,
          1,
          3,
          0,
          5,
          1,
          0,
          1,
          0,
          0,
          6,
          2,
          1,
          2,
          1,
          0,
          2,
          0,
          1,
          0,
          3,
          1,
          1,
          0,
          0,
          0,
          1,
          2,
          1,
          0,
          4,
          0,
          2,
          1,
          0,
          1,
          0,
          0,
          0,
          1,
          0,
          0,
          1,
          0,
          0,
          0,
          0,
          0,
          0,
          0,
          0,
          3
         ],
         "y0": " ",
         "yaxis": "y"
        }
       ],
       "layout": {
        "legend": {
         "title": {
          "text": "Type"
         },
         "tracegroupgap": 0
        },
        "template": {
         "data": {
          "bar": [
           {
            "error_x": {
             "color": "#2a3f5f"
            },
            "error_y": {
             "color": "#2a3f5f"
            },
            "marker": {
             "line": {
              "color": "#E5ECF6",
              "width": 0.5
             },
             "pattern": {
              "fillmode": "overlay",
              "size": 10,
              "solidity": 0.2
             }
            },
            "type": "bar"
           }
          ],
          "barpolar": [
           {
            "marker": {
             "line": {
              "color": "#E5ECF6",
              "width": 0.5
             },
             "pattern": {
              "fillmode": "overlay",
              "size": 10,
              "solidity": 0.2
             }
            },
            "type": "barpolar"
           }
          ],
          "carpet": [
           {
            "aaxis": {
             "endlinecolor": "#2a3f5f",
             "gridcolor": "white",
             "linecolor": "white",
             "minorgridcolor": "white",
             "startlinecolor": "#2a3f5f"
            },
            "baxis": {
             "endlinecolor": "#2a3f5f",
             "gridcolor": "white",
             "linecolor": "white",
             "minorgridcolor": "white",
             "startlinecolor": "#2a3f5f"
            },
            "type": "carpet"
           }
          ],
          "choropleth": [
           {
            "colorbar": {
             "outlinewidth": 0,
             "ticks": ""
            },
            "type": "choropleth"
           }
          ],
          "contour": [
           {
            "colorbar": {
             "outlinewidth": 0,
             "ticks": ""
            },
            "colorscale": [
             [
              0,
              "#0d0887"
             ],
             [
              0.1111111111111111,
              "#46039f"
             ],
             [
              0.2222222222222222,
              "#7201a8"
             ],
             [
              0.3333333333333333,
              "#9c179e"
             ],
             [
              0.4444444444444444,
              "#bd3786"
             ],
             [
              0.5555555555555556,
              "#d8576b"
             ],
             [
              0.6666666666666666,
              "#ed7953"
             ],
             [
              0.7777777777777778,
              "#fb9f3a"
             ],
             [
              0.8888888888888888,
              "#fdca26"
             ],
             [
              1,
              "#f0f921"
             ]
            ],
            "type": "contour"
           }
          ],
          "contourcarpet": [
           {
            "colorbar": {
             "outlinewidth": 0,
             "ticks": ""
            },
            "type": "contourcarpet"
           }
          ],
          "heatmap": [
           {
            "colorbar": {
             "outlinewidth": 0,
             "ticks": ""
            },
            "colorscale": [
             [
              0,
              "#0d0887"
             ],
             [
              0.1111111111111111,
              "#46039f"
             ],
             [
              0.2222222222222222,
              "#7201a8"
             ],
             [
              0.3333333333333333,
              "#9c179e"
             ],
             [
              0.4444444444444444,
              "#bd3786"
             ],
             [
              0.5555555555555556,
              "#d8576b"
             ],
             [
              0.6666666666666666,
              "#ed7953"
             ],
             [
              0.7777777777777778,
              "#fb9f3a"
             ],
             [
              0.8888888888888888,
              "#fdca26"
             ],
             [
              1,
              "#f0f921"
             ]
            ],
            "type": "heatmap"
           }
          ],
          "heatmapgl": [
           {
            "colorbar": {
             "outlinewidth": 0,
             "ticks": ""
            },
            "colorscale": [
             [
              0,
              "#0d0887"
             ],
             [
              0.1111111111111111,
              "#46039f"
             ],
             [
              0.2222222222222222,
              "#7201a8"
             ],
             [
              0.3333333333333333,
              "#9c179e"
             ],
             [
              0.4444444444444444,
              "#bd3786"
             ],
             [
              0.5555555555555556,
              "#d8576b"
             ],
             [
              0.6666666666666666,
              "#ed7953"
             ],
             [
              0.7777777777777778,
              "#fb9f3a"
             ],
             [
              0.8888888888888888,
              "#fdca26"
             ],
             [
              1,
              "#f0f921"
             ]
            ],
            "type": "heatmapgl"
           }
          ],
          "histogram": [
           {
            "marker": {
             "pattern": {
              "fillmode": "overlay",
              "size": 10,
              "solidity": 0.2
             }
            },
            "type": "histogram"
           }
          ],
          "histogram2d": [
           {
            "colorbar": {
             "outlinewidth": 0,
             "ticks": ""
            },
            "colorscale": [
             [
              0,
              "#0d0887"
             ],
             [
              0.1111111111111111,
              "#46039f"
             ],
             [
              0.2222222222222222,
              "#7201a8"
             ],
             [
              0.3333333333333333,
              "#9c179e"
             ],
             [
              0.4444444444444444,
              "#bd3786"
             ],
             [
              0.5555555555555556,
              "#d8576b"
             ],
             [
              0.6666666666666666,
              "#ed7953"
             ],
             [
              0.7777777777777778,
              "#fb9f3a"
             ],
             [
              0.8888888888888888,
              "#fdca26"
             ],
             [
              1,
              "#f0f921"
             ]
            ],
            "type": "histogram2d"
           }
          ],
          "histogram2dcontour": [
           {
            "colorbar": {
             "outlinewidth": 0,
             "ticks": ""
            },
            "colorscale": [
             [
              0,
              "#0d0887"
             ],
             [
              0.1111111111111111,
              "#46039f"
             ],
             [
              0.2222222222222222,
              "#7201a8"
             ],
             [
              0.3333333333333333,
              "#9c179e"
             ],
             [
              0.4444444444444444,
              "#bd3786"
             ],
             [
              0.5555555555555556,
              "#d8576b"
             ],
             [
              0.6666666666666666,
              "#ed7953"
             ],
             [
              0.7777777777777778,
              "#fb9f3a"
             ],
             [
              0.8888888888888888,
              "#fdca26"
             ],
             [
              1,
              "#f0f921"
             ]
            ],
            "type": "histogram2dcontour"
           }
          ],
          "mesh3d": [
           {
            "colorbar": {
             "outlinewidth": 0,
             "ticks": ""
            },
            "type": "mesh3d"
           }
          ],
          "parcoords": [
           {
            "line": {
             "colorbar": {
              "outlinewidth": 0,
              "ticks": ""
             }
            },
            "type": "parcoords"
           }
          ],
          "pie": [
           {
            "automargin": true,
            "type": "pie"
           }
          ],
          "scatter": [
           {
            "fillpattern": {
             "fillmode": "overlay",
             "size": 10,
             "solidity": 0.2
            },
            "type": "scatter"
           }
          ],
          "scatter3d": [
           {
            "line": {
             "colorbar": {
              "outlinewidth": 0,
              "ticks": ""
             }
            },
            "marker": {
             "colorbar": {
              "outlinewidth": 0,
              "ticks": ""
             }
            },
            "type": "scatter3d"
           }
          ],
          "scattercarpet": [
           {
            "marker": {
             "colorbar": {
              "outlinewidth": 0,
              "ticks": ""
             }
            },
            "type": "scattercarpet"
           }
          ],
          "scattergeo": [
           {
            "marker": {
             "colorbar": {
              "outlinewidth": 0,
              "ticks": ""
             }
            },
            "type": "scattergeo"
           }
          ],
          "scattergl": [
           {
            "marker": {
             "colorbar": {
              "outlinewidth": 0,
              "ticks": ""
             }
            },
            "type": "scattergl"
           }
          ],
          "scattermapbox": [
           {
            "marker": {
             "colorbar": {
              "outlinewidth": 0,
              "ticks": ""
             }
            },
            "type": "scattermapbox"
           }
          ],
          "scatterpolar": [
           {
            "marker": {
             "colorbar": {
              "outlinewidth": 0,
              "ticks": ""
             }
            },
            "type": "scatterpolar"
           }
          ],
          "scatterpolargl": [
           {
            "marker": {
             "colorbar": {
              "outlinewidth": 0,
              "ticks": ""
             }
            },
            "type": "scatterpolargl"
           }
          ],
          "scatterternary": [
           {
            "marker": {
             "colorbar": {
              "outlinewidth": 0,
              "ticks": ""
             }
            },
            "type": "scatterternary"
           }
          ],
          "surface": [
           {
            "colorbar": {
             "outlinewidth": 0,
             "ticks": ""
            },
            "colorscale": [
             [
              0,
              "#0d0887"
             ],
             [
              0.1111111111111111,
              "#46039f"
             ],
             [
              0.2222222222222222,
              "#7201a8"
             ],
             [
              0.3333333333333333,
              "#9c179e"
             ],
             [
              0.4444444444444444,
              "#bd3786"
             ],
             [
              0.5555555555555556,
              "#d8576b"
             ],
             [
              0.6666666666666666,
              "#ed7953"
             ],
             [
              0.7777777777777778,
              "#fb9f3a"
             ],
             [
              0.8888888888888888,
              "#fdca26"
             ],
             [
              1,
              "#f0f921"
             ]
            ],
            "type": "surface"
           }
          ],
          "table": [
           {
            "cells": {
             "fill": {
              "color": "#EBF0F8"
             },
             "line": {
              "color": "white"
             }
            },
            "header": {
             "fill": {
              "color": "#C8D4E3"
             },
             "line": {
              "color": "white"
             }
            },
            "type": "table"
           }
          ]
         },
         "layout": {
          "annotationdefaults": {
           "arrowcolor": "#2a3f5f",
           "arrowhead": 0,
           "arrowwidth": 1
          },
          "autotypenumbers": "strict",
          "coloraxis": {
           "colorbar": {
            "outlinewidth": 0,
            "ticks": ""
           }
          },
          "colorscale": {
           "diverging": [
            [
             0,
             "#8e0152"
            ],
            [
             0.1,
             "#c51b7d"
            ],
            [
             0.2,
             "#de77ae"
            ],
            [
             0.3,
             "#f1b6da"
            ],
            [
             0.4,
             "#fde0ef"
            ],
            [
             0.5,
             "#f7f7f7"
            ],
            [
             0.6,
             "#e6f5d0"
            ],
            [
             0.7,
             "#b8e186"
            ],
            [
             0.8,
             "#7fbc41"
            ],
            [
             0.9,
             "#4d9221"
            ],
            [
             1,
             "#276419"
            ]
           ],
           "sequential": [
            [
             0,
             "#0d0887"
            ],
            [
             0.1111111111111111,
             "#46039f"
            ],
            [
             0.2222222222222222,
             "#7201a8"
            ],
            [
             0.3333333333333333,
             "#9c179e"
            ],
            [
             0.4444444444444444,
             "#bd3786"
            ],
            [
             0.5555555555555556,
             "#d8576b"
            ],
            [
             0.6666666666666666,
             "#ed7953"
            ],
            [
             0.7777777777777778,
             "#fb9f3a"
            ],
            [
             0.8888888888888888,
             "#fdca26"
            ],
            [
             1,
             "#f0f921"
            ]
           ],
           "sequentialminus": [
            [
             0,
             "#0d0887"
            ],
            [
             0.1111111111111111,
             "#46039f"
            ],
            [
             0.2222222222222222,
             "#7201a8"
            ],
            [
             0.3333333333333333,
             "#9c179e"
            ],
            [
             0.4444444444444444,
             "#bd3786"
            ],
            [
             0.5555555555555556,
             "#d8576b"
            ],
            [
             0.6666666666666666,
             "#ed7953"
            ],
            [
             0.7777777777777778,
             "#fb9f3a"
            ],
            [
             0.8888888888888888,
             "#fdca26"
            ],
            [
             1,
             "#f0f921"
            ]
           ]
          },
          "colorway": [
           "#636efa",
           "#EF553B",
           "#00cc96",
           "#ab63fa",
           "#FFA15A",
           "#19d3f3",
           "#FF6692",
           "#B6E880",
           "#FF97FF",
           "#FECB52"
          ],
          "font": {
           "color": "#2a3f5f"
          },
          "geo": {
           "bgcolor": "white",
           "lakecolor": "white",
           "landcolor": "#E5ECF6",
           "showlakes": true,
           "showland": true,
           "subunitcolor": "white"
          },
          "hoverlabel": {
           "align": "left"
          },
          "hovermode": "closest",
          "mapbox": {
           "style": "light"
          },
          "paper_bgcolor": "white",
          "plot_bgcolor": "#E5ECF6",
          "polar": {
           "angularaxis": {
            "gridcolor": "white",
            "linecolor": "white",
            "ticks": ""
           },
           "bgcolor": "#E5ECF6",
           "radialaxis": {
            "gridcolor": "white",
            "linecolor": "white",
            "ticks": ""
           }
          },
          "scene": {
           "xaxis": {
            "backgroundcolor": "#E5ECF6",
            "gridcolor": "white",
            "gridwidth": 2,
            "linecolor": "white",
            "showbackground": true,
            "ticks": "",
            "zerolinecolor": "white"
           },
           "yaxis": {
            "backgroundcolor": "#E5ECF6",
            "gridcolor": "white",
            "gridwidth": 2,
            "linecolor": "white",
            "showbackground": true,
            "ticks": "",
            "zerolinecolor": "white"
           },
           "zaxis": {
            "backgroundcolor": "#E5ECF6",
            "gridcolor": "white",
            "gridwidth": 2,
            "linecolor": "white",
            "showbackground": true,
            "ticks": "",
            "zerolinecolor": "white"
           }
          },
          "shapedefaults": {
           "line": {
            "color": "#2a3f5f"
           }
          },
          "ternary": {
           "aaxis": {
            "gridcolor": "white",
            "linecolor": "white",
            "ticks": ""
           },
           "baxis": {
            "gridcolor": "white",
            "linecolor": "white",
            "ticks": ""
           },
           "bgcolor": "#E5ECF6",
           "caxis": {
            "gridcolor": "white",
            "linecolor": "white",
            "ticks": ""
           }
          },
          "title": {
           "x": 0.05
          },
          "xaxis": {
           "automargin": true,
           "gridcolor": "white",
           "linecolor": "white",
           "ticks": "",
           "title": {
            "standoff": 15
           },
           "zerolinecolor": "white",
           "zerolinewidth": 2
          },
          "yaxis": {
           "automargin": true,
           "gridcolor": "white",
           "linecolor": "white",
           "ticks": "",
           "title": {
            "standoff": 15
           },
           "zerolinecolor": "white",
           "zerolinewidth": 2
          }
         }
        },
        "title": {
         "text": "Distribution of Injuries and Killings"
        },
        "violinmode": "overlay",
        "xaxis": {
         "anchor": "y",
         "categoryarray": [
          "palestinians_injuries",
          "israelis_injuries",
          "palestinians_killed",
          "israelis_killed"
         ],
         "categoryorder": "array",
         "domain": [
          0,
          1
         ],
         "title": {
          "text": "Type"
         }
        },
        "yaxis": {
         "anchor": "x",
         "domain": [
          0,
          1
         ],
         "title": {
          "text": "Count"
         }
        }
       }
      }
     },
     "metadata": {},
     "output_type": "display_data"
    }
   ],
   "source": [
    "fig = px.violin(df.melt(id_vars=['year'], value_vars=['palestinians_injuries', 'israelis_injuries', 'palestinians_killed', 'israelis_killed']),\n",
    "                x='variable', y='value', color='variable',\n",
    "                title='Distribution of Injuries and Killings',\n",
    "                labels={'value': 'Count', 'variable': 'Type'})\n",
    "fig.show()\n"
   ]
  },
  {
   "cell_type": "code",
   "execution_count": 11,
   "metadata": {},
   "outputs": [
    {
     "data": {
      "application/vnd.plotly.v1+json": {
       "config": {
        "plotlyServerURL": "https://plot.ly"
       },
       "data": [
        {
         "hovertemplate": "Type=palestinians_injuries<br>year=%{x}<br>Number of Cases=%{y}<extra></extra>",
         "legendgroup": "palestinians_injuries",
         "line": {
          "color": "#636efa",
          "dash": "solid"
         },
         "marker": {
          "symbol": "circle"
         },
         "mode": "lines",
         "name": "palestinians_injuries",
         "orientation": "v",
         "showlegend": true,
         "type": "scatter",
         "x": [
          2000,
          2001,
          2002,
          2003,
          2004,
          2005,
          2006,
          2007,
          2008,
          2009,
          2010,
          2011,
          2012,
          2013,
          2014,
          2015,
          2016,
          2017,
          2018,
          2019,
          2020,
          2021
         ],
         "xaxis": "x",
         "y": [
          10603,
          6386,
          4382,
          2992,
          4009,
          1385,
          3199,
          15426,
          0,
          6471,
          1539,
          2110,
          4894,
          3964,
          17125,
          15477,
          3429,
          8084,
          0,
          0,
          0,
          0
         ],
         "yaxis": "y"
        },
        {
         "hovertemplate": "Type=israelis_injuries<br>year=%{x}<br>Number of Cases=%{y}<extra></extra>",
         "legendgroup": "israelis_injuries",
         "line": {
          "color": "#EF553B",
          "dash": "solid"
         },
         "marker": {
          "symbol": "circle"
         },
         "mode": "lines",
         "name": "israelis_injuries",
         "orientation": "v",
         "showlegend": true,
         "type": "scatter",
         "x": [
          2000,
          2001,
          2002,
          2003,
          2004,
          2005,
          2006,
          2007,
          2008,
          2009,
          2010,
          2011,
          2012,
          2013,
          2014,
          2015,
          2016,
          2017,
          2018,
          2019,
          2020,
          2021
         ],
         "xaxis": "x",
         "y": [
          0,
          0,
          0,
          0,
          0,
          493,
          377,
          322,
          0,
          0,
          176,
          124,
          345,
          151,
          2539,
          304,
          171,
          158,
          0,
          0,
          0,
          0
         ],
         "yaxis": "y"
        },
        {
         "hovertemplate": "Type=palestinians_killed<br>year=%{x}<br>Number of Cases=%{y}<extra></extra>",
         "legendgroup": "palestinians_killed",
         "line": {
          "color": "#00cc96",
          "dash": "solid"
         },
         "marker": {
          "symbol": "circle"
         },
         "mode": "lines",
         "name": "palestinians_killed",
         "orientation": "v",
         "showlegend": true,
         "type": "scatter",
         "x": [
          2000,
          2001,
          2002,
          2003,
          2004,
          2005,
          2006,
          2007,
          2008,
          2009,
          2010,
          2011,
          2012,
          2013,
          2014,
          2015,
          2016,
          2017,
          2018,
          2019,
          2020,
          2021
         ],
         "xaxis": "x",
         "y": [
          283,
          470,
          1032,
          588,
          786,
          190,
          665,
          385,
          886,
          1036,
          82,
          117,
          255,
          38,
          2279,
          188,
          115,
          96,
          290,
          149,
          34,
          36
         ],
         "yaxis": "y"
        },
        {
         "hovertemplate": "Type=israelis_killed<br>year=%{x}<br>Number of Cases=%{y}<extra></extra>",
         "legendgroup": "israelis_killed",
         "line": {
          "color": "#ab63fa",
          "dash": "solid"
         },
         "marker": {
          "symbol": "circle"
         },
         "mode": "lines",
         "name": "israelis_killed",
         "orientation": "v",
         "showlegend": true,
         "type": "scatter",
         "x": [
          2000,
          2001,
          2002,
          2003,
          2004,
          2005,
          2006,
          2007,
          2008,
          2009,
          2010,
          2011,
          2012,
          2013,
          2014,
          2015,
          2016,
          2017,
          2018,
          2019,
          2020,
          2021
         ],
         "xaxis": "x",
         "y": [
          41,
          192,
          419,
          185,
          104,
          51,
          20,
          12,
          39,
          9,
          9,
          10,
          7,
          6,
          85,
          24,
          12,
          19,
          14,
          11,
          3,
          3
         ],
         "yaxis": "y"
        }
       ],
       "layout": {
        "legend": {
         "title": {
          "text": "Type"
         },
         "tracegroupgap": 0
        },
        "template": {
         "data": {
          "bar": [
           {
            "error_x": {
             "color": "#2a3f5f"
            },
            "error_y": {
             "color": "#2a3f5f"
            },
            "marker": {
             "line": {
              "color": "#E5ECF6",
              "width": 0.5
             },
             "pattern": {
              "fillmode": "overlay",
              "size": 10,
              "solidity": 0.2
             }
            },
            "type": "bar"
           }
          ],
          "barpolar": [
           {
            "marker": {
             "line": {
              "color": "#E5ECF6",
              "width": 0.5
             },
             "pattern": {
              "fillmode": "overlay",
              "size": 10,
              "solidity": 0.2
             }
            },
            "type": "barpolar"
           }
          ],
          "carpet": [
           {
            "aaxis": {
             "endlinecolor": "#2a3f5f",
             "gridcolor": "white",
             "linecolor": "white",
             "minorgridcolor": "white",
             "startlinecolor": "#2a3f5f"
            },
            "baxis": {
             "endlinecolor": "#2a3f5f",
             "gridcolor": "white",
             "linecolor": "white",
             "minorgridcolor": "white",
             "startlinecolor": "#2a3f5f"
            },
            "type": "carpet"
           }
          ],
          "choropleth": [
           {
            "colorbar": {
             "outlinewidth": 0,
             "ticks": ""
            },
            "type": "choropleth"
           }
          ],
          "contour": [
           {
            "colorbar": {
             "outlinewidth": 0,
             "ticks": ""
            },
            "colorscale": [
             [
              0,
              "#0d0887"
             ],
             [
              0.1111111111111111,
              "#46039f"
             ],
             [
              0.2222222222222222,
              "#7201a8"
             ],
             [
              0.3333333333333333,
              "#9c179e"
             ],
             [
              0.4444444444444444,
              "#bd3786"
             ],
             [
              0.5555555555555556,
              "#d8576b"
             ],
             [
              0.6666666666666666,
              "#ed7953"
             ],
             [
              0.7777777777777778,
              "#fb9f3a"
             ],
             [
              0.8888888888888888,
              "#fdca26"
             ],
             [
              1,
              "#f0f921"
             ]
            ],
            "type": "contour"
           }
          ],
          "contourcarpet": [
           {
            "colorbar": {
             "outlinewidth": 0,
             "ticks": ""
            },
            "type": "contourcarpet"
           }
          ],
          "heatmap": [
           {
            "colorbar": {
             "outlinewidth": 0,
             "ticks": ""
            },
            "colorscale": [
             [
              0,
              "#0d0887"
             ],
             [
              0.1111111111111111,
              "#46039f"
             ],
             [
              0.2222222222222222,
              "#7201a8"
             ],
             [
              0.3333333333333333,
              "#9c179e"
             ],
             [
              0.4444444444444444,
              "#bd3786"
             ],
             [
              0.5555555555555556,
              "#d8576b"
             ],
             [
              0.6666666666666666,
              "#ed7953"
             ],
             [
              0.7777777777777778,
              "#fb9f3a"
             ],
             [
              0.8888888888888888,
              "#fdca26"
             ],
             [
              1,
              "#f0f921"
             ]
            ],
            "type": "heatmap"
           }
          ],
          "heatmapgl": [
           {
            "colorbar": {
             "outlinewidth": 0,
             "ticks": ""
            },
            "colorscale": [
             [
              0,
              "#0d0887"
             ],
             [
              0.1111111111111111,
              "#46039f"
             ],
             [
              0.2222222222222222,
              "#7201a8"
             ],
             [
              0.3333333333333333,
              "#9c179e"
             ],
             [
              0.4444444444444444,
              "#bd3786"
             ],
             [
              0.5555555555555556,
              "#d8576b"
             ],
             [
              0.6666666666666666,
              "#ed7953"
             ],
             [
              0.7777777777777778,
              "#fb9f3a"
             ],
             [
              0.8888888888888888,
              "#fdca26"
             ],
             [
              1,
              "#f0f921"
             ]
            ],
            "type": "heatmapgl"
           }
          ],
          "histogram": [
           {
            "marker": {
             "pattern": {
              "fillmode": "overlay",
              "size": 10,
              "solidity": 0.2
             }
            },
            "type": "histogram"
           }
          ],
          "histogram2d": [
           {
            "colorbar": {
             "outlinewidth": 0,
             "ticks": ""
            },
            "colorscale": [
             [
              0,
              "#0d0887"
             ],
             [
              0.1111111111111111,
              "#46039f"
             ],
             [
              0.2222222222222222,
              "#7201a8"
             ],
             [
              0.3333333333333333,
              "#9c179e"
             ],
             [
              0.4444444444444444,
              "#bd3786"
             ],
             [
              0.5555555555555556,
              "#d8576b"
             ],
             [
              0.6666666666666666,
              "#ed7953"
             ],
             [
              0.7777777777777778,
              "#fb9f3a"
             ],
             [
              0.8888888888888888,
              "#fdca26"
             ],
             [
              1,
              "#f0f921"
             ]
            ],
            "type": "histogram2d"
           }
          ],
          "histogram2dcontour": [
           {
            "colorbar": {
             "outlinewidth": 0,
             "ticks": ""
            },
            "colorscale": [
             [
              0,
              "#0d0887"
             ],
             [
              0.1111111111111111,
              "#46039f"
             ],
             [
              0.2222222222222222,
              "#7201a8"
             ],
             [
              0.3333333333333333,
              "#9c179e"
             ],
             [
              0.4444444444444444,
              "#bd3786"
             ],
             [
              0.5555555555555556,
              "#d8576b"
             ],
             [
              0.6666666666666666,
              "#ed7953"
             ],
             [
              0.7777777777777778,
              "#fb9f3a"
             ],
             [
              0.8888888888888888,
              "#fdca26"
             ],
             [
              1,
              "#f0f921"
             ]
            ],
            "type": "histogram2dcontour"
           }
          ],
          "mesh3d": [
           {
            "colorbar": {
             "outlinewidth": 0,
             "ticks": ""
            },
            "type": "mesh3d"
           }
          ],
          "parcoords": [
           {
            "line": {
             "colorbar": {
              "outlinewidth": 0,
              "ticks": ""
             }
            },
            "type": "parcoords"
           }
          ],
          "pie": [
           {
            "automargin": true,
            "type": "pie"
           }
          ],
          "scatter": [
           {
            "fillpattern": {
             "fillmode": "overlay",
             "size": 10,
             "solidity": 0.2
            },
            "type": "scatter"
           }
          ],
          "scatter3d": [
           {
            "line": {
             "colorbar": {
              "outlinewidth": 0,
              "ticks": ""
             }
            },
            "marker": {
             "colorbar": {
              "outlinewidth": 0,
              "ticks": ""
             }
            },
            "type": "scatter3d"
           }
          ],
          "scattercarpet": [
           {
            "marker": {
             "colorbar": {
              "outlinewidth": 0,
              "ticks": ""
             }
            },
            "type": "scattercarpet"
           }
          ],
          "scattergeo": [
           {
            "marker": {
             "colorbar": {
              "outlinewidth": 0,
              "ticks": ""
             }
            },
            "type": "scattergeo"
           }
          ],
          "scattergl": [
           {
            "marker": {
             "colorbar": {
              "outlinewidth": 0,
              "ticks": ""
             }
            },
            "type": "scattergl"
           }
          ],
          "scattermapbox": [
           {
            "marker": {
             "colorbar": {
              "outlinewidth": 0,
              "ticks": ""
             }
            },
            "type": "scattermapbox"
           }
          ],
          "scatterpolar": [
           {
            "marker": {
             "colorbar": {
              "outlinewidth": 0,
              "ticks": ""
             }
            },
            "type": "scatterpolar"
           }
          ],
          "scatterpolargl": [
           {
            "marker": {
             "colorbar": {
              "outlinewidth": 0,
              "ticks": ""
             }
            },
            "type": "scatterpolargl"
           }
          ],
          "scatterternary": [
           {
            "marker": {
             "colorbar": {
              "outlinewidth": 0,
              "ticks": ""
             }
            },
            "type": "scatterternary"
           }
          ],
          "surface": [
           {
            "colorbar": {
             "outlinewidth": 0,
             "ticks": ""
            },
            "colorscale": [
             [
              0,
              "#0d0887"
             ],
             [
              0.1111111111111111,
              "#46039f"
             ],
             [
              0.2222222222222222,
              "#7201a8"
             ],
             [
              0.3333333333333333,
              "#9c179e"
             ],
             [
              0.4444444444444444,
              "#bd3786"
             ],
             [
              0.5555555555555556,
              "#d8576b"
             ],
             [
              0.6666666666666666,
              "#ed7953"
             ],
             [
              0.7777777777777778,
              "#fb9f3a"
             ],
             [
              0.8888888888888888,
              "#fdca26"
             ],
             [
              1,
              "#f0f921"
             ]
            ],
            "type": "surface"
           }
          ],
          "table": [
           {
            "cells": {
             "fill": {
              "color": "#EBF0F8"
             },
             "line": {
              "color": "white"
             }
            },
            "header": {
             "fill": {
              "color": "#C8D4E3"
             },
             "line": {
              "color": "white"
             }
            },
            "type": "table"
           }
          ]
         },
         "layout": {
          "annotationdefaults": {
           "arrowcolor": "#2a3f5f",
           "arrowhead": 0,
           "arrowwidth": 1
          },
          "autotypenumbers": "strict",
          "coloraxis": {
           "colorbar": {
            "outlinewidth": 0,
            "ticks": ""
           }
          },
          "colorscale": {
           "diverging": [
            [
             0,
             "#8e0152"
            ],
            [
             0.1,
             "#c51b7d"
            ],
            [
             0.2,
             "#de77ae"
            ],
            [
             0.3,
             "#f1b6da"
            ],
            [
             0.4,
             "#fde0ef"
            ],
            [
             0.5,
             "#f7f7f7"
            ],
            [
             0.6,
             "#e6f5d0"
            ],
            [
             0.7,
             "#b8e186"
            ],
            [
             0.8,
             "#7fbc41"
            ],
            [
             0.9,
             "#4d9221"
            ],
            [
             1,
             "#276419"
            ]
           ],
           "sequential": [
            [
             0,
             "#0d0887"
            ],
            [
             0.1111111111111111,
             "#46039f"
            ],
            [
             0.2222222222222222,
             "#7201a8"
            ],
            [
             0.3333333333333333,
             "#9c179e"
            ],
            [
             0.4444444444444444,
             "#bd3786"
            ],
            [
             0.5555555555555556,
             "#d8576b"
            ],
            [
             0.6666666666666666,
             "#ed7953"
            ],
            [
             0.7777777777777778,
             "#fb9f3a"
            ],
            [
             0.8888888888888888,
             "#fdca26"
            ],
            [
             1,
             "#f0f921"
            ]
           ],
           "sequentialminus": [
            [
             0,
             "#0d0887"
            ],
            [
             0.1111111111111111,
             "#46039f"
            ],
            [
             0.2222222222222222,
             "#7201a8"
            ],
            [
             0.3333333333333333,
             "#9c179e"
            ],
            [
             0.4444444444444444,
             "#bd3786"
            ],
            [
             0.5555555555555556,
             "#d8576b"
            ],
            [
             0.6666666666666666,
             "#ed7953"
            ],
            [
             0.7777777777777778,
             "#fb9f3a"
            ],
            [
             0.8888888888888888,
             "#fdca26"
            ],
            [
             1,
             "#f0f921"
            ]
           ]
          },
          "colorway": [
           "#636efa",
           "#EF553B",
           "#00cc96",
           "#ab63fa",
           "#FFA15A",
           "#19d3f3",
           "#FF6692",
           "#B6E880",
           "#FF97FF",
           "#FECB52"
          ],
          "font": {
           "color": "#2a3f5f"
          },
          "geo": {
           "bgcolor": "white",
           "lakecolor": "white",
           "landcolor": "#E5ECF6",
           "showlakes": true,
           "showland": true,
           "subunitcolor": "white"
          },
          "hoverlabel": {
           "align": "left"
          },
          "hovermode": "closest",
          "mapbox": {
           "style": "light"
          },
          "paper_bgcolor": "white",
          "plot_bgcolor": "#E5ECF6",
          "polar": {
           "angularaxis": {
            "gridcolor": "white",
            "linecolor": "white",
            "ticks": ""
           },
           "bgcolor": "#E5ECF6",
           "radialaxis": {
            "gridcolor": "white",
            "linecolor": "white",
            "ticks": ""
           }
          },
          "scene": {
           "xaxis": {
            "backgroundcolor": "#E5ECF6",
            "gridcolor": "white",
            "gridwidth": 2,
            "linecolor": "white",
            "showbackground": true,
            "ticks": "",
            "zerolinecolor": "white"
           },
           "yaxis": {
            "backgroundcolor": "#E5ECF6",
            "gridcolor": "white",
            "gridwidth": 2,
            "linecolor": "white",
            "showbackground": true,
            "ticks": "",
            "zerolinecolor": "white"
           },
           "zaxis": {
            "backgroundcolor": "#E5ECF6",
            "gridcolor": "white",
            "gridwidth": 2,
            "linecolor": "white",
            "showbackground": true,
            "ticks": "",
            "zerolinecolor": "white"
           }
          },
          "shapedefaults": {
           "line": {
            "color": "#2a3f5f"
           }
          },
          "ternary": {
           "aaxis": {
            "gridcolor": "white",
            "linecolor": "white",
            "ticks": ""
           },
           "baxis": {
            "gridcolor": "white",
            "linecolor": "white",
            "ticks": ""
           },
           "bgcolor": "#E5ECF6",
           "caxis": {
            "gridcolor": "white",
            "linecolor": "white",
            "ticks": ""
           }
          },
          "title": {
           "x": 0.05
          },
          "xaxis": {
           "automargin": true,
           "gridcolor": "white",
           "linecolor": "white",
           "ticks": "",
           "title": {
            "standoff": 15
           },
           "zerolinecolor": "white",
           "zerolinewidth": 2
          },
          "yaxis": {
           "automargin": true,
           "gridcolor": "white",
           "linecolor": "white",
           "ticks": "",
           "title": {
            "standoff": 15
           },
           "zerolinecolor": "white",
           "zerolinewidth": 2
          }
         }
        },
        "title": {
         "text": "Injuries and Deaths in Israel-Palestine Conflict"
        },
        "xaxis": {
         "anchor": "y",
         "domain": [
          0,
          1
         ],
         "title": {
          "text": "year"
         }
        },
        "yaxis": {
         "anchor": "x",
         "domain": [
          0,
          1
         ],
         "title": {
          "text": "Number of Cases"
         }
        }
       }
      }
     },
     "metadata": {},
     "output_type": "display_data"
    }
   ],
   "source": [
    "# Group the data by year and calculate the total injuries and deaths for Palestinians and Israelis\n",
    "grouped_data = df.groupby('year').sum()[['palestinians_injuries', 'israelis_injuries', 'palestinians_killed', 'israelis_killed']]\n",
    "grouped_data.reset_index(inplace=True)  # Resetting index for Plotly\n",
    "\n",
    "# Plotting the data using Plotly Express\n",
    "fig = px.line(grouped_data, x='year',\n",
    "            y=['palestinians_injuries', 'israelis_injuries', 'palestinians_killed', 'israelis_killed'],\n",
    "            labels={'value': 'Number of Cases', 'variable': 'Type'},\n",
    "            title='Injuries and Deaths in Israel-Palestine Conflict')\n",
    "\n",
    "fig.show()"
   ]
  },
  {
   "cell_type": "code",
   "execution_count": 12,
   "metadata": {},
   "outputs": [
    {
     "data": {
      "application/vnd.plotly.v1+json": {
       "config": {
        "plotlyServerURL": "https://plot.ly"
       },
       "data": [
        {
         "alignmentgroup": "True",
         "hovertemplate": "variable=palestinians_injuries<br>month=%{x}<br>value=%{y}<extra></extra>",
         "legendgroup": "palestinians_injuries",
         "marker": {
          "color": "rgb(78, 115, 223)",
          "pattern": {
           "shape": ""
          }
         },
         "name": "palestinians_injuries",
         "offsetgroup": "palestinians_injuries",
         "orientation": "v",
         "showlegend": true,
         "textposition": "auto",
         "type": "bar",
         "x": [
          "AUGUST",
          "DECEMBER",
          "OCTOBER",
          "OCTOBER",
          "JANUARY",
          "AUGUST",
          "NOVEMBER",
          "JULY",
          "DECEMBER",
          "SEPTEMBER"
         ],
         "xaxis": "x",
         "y": [
          13735,
          13720,
          7555,
          5984,
          5557,
          13735,
          2252,
          165,
          166,
          135
         ],
         "yaxis": "y"
        },
        {
         "alignmentgroup": "True",
         "hovertemplate": "variable=israelis_injuries<br>month=%{x}<br>value=%{y}<extra></extra>",
         "legendgroup": "israelis_injuries",
         "marker": {
          "color": "rgb(255, 65, 54)",
          "pattern": {
           "shape": ""
          }
         },
         "name": "israelis_injuries",
         "offsetgroup": "israelis_injuries",
         "orientation": "v",
         "showlegend": true,
         "textposition": "auto",
         "type": "bar",
         "x": [
          "AUGUST",
          "DECEMBER",
          "OCTOBER",
          "OCTOBER",
          "JANUARY",
          "AUGUST",
          "NOVEMBER",
          "JULY",
          "DECEMBER",
          "SEPTEMBER"
         ],
         "xaxis": "x",
         "y": [
          2347,
          20,
          80,
          0,
          0,
          2347,
          253,
          105,
          88,
          87
         ],
         "yaxis": "y"
        }
       ],
       "layout": {
        "barmode": "group",
        "legend": {
         "orientation": "h",
         "title": {
          "text": "Injuries"
         },
         "tracegroupgap": 0,
         "x": 1,
         "xanchor": "right",
         "y": 1.02,
         "yanchor": "bottom"
        },
        "plot_bgcolor": "rgba(0,0,0,0)",
        "template": {
         "data": {
          "bar": [
           {
            "error_x": {
             "color": "#2a3f5f"
            },
            "error_y": {
             "color": "#2a3f5f"
            },
            "marker": {
             "line": {
              "color": "#E5ECF6",
              "width": 0.5
             },
             "pattern": {
              "fillmode": "overlay",
              "size": 10,
              "solidity": 0.2
             }
            },
            "type": "bar"
           }
          ],
          "barpolar": [
           {
            "marker": {
             "line": {
              "color": "#E5ECF6",
              "width": 0.5
             },
             "pattern": {
              "fillmode": "overlay",
              "size": 10,
              "solidity": 0.2
             }
            },
            "type": "barpolar"
           }
          ],
          "carpet": [
           {
            "aaxis": {
             "endlinecolor": "#2a3f5f",
             "gridcolor": "white",
             "linecolor": "white",
             "minorgridcolor": "white",
             "startlinecolor": "#2a3f5f"
            },
            "baxis": {
             "endlinecolor": "#2a3f5f",
             "gridcolor": "white",
             "linecolor": "white",
             "minorgridcolor": "white",
             "startlinecolor": "#2a3f5f"
            },
            "type": "carpet"
           }
          ],
          "choropleth": [
           {
            "colorbar": {
             "outlinewidth": 0,
             "ticks": ""
            },
            "type": "choropleth"
           }
          ],
          "contour": [
           {
            "colorbar": {
             "outlinewidth": 0,
             "ticks": ""
            },
            "colorscale": [
             [
              0,
              "#0d0887"
             ],
             [
              0.1111111111111111,
              "#46039f"
             ],
             [
              0.2222222222222222,
              "#7201a8"
             ],
             [
              0.3333333333333333,
              "#9c179e"
             ],
             [
              0.4444444444444444,
              "#bd3786"
             ],
             [
              0.5555555555555556,
              "#d8576b"
             ],
             [
              0.6666666666666666,
              "#ed7953"
             ],
             [
              0.7777777777777778,
              "#fb9f3a"
             ],
             [
              0.8888888888888888,
              "#fdca26"
             ],
             [
              1,
              "#f0f921"
             ]
            ],
            "type": "contour"
           }
          ],
          "contourcarpet": [
           {
            "colorbar": {
             "outlinewidth": 0,
             "ticks": ""
            },
            "type": "contourcarpet"
           }
          ],
          "heatmap": [
           {
            "colorbar": {
             "outlinewidth": 0,
             "ticks": ""
            },
            "colorscale": [
             [
              0,
              "#0d0887"
             ],
             [
              0.1111111111111111,
              "#46039f"
             ],
             [
              0.2222222222222222,
              "#7201a8"
             ],
             [
              0.3333333333333333,
              "#9c179e"
             ],
             [
              0.4444444444444444,
              "#bd3786"
             ],
             [
              0.5555555555555556,
              "#d8576b"
             ],
             [
              0.6666666666666666,
              "#ed7953"
             ],
             [
              0.7777777777777778,
              "#fb9f3a"
             ],
             [
              0.8888888888888888,
              "#fdca26"
             ],
             [
              1,
              "#f0f921"
             ]
            ],
            "type": "heatmap"
           }
          ],
          "heatmapgl": [
           {
            "colorbar": {
             "outlinewidth": 0,
             "ticks": ""
            },
            "colorscale": [
             [
              0,
              "#0d0887"
             ],
             [
              0.1111111111111111,
              "#46039f"
             ],
             [
              0.2222222222222222,
              "#7201a8"
             ],
             [
              0.3333333333333333,
              "#9c179e"
             ],
             [
              0.4444444444444444,
              "#bd3786"
             ],
             [
              0.5555555555555556,
              "#d8576b"
             ],
             [
              0.6666666666666666,
              "#ed7953"
             ],
             [
              0.7777777777777778,
              "#fb9f3a"
             ],
             [
              0.8888888888888888,
              "#fdca26"
             ],
             [
              1,
              "#f0f921"
             ]
            ],
            "type": "heatmapgl"
           }
          ],
          "histogram": [
           {
            "marker": {
             "pattern": {
              "fillmode": "overlay",
              "size": 10,
              "solidity": 0.2
             }
            },
            "type": "histogram"
           }
          ],
          "histogram2d": [
           {
            "colorbar": {
             "outlinewidth": 0,
             "ticks": ""
            },
            "colorscale": [
             [
              0,
              "#0d0887"
             ],
             [
              0.1111111111111111,
              "#46039f"
             ],
             [
              0.2222222222222222,
              "#7201a8"
             ],
             [
              0.3333333333333333,
              "#9c179e"
             ],
             [
              0.4444444444444444,
              "#bd3786"
             ],
             [
              0.5555555555555556,
              "#d8576b"
             ],
             [
              0.6666666666666666,
              "#ed7953"
             ],
             [
              0.7777777777777778,
              "#fb9f3a"
             ],
             [
              0.8888888888888888,
              "#fdca26"
             ],
             [
              1,
              "#f0f921"
             ]
            ],
            "type": "histogram2d"
           }
          ],
          "histogram2dcontour": [
           {
            "colorbar": {
             "outlinewidth": 0,
             "ticks": ""
            },
            "colorscale": [
             [
              0,
              "#0d0887"
             ],
             [
              0.1111111111111111,
              "#46039f"
             ],
             [
              0.2222222222222222,
              "#7201a8"
             ],
             [
              0.3333333333333333,
              "#9c179e"
             ],
             [
              0.4444444444444444,
              "#bd3786"
             ],
             [
              0.5555555555555556,
              "#d8576b"
             ],
             [
              0.6666666666666666,
              "#ed7953"
             ],
             [
              0.7777777777777778,
              "#fb9f3a"
             ],
             [
              0.8888888888888888,
              "#fdca26"
             ],
             [
              1,
              "#f0f921"
             ]
            ],
            "type": "histogram2dcontour"
           }
          ],
          "mesh3d": [
           {
            "colorbar": {
             "outlinewidth": 0,
             "ticks": ""
            },
            "type": "mesh3d"
           }
          ],
          "parcoords": [
           {
            "line": {
             "colorbar": {
              "outlinewidth": 0,
              "ticks": ""
             }
            },
            "type": "parcoords"
           }
          ],
          "pie": [
           {
            "automargin": true,
            "type": "pie"
           }
          ],
          "scatter": [
           {
            "fillpattern": {
             "fillmode": "overlay",
             "size": 10,
             "solidity": 0.2
            },
            "type": "scatter"
           }
          ],
          "scatter3d": [
           {
            "line": {
             "colorbar": {
              "outlinewidth": 0,
              "ticks": ""
             }
            },
            "marker": {
             "colorbar": {
              "outlinewidth": 0,
              "ticks": ""
             }
            },
            "type": "scatter3d"
           }
          ],
          "scattercarpet": [
           {
            "marker": {
             "colorbar": {
              "outlinewidth": 0,
              "ticks": ""
             }
            },
            "type": "scattercarpet"
           }
          ],
          "scattergeo": [
           {
            "marker": {
             "colorbar": {
              "outlinewidth": 0,
              "ticks": ""
             }
            },
            "type": "scattergeo"
           }
          ],
          "scattergl": [
           {
            "marker": {
             "colorbar": {
              "outlinewidth": 0,
              "ticks": ""
             }
            },
            "type": "scattergl"
           }
          ],
          "scattermapbox": [
           {
            "marker": {
             "colorbar": {
              "outlinewidth": 0,
              "ticks": ""
             }
            },
            "type": "scattermapbox"
           }
          ],
          "scatterpolar": [
           {
            "marker": {
             "colorbar": {
              "outlinewidth": 0,
              "ticks": ""
             }
            },
            "type": "scatterpolar"
           }
          ],
          "scatterpolargl": [
           {
            "marker": {
             "colorbar": {
              "outlinewidth": 0,
              "ticks": ""
             }
            },
            "type": "scatterpolargl"
           }
          ],
          "scatterternary": [
           {
            "marker": {
             "colorbar": {
              "outlinewidth": 0,
              "ticks": ""
             }
            },
            "type": "scatterternary"
           }
          ],
          "surface": [
           {
            "colorbar": {
             "outlinewidth": 0,
             "ticks": ""
            },
            "colorscale": [
             [
              0,
              "#0d0887"
             ],
             [
              0.1111111111111111,
              "#46039f"
             ],
             [
              0.2222222222222222,
              "#7201a8"
             ],
             [
              0.3333333333333333,
              "#9c179e"
             ],
             [
              0.4444444444444444,
              "#bd3786"
             ],
             [
              0.5555555555555556,
              "#d8576b"
             ],
             [
              0.6666666666666666,
              "#ed7953"
             ],
             [
              0.7777777777777778,
              "#fb9f3a"
             ],
             [
              0.8888888888888888,
              "#fdca26"
             ],
             [
              1,
              "#f0f921"
             ]
            ],
            "type": "surface"
           }
          ],
          "table": [
           {
            "cells": {
             "fill": {
              "color": "#EBF0F8"
             },
             "line": {
              "color": "white"
             }
            },
            "header": {
             "fill": {
              "color": "#C8D4E3"
             },
             "line": {
              "color": "white"
             }
            },
            "type": "table"
           }
          ]
         },
         "layout": {
          "annotationdefaults": {
           "arrowcolor": "#2a3f5f",
           "arrowhead": 0,
           "arrowwidth": 1
          },
          "autotypenumbers": "strict",
          "coloraxis": {
           "colorbar": {
            "outlinewidth": 0,
            "ticks": ""
           }
          },
          "colorscale": {
           "diverging": [
            [
             0,
             "#8e0152"
            ],
            [
             0.1,
             "#c51b7d"
            ],
            [
             0.2,
             "#de77ae"
            ],
            [
             0.3,
             "#f1b6da"
            ],
            [
             0.4,
             "#fde0ef"
            ],
            [
             0.5,
             "#f7f7f7"
            ],
            [
             0.6,
             "#e6f5d0"
            ],
            [
             0.7,
             "#b8e186"
            ],
            [
             0.8,
             "#7fbc41"
            ],
            [
             0.9,
             "#4d9221"
            ],
            [
             1,
             "#276419"
            ]
           ],
           "sequential": [
            [
             0,
             "#0d0887"
            ],
            [
             0.1111111111111111,
             "#46039f"
            ],
            [
             0.2222222222222222,
             "#7201a8"
            ],
            [
             0.3333333333333333,
             "#9c179e"
            ],
            [
             0.4444444444444444,
             "#bd3786"
            ],
            [
             0.5555555555555556,
             "#d8576b"
            ],
            [
             0.6666666666666666,
             "#ed7953"
            ],
            [
             0.7777777777777778,
             "#fb9f3a"
            ],
            [
             0.8888888888888888,
             "#fdca26"
            ],
            [
             1,
             "#f0f921"
            ]
           ],
           "sequentialminus": [
            [
             0,
             "#0d0887"
            ],
            [
             0.1111111111111111,
             "#46039f"
            ],
            [
             0.2222222222222222,
             "#7201a8"
            ],
            [
             0.3333333333333333,
             "#9c179e"
            ],
            [
             0.4444444444444444,
             "#bd3786"
            ],
            [
             0.5555555555555556,
             "#d8576b"
            ],
            [
             0.6666666666666666,
             "#ed7953"
            ],
            [
             0.7777777777777778,
             "#fb9f3a"
            ],
            [
             0.8888888888888888,
             "#fdca26"
            ],
            [
             1,
             "#f0f921"
            ]
           ]
          },
          "colorway": [
           "#636efa",
           "#EF553B",
           "#00cc96",
           "#ab63fa",
           "#FFA15A",
           "#19d3f3",
           "#FF6692",
           "#B6E880",
           "#FF97FF",
           "#FECB52"
          ],
          "font": {
           "color": "#2a3f5f"
          },
          "geo": {
           "bgcolor": "white",
           "lakecolor": "white",
           "landcolor": "#E5ECF6",
           "showlakes": true,
           "showland": true,
           "subunitcolor": "white"
          },
          "hoverlabel": {
           "align": "left"
          },
          "hovermode": "closest",
          "mapbox": {
           "style": "light"
          },
          "paper_bgcolor": "white",
          "plot_bgcolor": "#E5ECF6",
          "polar": {
           "angularaxis": {
            "gridcolor": "white",
            "linecolor": "white",
            "ticks": ""
           },
           "bgcolor": "#E5ECF6",
           "radialaxis": {
            "gridcolor": "white",
            "linecolor": "white",
            "ticks": ""
           }
          },
          "scene": {
           "xaxis": {
            "backgroundcolor": "#E5ECF6",
            "gridcolor": "white",
            "gridwidth": 2,
            "linecolor": "white",
            "showbackground": true,
            "ticks": "",
            "zerolinecolor": "white"
           },
           "yaxis": {
            "backgroundcolor": "#E5ECF6",
            "gridcolor": "white",
            "gridwidth": 2,
            "linecolor": "white",
            "showbackground": true,
            "ticks": "",
            "zerolinecolor": "white"
           },
           "zaxis": {
            "backgroundcolor": "#E5ECF6",
            "gridcolor": "white",
            "gridwidth": 2,
            "linecolor": "white",
            "showbackground": true,
            "ticks": "",
            "zerolinecolor": "white"
           }
          },
          "shapedefaults": {
           "line": {
            "color": "#2a3f5f"
           }
          },
          "ternary": {
           "aaxis": {
            "gridcolor": "white",
            "linecolor": "white",
            "ticks": ""
           },
           "baxis": {
            "gridcolor": "white",
            "linecolor": "white",
            "ticks": ""
           },
           "bgcolor": "#E5ECF6",
           "caxis": {
            "gridcolor": "white",
            "linecolor": "white",
            "ticks": ""
           }
          },
          "title": {
           "x": 0.05
          },
          "xaxis": {
           "automargin": true,
           "gridcolor": "white",
           "linecolor": "white",
           "ticks": "",
           "title": {
            "standoff": 15
           },
           "zerolinecolor": "white",
           "zerolinewidth": 2
          },
          "yaxis": {
           "automargin": true,
           "gridcolor": "white",
           "linecolor": "white",
           "ticks": "",
           "title": {
            "standoff": 15
           },
           "zerolinecolor": "white",
           "zerolinewidth": 2
          }
         }
        },
        "title": {
         "text": "Distribution of Injuries for Top 5 Months"
        },
        "xaxis": {
         "anchor": "y",
         "domain": [
          0,
          1
         ],
         "title": {
          "text": "Month"
         }
        },
        "yaxis": {
         "anchor": "x",
         "domain": [
          0,
          1
         ],
         "title": {
          "text": "Number of Injuries"
         }
        }
       }
      }
     },
     "metadata": {},
     "output_type": "display_data"
    }
   ],
   "source": [
    "# Select the top 5 months with the highest 'Palestinians Injuries'\n",
    "top_5_palestinians = df.nlargest(5, 'palestinians_injuries')\n",
    "# Select the top 5 months with the highest 'Israelis Injuries'\n",
    "top_5_israelis = df.nlargest(5, 'israelis_injuries')\n",
    "# Concatenate the dataframes for the top 5 months\n",
    "top_5_combined = pd.concat([top_5_palestinians, top_5_israelis])\n",
    "\n",
    "# Create a histogram\n",
    "fig = px.bar(top_5_combined, x='month', y=['palestinians_injuries', 'israelis_injuries'],\n",
    "            title='Distribution of Injuries for Top 5 Months',\n",
    "            color_discrete_sequence=['rgb(78, 115, 223)', 'rgb(255, 65, 54)'],\n",
    "            barmode='group')\n",
    "\n",
    "# Update layout\n",
    "fig.update_layout(\n",
    "    xaxis=dict(title='Month'),\n",
    "    yaxis=dict(title='Number of Injuries'),\n",
    "    legend=dict(title='Injuries', orientation='h', yanchor='bottom', y=1.02, xanchor='right', x=1),\n",
    "    plot_bgcolor='rgba(0,0,0,0)'\n",
    ")\n",
    "\n",
    "# Show the plot\n",
    "fig.show()"
   ]
  },
  {
   "cell_type": "code",
   "execution_count": 13,
   "metadata": {},
   "outputs": [
    {
     "data": {
      "application/vnd.plotly.v1+json": {
       "config": {
        "plotlyServerURL": "https://plot.ly"
       },
       "data": [
        {
         "alignmentgroup": "True",
         "hovertemplate": "Type=palestinians_injuries<br>year=%{x}<br>Number of Injuries=%{y}<extra></extra>",
         "legendgroup": "palestinians_injuries",
         "marker": {
          "color": "rgb(78, 115, 223)",
          "pattern": {
           "shape": ""
          }
         },
         "name": "palestinians_injuries",
         "offsetgroup": "palestinians_injuries",
         "orientation": "v",
         "showlegend": true,
         "textposition": "auto",
         "type": "bar",
         "x": [
          2000,
          2000,
          2000,
          2000,
          2001,
          2001,
          2001,
          2001,
          2001,
          2001,
          2001,
          2001,
          2001,
          2001,
          2001,
          2001,
          2002,
          2002,
          2002,
          2002,
          2002,
          2002,
          2002,
          2002,
          2002,
          2002,
          2002,
          2002,
          2003,
          2003,
          2003,
          2003,
          2003,
          2003,
          2003,
          2003,
          2003,
          2003,
          2003,
          2003,
          2004,
          2004,
          2004,
          2004,
          2004,
          2004,
          2004,
          2004,
          2004,
          2004,
          2004,
          2004,
          2005,
          2005,
          2005,
          2005,
          2005,
          2005,
          2005,
          2005,
          2005,
          2005,
          2005,
          2005,
          2006,
          2006,
          2006,
          2006,
          2006,
          2006,
          2006,
          2006,
          2006,
          2006,
          2006,
          2006,
          2007,
          2007,
          2007,
          2007,
          2007,
          2007,
          2007,
          2007,
          2007,
          2007,
          2007,
          2007,
          2008,
          2008,
          2008,
          2008,
          2008,
          2008,
          2008,
          2008,
          2008,
          2008,
          2008,
          2008,
          2009,
          2009,
          2009,
          2009,
          2009,
          2009,
          2009,
          2009,
          2009,
          2009,
          2009,
          2009,
          2010,
          2010,
          2010,
          2010,
          2010,
          2010,
          2010,
          2010,
          2010,
          2010,
          2010,
          2010,
          2011,
          2011,
          2011,
          2011,
          2011,
          2011,
          2011,
          2011,
          2011,
          2011,
          2011,
          2011,
          2012,
          2012,
          2012,
          2012,
          2012,
          2012,
          2012,
          2012,
          2012,
          2012,
          2012,
          2012,
          2013,
          2013,
          2013,
          2013,
          2013,
          2013,
          2013,
          2013,
          2013,
          2013,
          2013,
          2013,
          2014,
          2014,
          2014,
          2014,
          2014,
          2014,
          2014,
          2014,
          2014,
          2014,
          2014,
          2014,
          2015,
          2015,
          2015,
          2015,
          2015,
          2015,
          2015,
          2015,
          2015,
          2015,
          2015,
          2015,
          2016,
          2016,
          2016,
          2016,
          2016,
          2016,
          2016,
          2016,
          2016,
          2016,
          2016,
          2016,
          2017,
          2017,
          2017,
          2017,
          2017,
          2017,
          2017,
          2017,
          2017,
          2017,
          2017,
          2017,
          2018,
          2018,
          2018,
          2018,
          2018,
          2018,
          2018,
          2018,
          2018,
          2018,
          2018,
          2018,
          2019,
          2019,
          2019,
          2019,
          2019,
          2019,
          2019,
          2019,
          2019,
          2019,
          2019,
          2019,
          2020,
          2020,
          2020,
          2020,
          2020,
          2020,
          2020,
          2020,
          2020,
          2020,
          2020,
          2020,
          2021,
          2021,
          2021,
          2021,
          2021
         ],
         "xaxis": "x",
         "y": [
          781,
          3838,
          5984,
          0,
          304,
          160,
          407,
          657,
          502,
          394,
          319,
          932,
          715,
          927,
          598,
          471,
          185,
          264,
          388,
          353,
          186,
          374,
          299,
          181,
          523,
          870,
          429,
          330,
          322,
          106,
          289,
          226,
          191,
          34,
          367,
          239,
          303,
          379,
          244,
          292,
          161,
          98,
          343,
          579,
          287,
          251,
          377,
          545,
          346,
          417,
          437,
          168,
          166,
          99,
          81,
          90,
          130,
          165,
          116,
          81,
          183,
          68,
          42,
          164,
          73,
          491,
          180,
          196,
          266,
          799,
          198,
          257,
          254,
          203,
          194,
          88,
          13720,
          127,
          152,
          135,
          154,
          67,
          162,
          281,
          115,
          153,
          256,
          104,
          0,
          0,
          0,
          0,
          0,
          0,
          0,
          0,
          0,
          0,
          0,
          0,
          195,
          30,
          88,
          80,
          36,
          26,
          89,
          82,
          136,
          87,
          65,
          5557,
          105,
          87,
          147,
          148,
          46,
          85,
          104,
          118,
          119,
          402,
          92,
          86,
          210,
          63,
          110,
          149,
          191,
          156,
          159,
          397,
          193,
          204,
          135,
          143,
          198,
          2252,
          89,
          161,
          169,
          202,
          231,
          703,
          169,
          404,
          256,
          60,
          159,
          320,
          105,
          374,
          137,
          138,
          124,
          429,
          656,
          493,
          766,
          263,
          350,
          984,
          291,
          209,
          13735,
          0,
          326,
          265,
          302,
          228,
          216,
          219,
          2222,
          3888,
          7555,
          413,
          196,
          141,
          78,
          284,
          223,
          176,
          167,
          134,
          105,
          97,
          169,
          210,
          261,
          256,
          167,
          434,
          286,
          348,
          514,
          582,
          4580,
          89,
          120,
          118,
          135,
          1772,
          790,
          0,
          150,
          189,
          97,
          44,
          0,
          0,
          0,
          0,
          0,
          0,
          0,
          0,
          0,
          0,
          0,
          0,
          0,
          0,
          0,
          0,
          0,
          0,
          0,
          0,
          0,
          0,
          0,
          0,
          0,
          0,
          0,
          0,
          0,
          0,
          0,
          0,
          0,
          0,
          0,
          0,
          0,
          0,
          0,
          0,
          0
         ],
         "yaxis": "y"
        },
        {
         "alignmentgroup": "True",
         "hovertemplate": "Type=israelis_injuries<br>year=%{x}<br>Number of Injuries=%{y}<extra></extra>",
         "legendgroup": "israelis_injuries",
         "marker": {
          "color": "rgb(255, 65, 54)",
          "pattern": {
           "shape": ""
          }
         },
         "name": "israelis_injuries",
         "offsetgroup": "israelis_injuries",
         "orientation": "v",
         "showlegend": true,
         "textposition": "auto",
         "type": "bar",
         "x": [
          2000,
          2000,
          2000,
          2000,
          2001,
          2001,
          2001,
          2001,
          2001,
          2001,
          2001,
          2001,
          2001,
          2001,
          2001,
          2001,
          2002,
          2002,
          2002,
          2002,
          2002,
          2002,
          2002,
          2002,
          2002,
          2002,
          2002,
          2002,
          2003,
          2003,
          2003,
          2003,
          2003,
          2003,
          2003,
          2003,
          2003,
          2003,
          2003,
          2003,
          2004,
          2004,
          2004,
          2004,
          2004,
          2004,
          2004,
          2004,
          2004,
          2004,
          2004,
          2004,
          2005,
          2005,
          2005,
          2005,
          2005,
          2005,
          2005,
          2005,
          2005,
          2005,
          2005,
          2005,
          2006,
          2006,
          2006,
          2006,
          2006,
          2006,
          2006,
          2006,
          2006,
          2006,
          2006,
          2006,
          2007,
          2007,
          2007,
          2007,
          2007,
          2007,
          2007,
          2007,
          2007,
          2007,
          2007,
          2007,
          2008,
          2008,
          2008,
          2008,
          2008,
          2008,
          2008,
          2008,
          2008,
          2008,
          2008,
          2008,
          2009,
          2009,
          2009,
          2009,
          2009,
          2009,
          2009,
          2009,
          2009,
          2009,
          2009,
          2009,
          2010,
          2010,
          2010,
          2010,
          2010,
          2010,
          2010,
          2010,
          2010,
          2010,
          2010,
          2010,
          2011,
          2011,
          2011,
          2011,
          2011,
          2011,
          2011,
          2011,
          2011,
          2011,
          2011,
          2011,
          2012,
          2012,
          2012,
          2012,
          2012,
          2012,
          2012,
          2012,
          2012,
          2012,
          2012,
          2012,
          2013,
          2013,
          2013,
          2013,
          2013,
          2013,
          2013,
          2013,
          2013,
          2013,
          2013,
          2013,
          2014,
          2014,
          2014,
          2014,
          2014,
          2014,
          2014,
          2014,
          2014,
          2014,
          2014,
          2014,
          2015,
          2015,
          2015,
          2015,
          2015,
          2015,
          2015,
          2015,
          2015,
          2015,
          2015,
          2015,
          2016,
          2016,
          2016,
          2016,
          2016,
          2016,
          2016,
          2016,
          2016,
          2016,
          2016,
          2016,
          2017,
          2017,
          2017,
          2017,
          2017,
          2017,
          2017,
          2017,
          2017,
          2017,
          2017,
          2017,
          2018,
          2018,
          2018,
          2018,
          2018,
          2018,
          2018,
          2018,
          2018,
          2018,
          2018,
          2018,
          2019,
          2019,
          2019,
          2019,
          2019,
          2019,
          2019,
          2019,
          2019,
          2019,
          2019,
          2019,
          2020,
          2020,
          2020,
          2020,
          2020,
          2020,
          2020,
          2020,
          2020,
          2020,
          2020,
          2020,
          2021,
          2021,
          2021,
          2021,
          2021
         ],
         "xaxis": "x",
         "y": [
          0,
          0,
          0,
          0,
          0,
          0,
          0,
          0,
          0,
          0,
          0,
          0,
          0,
          0,
          0,
          0,
          0,
          0,
          0,
          0,
          0,
          0,
          0,
          0,
          0,
          0,
          0,
          0,
          0,
          0,
          0,
          0,
          0,
          0,
          0,
          0,
          0,
          0,
          0,
          0,
          0,
          0,
          0,
          0,
          0,
          0,
          0,
          0,
          0,
          0,
          0,
          0,
          88,
          17,
          46,
          25,
          16,
          105,
          20,
          17,
          19,
          17,
          62,
          61,
          12,
          30,
          19,
          24,
          10,
          41,
          26,
          14,
          78,
          46,
          30,
          47,
          20,
          6,
          13,
          87,
          56,
          7,
          19,
          30,
          22,
          15,
          35,
          12,
          0,
          0,
          0,
          0,
          0,
          0,
          0,
          0,
          0,
          0,
          0,
          0,
          0,
          0,
          0,
          0,
          0,
          0,
          0,
          0,
          0,
          0,
          0,
          0,
          5,
          7,
          5,
          12,
          11,
          0,
          21,
          17,
          10,
          59,
          14,
          15,
          6,
          3,
          9,
          5,
          22,
          3,
          9,
          36,
          10,
          13,
          3,
          5,
          6,
          253,
          1,
          7,
          5,
          12,
          4,
          15,
          9,
          16,
          14,
          3,
          4,
          5,
          15,
          9,
          5,
          11,
          1,
          33,
          17,
          21,
          24,
          6,
          15,
          55,
          32,
          22,
          2347,
          0,
          5,
          28,
          15,
          5,
          6,
          9,
          43,
          50,
          80,
          39,
          20,
          8,
          14,
          11,
          13,
          13,
          5,
          8,
          18,
          7,
          17,
          14,
          2,
          9,
          30,
          2,
          21,
          27,
          8,
          16,
          10,
          8,
          5,
          5,
          2,
          23,
          20,
          0,
          12,
          19,
          37,
          17,
          0,
          0,
          0,
          0,
          0,
          0,
          0,
          0,
          0,
          0,
          0,
          0,
          0,
          0,
          0,
          0,
          0,
          0,
          0,
          0,
          0,
          0,
          0,
          0,
          0,
          0,
          0,
          0,
          0,
          0,
          0,
          0,
          0,
          0,
          0,
          0,
          0,
          0,
          0,
          0,
          0
         ],
         "yaxis": "y"
        }
       ],
       "layout": {
        "bargap": 0.2,
        "bargroupgap": 0.1,
        "barmode": "group",
        "height": 500,
        "legend": {
         "orientation": "h",
         "title": {
          "text": "Injuries"
         },
         "tracegroupgap": 0,
         "x": 1,
         "xanchor": "right",
         "y": 1.02,
         "yanchor": "bottom"
        },
        "plot_bgcolor": "rgba(0,0,0,0)",
        "template": {
         "data": {
          "bar": [
           {
            "error_x": {
             "color": "#2a3f5f"
            },
            "error_y": {
             "color": "#2a3f5f"
            },
            "marker": {
             "line": {
              "color": "#E5ECF6",
              "width": 0.5
             },
             "pattern": {
              "fillmode": "overlay",
              "size": 10,
              "solidity": 0.2
             }
            },
            "type": "bar"
           }
          ],
          "barpolar": [
           {
            "marker": {
             "line": {
              "color": "#E5ECF6",
              "width": 0.5
             },
             "pattern": {
              "fillmode": "overlay",
              "size": 10,
              "solidity": 0.2
             }
            },
            "type": "barpolar"
           }
          ],
          "carpet": [
           {
            "aaxis": {
             "endlinecolor": "#2a3f5f",
             "gridcolor": "white",
             "linecolor": "white",
             "minorgridcolor": "white",
             "startlinecolor": "#2a3f5f"
            },
            "baxis": {
             "endlinecolor": "#2a3f5f",
             "gridcolor": "white",
             "linecolor": "white",
             "minorgridcolor": "white",
             "startlinecolor": "#2a3f5f"
            },
            "type": "carpet"
           }
          ],
          "choropleth": [
           {
            "colorbar": {
             "outlinewidth": 0,
             "ticks": ""
            },
            "type": "choropleth"
           }
          ],
          "contour": [
           {
            "colorbar": {
             "outlinewidth": 0,
             "ticks": ""
            },
            "colorscale": [
             [
              0,
              "#0d0887"
             ],
             [
              0.1111111111111111,
              "#46039f"
             ],
             [
              0.2222222222222222,
              "#7201a8"
             ],
             [
              0.3333333333333333,
              "#9c179e"
             ],
             [
              0.4444444444444444,
              "#bd3786"
             ],
             [
              0.5555555555555556,
              "#d8576b"
             ],
             [
              0.6666666666666666,
              "#ed7953"
             ],
             [
              0.7777777777777778,
              "#fb9f3a"
             ],
             [
              0.8888888888888888,
              "#fdca26"
             ],
             [
              1,
              "#f0f921"
             ]
            ],
            "type": "contour"
           }
          ],
          "contourcarpet": [
           {
            "colorbar": {
             "outlinewidth": 0,
             "ticks": ""
            },
            "type": "contourcarpet"
           }
          ],
          "heatmap": [
           {
            "colorbar": {
             "outlinewidth": 0,
             "ticks": ""
            },
            "colorscale": [
             [
              0,
              "#0d0887"
             ],
             [
              0.1111111111111111,
              "#46039f"
             ],
             [
              0.2222222222222222,
              "#7201a8"
             ],
             [
              0.3333333333333333,
              "#9c179e"
             ],
             [
              0.4444444444444444,
              "#bd3786"
             ],
             [
              0.5555555555555556,
              "#d8576b"
             ],
             [
              0.6666666666666666,
              "#ed7953"
             ],
             [
              0.7777777777777778,
              "#fb9f3a"
             ],
             [
              0.8888888888888888,
              "#fdca26"
             ],
             [
              1,
              "#f0f921"
             ]
            ],
            "type": "heatmap"
           }
          ],
          "heatmapgl": [
           {
            "colorbar": {
             "outlinewidth": 0,
             "ticks": ""
            },
            "colorscale": [
             [
              0,
              "#0d0887"
             ],
             [
              0.1111111111111111,
              "#46039f"
             ],
             [
              0.2222222222222222,
              "#7201a8"
             ],
             [
              0.3333333333333333,
              "#9c179e"
             ],
             [
              0.4444444444444444,
              "#bd3786"
             ],
             [
              0.5555555555555556,
              "#d8576b"
             ],
             [
              0.6666666666666666,
              "#ed7953"
             ],
             [
              0.7777777777777778,
              "#fb9f3a"
             ],
             [
              0.8888888888888888,
              "#fdca26"
             ],
             [
              1,
              "#f0f921"
             ]
            ],
            "type": "heatmapgl"
           }
          ],
          "histogram": [
           {
            "marker": {
             "pattern": {
              "fillmode": "overlay",
              "size": 10,
              "solidity": 0.2
             }
            },
            "type": "histogram"
           }
          ],
          "histogram2d": [
           {
            "colorbar": {
             "outlinewidth": 0,
             "ticks": ""
            },
            "colorscale": [
             [
              0,
              "#0d0887"
             ],
             [
              0.1111111111111111,
              "#46039f"
             ],
             [
              0.2222222222222222,
              "#7201a8"
             ],
             [
              0.3333333333333333,
              "#9c179e"
             ],
             [
              0.4444444444444444,
              "#bd3786"
             ],
             [
              0.5555555555555556,
              "#d8576b"
             ],
             [
              0.6666666666666666,
              "#ed7953"
             ],
             [
              0.7777777777777778,
              "#fb9f3a"
             ],
             [
              0.8888888888888888,
              "#fdca26"
             ],
             [
              1,
              "#f0f921"
             ]
            ],
            "type": "histogram2d"
           }
          ],
          "histogram2dcontour": [
           {
            "colorbar": {
             "outlinewidth": 0,
             "ticks": ""
            },
            "colorscale": [
             [
              0,
              "#0d0887"
             ],
             [
              0.1111111111111111,
              "#46039f"
             ],
             [
              0.2222222222222222,
              "#7201a8"
             ],
             [
              0.3333333333333333,
              "#9c179e"
             ],
             [
              0.4444444444444444,
              "#bd3786"
             ],
             [
              0.5555555555555556,
              "#d8576b"
             ],
             [
              0.6666666666666666,
              "#ed7953"
             ],
             [
              0.7777777777777778,
              "#fb9f3a"
             ],
             [
              0.8888888888888888,
              "#fdca26"
             ],
             [
              1,
              "#f0f921"
             ]
            ],
            "type": "histogram2dcontour"
           }
          ],
          "mesh3d": [
           {
            "colorbar": {
             "outlinewidth": 0,
             "ticks": ""
            },
            "type": "mesh3d"
           }
          ],
          "parcoords": [
           {
            "line": {
             "colorbar": {
              "outlinewidth": 0,
              "ticks": ""
             }
            },
            "type": "parcoords"
           }
          ],
          "pie": [
           {
            "automargin": true,
            "type": "pie"
           }
          ],
          "scatter": [
           {
            "fillpattern": {
             "fillmode": "overlay",
             "size": 10,
             "solidity": 0.2
            },
            "type": "scatter"
           }
          ],
          "scatter3d": [
           {
            "line": {
             "colorbar": {
              "outlinewidth": 0,
              "ticks": ""
             }
            },
            "marker": {
             "colorbar": {
              "outlinewidth": 0,
              "ticks": ""
             }
            },
            "type": "scatter3d"
           }
          ],
          "scattercarpet": [
           {
            "marker": {
             "colorbar": {
              "outlinewidth": 0,
              "ticks": ""
             }
            },
            "type": "scattercarpet"
           }
          ],
          "scattergeo": [
           {
            "marker": {
             "colorbar": {
              "outlinewidth": 0,
              "ticks": ""
             }
            },
            "type": "scattergeo"
           }
          ],
          "scattergl": [
           {
            "marker": {
             "colorbar": {
              "outlinewidth": 0,
              "ticks": ""
             }
            },
            "type": "scattergl"
           }
          ],
          "scattermapbox": [
           {
            "marker": {
             "colorbar": {
              "outlinewidth": 0,
              "ticks": ""
             }
            },
            "type": "scattermapbox"
           }
          ],
          "scatterpolar": [
           {
            "marker": {
             "colorbar": {
              "outlinewidth": 0,
              "ticks": ""
             }
            },
            "type": "scatterpolar"
           }
          ],
          "scatterpolargl": [
           {
            "marker": {
             "colorbar": {
              "outlinewidth": 0,
              "ticks": ""
             }
            },
            "type": "scatterpolargl"
           }
          ],
          "scatterternary": [
           {
            "marker": {
             "colorbar": {
              "outlinewidth": 0,
              "ticks": ""
             }
            },
            "type": "scatterternary"
           }
          ],
          "surface": [
           {
            "colorbar": {
             "outlinewidth": 0,
             "ticks": ""
            },
            "colorscale": [
             [
              0,
              "#0d0887"
             ],
             [
              0.1111111111111111,
              "#46039f"
             ],
             [
              0.2222222222222222,
              "#7201a8"
             ],
             [
              0.3333333333333333,
              "#9c179e"
             ],
             [
              0.4444444444444444,
              "#bd3786"
             ],
             [
              0.5555555555555556,
              "#d8576b"
             ],
             [
              0.6666666666666666,
              "#ed7953"
             ],
             [
              0.7777777777777778,
              "#fb9f3a"
             ],
             [
              0.8888888888888888,
              "#fdca26"
             ],
             [
              1,
              "#f0f921"
             ]
            ],
            "type": "surface"
           }
          ],
          "table": [
           {
            "cells": {
             "fill": {
              "color": "#EBF0F8"
             },
             "line": {
              "color": "white"
             }
            },
            "header": {
             "fill": {
              "color": "#C8D4E3"
             },
             "line": {
              "color": "white"
             }
            },
            "type": "table"
           }
          ]
         },
         "layout": {
          "annotationdefaults": {
           "arrowcolor": "#2a3f5f",
           "arrowhead": 0,
           "arrowwidth": 1
          },
          "autotypenumbers": "strict",
          "coloraxis": {
           "colorbar": {
            "outlinewidth": 0,
            "ticks": ""
           }
          },
          "colorscale": {
           "diverging": [
            [
             0,
             "#8e0152"
            ],
            [
             0.1,
             "#c51b7d"
            ],
            [
             0.2,
             "#de77ae"
            ],
            [
             0.3,
             "#f1b6da"
            ],
            [
             0.4,
             "#fde0ef"
            ],
            [
             0.5,
             "#f7f7f7"
            ],
            [
             0.6,
             "#e6f5d0"
            ],
            [
             0.7,
             "#b8e186"
            ],
            [
             0.8,
             "#7fbc41"
            ],
            [
             0.9,
             "#4d9221"
            ],
            [
             1,
             "#276419"
            ]
           ],
           "sequential": [
            [
             0,
             "#0d0887"
            ],
            [
             0.1111111111111111,
             "#46039f"
            ],
            [
             0.2222222222222222,
             "#7201a8"
            ],
            [
             0.3333333333333333,
             "#9c179e"
            ],
            [
             0.4444444444444444,
             "#bd3786"
            ],
            [
             0.5555555555555556,
             "#d8576b"
            ],
            [
             0.6666666666666666,
             "#ed7953"
            ],
            [
             0.7777777777777778,
             "#fb9f3a"
            ],
            [
             0.8888888888888888,
             "#fdca26"
            ],
            [
             1,
             "#f0f921"
            ]
           ],
           "sequentialminus": [
            [
             0,
             "#0d0887"
            ],
            [
             0.1111111111111111,
             "#46039f"
            ],
            [
             0.2222222222222222,
             "#7201a8"
            ],
            [
             0.3333333333333333,
             "#9c179e"
            ],
            [
             0.4444444444444444,
             "#bd3786"
            ],
            [
             0.5555555555555556,
             "#d8576b"
            ],
            [
             0.6666666666666666,
             "#ed7953"
            ],
            [
             0.7777777777777778,
             "#fb9f3a"
            ],
            [
             0.8888888888888888,
             "#fdca26"
            ],
            [
             1,
             "#f0f921"
            ]
           ]
          },
          "colorway": [
           "#636efa",
           "#EF553B",
           "#00cc96",
           "#ab63fa",
           "#FFA15A",
           "#19d3f3",
           "#FF6692",
           "#B6E880",
           "#FF97FF",
           "#FECB52"
          ],
          "font": {
           "color": "#2a3f5f"
          },
          "geo": {
           "bgcolor": "white",
           "lakecolor": "white",
           "landcolor": "#E5ECF6",
           "showlakes": true,
           "showland": true,
           "subunitcolor": "white"
          },
          "hoverlabel": {
           "align": "left"
          },
          "hovermode": "closest",
          "mapbox": {
           "style": "light"
          },
          "paper_bgcolor": "white",
          "plot_bgcolor": "#E5ECF6",
          "polar": {
           "angularaxis": {
            "gridcolor": "white",
            "linecolor": "white",
            "ticks": ""
           },
           "bgcolor": "#E5ECF6",
           "radialaxis": {
            "gridcolor": "white",
            "linecolor": "white",
            "ticks": ""
           }
          },
          "scene": {
           "xaxis": {
            "backgroundcolor": "#E5ECF6",
            "gridcolor": "white",
            "gridwidth": 2,
            "linecolor": "white",
            "showbackground": true,
            "ticks": "",
            "zerolinecolor": "white"
           },
           "yaxis": {
            "backgroundcolor": "#E5ECF6",
            "gridcolor": "white",
            "gridwidth": 2,
            "linecolor": "white",
            "showbackground": true,
            "ticks": "",
            "zerolinecolor": "white"
           },
           "zaxis": {
            "backgroundcolor": "#E5ECF6",
            "gridcolor": "white",
            "gridwidth": 2,
            "linecolor": "white",
            "showbackground": true,
            "ticks": "",
            "zerolinecolor": "white"
           }
          },
          "shapedefaults": {
           "line": {
            "color": "#2a3f5f"
           }
          },
          "ternary": {
           "aaxis": {
            "gridcolor": "white",
            "linecolor": "white",
            "ticks": ""
           },
           "baxis": {
            "gridcolor": "white",
            "linecolor": "white",
            "ticks": ""
           },
           "bgcolor": "#E5ECF6",
           "caxis": {
            "gridcolor": "white",
            "linecolor": "white",
            "ticks": ""
           }
          },
          "title": {
           "x": 0.05
          },
          "xaxis": {
           "automargin": true,
           "gridcolor": "white",
           "linecolor": "white",
           "ticks": "",
           "title": {
            "standoff": 15
           },
           "zerolinecolor": "white",
           "zerolinewidth": 2
          },
          "yaxis": {
           "automargin": true,
           "gridcolor": "white",
           "linecolor": "white",
           "ticks": "",
           "title": {
            "standoff": 15
           },
           "zerolinecolor": "white",
           "zerolinewidth": 2
          }
         }
        },
        "title": {
         "text": "Injuries in Israel-Palestine Conflict"
        },
        "xaxis": {
         "anchor": "y",
         "domain": [
          0,
          1
         ],
         "title": {
          "text": "Year"
         }
        },
        "yaxis": {
         "anchor": "x",
         "domain": [
          0,
          1
         ],
         "title": {
          "text": "Number of Injuries"
         }
        }
       }
      }
     },
     "metadata": {},
     "output_type": "display_data"
    }
   ],
   "source": [
    "fig = px.bar(df, x='year', y=['palestinians_injuries', 'israelis_injuries'],\n",
    "            title='Injuries in Israel-Palestine Conflict',\n",
    "            color_discrete_sequence=['rgb(78, 115, 223)', 'rgb(255, 65, 54)'],\n",
    "            labels={'value': 'Number of Injuries', 'variable': 'Type'},\n",
    "            barmode='group',\n",
    "            height=500)  # Adjust height as needed\n",
    "\n",
    "# Update layout\n",
    "fig.update_layout(\n",
    "    xaxis=dict(title='Year'),\n",
    "    yaxis=dict(title='Number of Injuries'),\n",
    "    legend=dict(title='Injuries', orientation='h', yanchor='bottom', y=1.02, xanchor='right', x=1),\n",
    "    plot_bgcolor='rgba(0,0,0,0)',\n",
    "    bargap=0.2,\n",
    "    bargroupgap=0.1\n",
    ")\n",
    "\n",
    "# Show the plot\n",
    "fig.show()"
   ]
  },
  {
   "cell_type": "code",
   "execution_count": 14,
   "metadata": {},
   "outputs": [
    {
     "data": {
      "application/vnd.plotly.v1+json": {
       "config": {
        "plotlyServerURL": "https://plot.ly"
       },
       "data": [
        {
         "alignmentgroup": "True",
         "bingroup": "x",
         "histfunc": "sum",
         "hovertemplate": "variable=palestinians_killed<br>month=%{x}<br>sum of value=%{y}<extra></extra>",
         "legendgroup": "palestinians_killed",
         "marker": {
          "color": "rgb(78, 115, 223)",
          "pattern": {
           "shape": ""
          }
         },
         "name": "palestinians_killed",
         "offsetgroup": "palestinians_killed",
         "orientation": "v",
         "showlegend": true,
         "type": "histogram",
         "x": [
          "JULY",
          "JANUARY",
          "AUGUST",
          "DECEMBER",
          "APRIL",
          "MARCH",
          "JULY",
          "JUNE",
          "APRIL",
          "NOVEMBER"
         ],
         "xaxis": "x",
         "y": [
          1590,
          978,
          614,
          432,
          246,
          237,
          1590,
          57,
          246,
          46
         ],
         "yaxis": "y"
        },
        {
         "alignmentgroup": "True",
         "bingroup": "x",
         "histfunc": "sum",
         "hovertemplate": "variable=israelis_killed<br>month=%{x}<br>sum of value=%{y}<extra></extra>",
         "legendgroup": "israelis_killed",
         "marker": {
          "color": "rgb(255, 65, 54)",
          "pattern": {
           "shape": ""
          }
         },
         "name": "israelis_killed",
         "offsetgroup": "israelis_killed",
         "orientation": "v",
         "showlegend": true,
         "type": "histogram",
         "x": [
          "JULY",
          "JANUARY",
          "AUGUST",
          "DECEMBER",
          "APRIL",
          "MARCH",
          "JULY",
          "JUNE",
          "APRIL",
          "NOVEMBER"
         ],
         "xaxis": "x",
         "y": [
          59,
          6,
          9,
          4,
          46,
          122,
          59,
          57,
          46,
          40
         ],
         "yaxis": "y"
        }
       ],
       "layout": {
        "barmode": "group",
        "legend": {
         "orientation": "h",
         "title": {
          "text": "Fatalities"
         },
         "tracegroupgap": 0,
         "x": 1,
         "xanchor": "right",
         "y": 1.02,
         "yanchor": "bottom"
        },
        "plot_bgcolor": "rgba(0,0,0,0)",
        "template": {
         "data": {
          "bar": [
           {
            "error_x": {
             "color": "#2a3f5f"
            },
            "error_y": {
             "color": "#2a3f5f"
            },
            "marker": {
             "line": {
              "color": "#E5ECF6",
              "width": 0.5
             },
             "pattern": {
              "fillmode": "overlay",
              "size": 10,
              "solidity": 0.2
             }
            },
            "type": "bar"
           }
          ],
          "barpolar": [
           {
            "marker": {
             "line": {
              "color": "#E5ECF6",
              "width": 0.5
             },
             "pattern": {
              "fillmode": "overlay",
              "size": 10,
              "solidity": 0.2
             }
            },
            "type": "barpolar"
           }
          ],
          "carpet": [
           {
            "aaxis": {
             "endlinecolor": "#2a3f5f",
             "gridcolor": "white",
             "linecolor": "white",
             "minorgridcolor": "white",
             "startlinecolor": "#2a3f5f"
            },
            "baxis": {
             "endlinecolor": "#2a3f5f",
             "gridcolor": "white",
             "linecolor": "white",
             "minorgridcolor": "white",
             "startlinecolor": "#2a3f5f"
            },
            "type": "carpet"
           }
          ],
          "choropleth": [
           {
            "colorbar": {
             "outlinewidth": 0,
             "ticks": ""
            },
            "type": "choropleth"
           }
          ],
          "contour": [
           {
            "colorbar": {
             "outlinewidth": 0,
             "ticks": ""
            },
            "colorscale": [
             [
              0,
              "#0d0887"
             ],
             [
              0.1111111111111111,
              "#46039f"
             ],
             [
              0.2222222222222222,
              "#7201a8"
             ],
             [
              0.3333333333333333,
              "#9c179e"
             ],
             [
              0.4444444444444444,
              "#bd3786"
             ],
             [
              0.5555555555555556,
              "#d8576b"
             ],
             [
              0.6666666666666666,
              "#ed7953"
             ],
             [
              0.7777777777777778,
              "#fb9f3a"
             ],
             [
              0.8888888888888888,
              "#fdca26"
             ],
             [
              1,
              "#f0f921"
             ]
            ],
            "type": "contour"
           }
          ],
          "contourcarpet": [
           {
            "colorbar": {
             "outlinewidth": 0,
             "ticks": ""
            },
            "type": "contourcarpet"
           }
          ],
          "heatmap": [
           {
            "colorbar": {
             "outlinewidth": 0,
             "ticks": ""
            },
            "colorscale": [
             [
              0,
              "#0d0887"
             ],
             [
              0.1111111111111111,
              "#46039f"
             ],
             [
              0.2222222222222222,
              "#7201a8"
             ],
             [
              0.3333333333333333,
              "#9c179e"
             ],
             [
              0.4444444444444444,
              "#bd3786"
             ],
             [
              0.5555555555555556,
              "#d8576b"
             ],
             [
              0.6666666666666666,
              "#ed7953"
             ],
             [
              0.7777777777777778,
              "#fb9f3a"
             ],
             [
              0.8888888888888888,
              "#fdca26"
             ],
             [
              1,
              "#f0f921"
             ]
            ],
            "type": "heatmap"
           }
          ],
          "heatmapgl": [
           {
            "colorbar": {
             "outlinewidth": 0,
             "ticks": ""
            },
            "colorscale": [
             [
              0,
              "#0d0887"
             ],
             [
              0.1111111111111111,
              "#46039f"
             ],
             [
              0.2222222222222222,
              "#7201a8"
             ],
             [
              0.3333333333333333,
              "#9c179e"
             ],
             [
              0.4444444444444444,
              "#bd3786"
             ],
             [
              0.5555555555555556,
              "#d8576b"
             ],
             [
              0.6666666666666666,
              "#ed7953"
             ],
             [
              0.7777777777777778,
              "#fb9f3a"
             ],
             [
              0.8888888888888888,
              "#fdca26"
             ],
             [
              1,
              "#f0f921"
             ]
            ],
            "type": "heatmapgl"
           }
          ],
          "histogram": [
           {
            "marker": {
             "pattern": {
              "fillmode": "overlay",
              "size": 10,
              "solidity": 0.2
             }
            },
            "type": "histogram"
           }
          ],
          "histogram2d": [
           {
            "colorbar": {
             "outlinewidth": 0,
             "ticks": ""
            },
            "colorscale": [
             [
              0,
              "#0d0887"
             ],
             [
              0.1111111111111111,
              "#46039f"
             ],
             [
              0.2222222222222222,
              "#7201a8"
             ],
             [
              0.3333333333333333,
              "#9c179e"
             ],
             [
              0.4444444444444444,
              "#bd3786"
             ],
             [
              0.5555555555555556,
              "#d8576b"
             ],
             [
              0.6666666666666666,
              "#ed7953"
             ],
             [
              0.7777777777777778,
              "#fb9f3a"
             ],
             [
              0.8888888888888888,
              "#fdca26"
             ],
             [
              1,
              "#f0f921"
             ]
            ],
            "type": "histogram2d"
           }
          ],
          "histogram2dcontour": [
           {
            "colorbar": {
             "outlinewidth": 0,
             "ticks": ""
            },
            "colorscale": [
             [
              0,
              "#0d0887"
             ],
             [
              0.1111111111111111,
              "#46039f"
             ],
             [
              0.2222222222222222,
              "#7201a8"
             ],
             [
              0.3333333333333333,
              "#9c179e"
             ],
             [
              0.4444444444444444,
              "#bd3786"
             ],
             [
              0.5555555555555556,
              "#d8576b"
             ],
             [
              0.6666666666666666,
              "#ed7953"
             ],
             [
              0.7777777777777778,
              "#fb9f3a"
             ],
             [
              0.8888888888888888,
              "#fdca26"
             ],
             [
              1,
              "#f0f921"
             ]
            ],
            "type": "histogram2dcontour"
           }
          ],
          "mesh3d": [
           {
            "colorbar": {
             "outlinewidth": 0,
             "ticks": ""
            },
            "type": "mesh3d"
           }
          ],
          "parcoords": [
           {
            "line": {
             "colorbar": {
              "outlinewidth": 0,
              "ticks": ""
             }
            },
            "type": "parcoords"
           }
          ],
          "pie": [
           {
            "automargin": true,
            "type": "pie"
           }
          ],
          "scatter": [
           {
            "fillpattern": {
             "fillmode": "overlay",
             "size": 10,
             "solidity": 0.2
            },
            "type": "scatter"
           }
          ],
          "scatter3d": [
           {
            "line": {
             "colorbar": {
              "outlinewidth": 0,
              "ticks": ""
             }
            },
            "marker": {
             "colorbar": {
              "outlinewidth": 0,
              "ticks": ""
             }
            },
            "type": "scatter3d"
           }
          ],
          "scattercarpet": [
           {
            "marker": {
             "colorbar": {
              "outlinewidth": 0,
              "ticks": ""
             }
            },
            "type": "scattercarpet"
           }
          ],
          "scattergeo": [
           {
            "marker": {
             "colorbar": {
              "outlinewidth": 0,
              "ticks": ""
             }
            },
            "type": "scattergeo"
           }
          ],
          "scattergl": [
           {
            "marker": {
             "colorbar": {
              "outlinewidth": 0,
              "ticks": ""
             }
            },
            "type": "scattergl"
           }
          ],
          "scattermapbox": [
           {
            "marker": {
             "colorbar": {
              "outlinewidth": 0,
              "ticks": ""
             }
            },
            "type": "scattermapbox"
           }
          ],
          "scatterpolar": [
           {
            "marker": {
             "colorbar": {
              "outlinewidth": 0,
              "ticks": ""
             }
            },
            "type": "scatterpolar"
           }
          ],
          "scatterpolargl": [
           {
            "marker": {
             "colorbar": {
              "outlinewidth": 0,
              "ticks": ""
             }
            },
            "type": "scatterpolargl"
           }
          ],
          "scatterternary": [
           {
            "marker": {
             "colorbar": {
              "outlinewidth": 0,
              "ticks": ""
             }
            },
            "type": "scatterternary"
           }
          ],
          "surface": [
           {
            "colorbar": {
             "outlinewidth": 0,
             "ticks": ""
            },
            "colorscale": [
             [
              0,
              "#0d0887"
             ],
             [
              0.1111111111111111,
              "#46039f"
             ],
             [
              0.2222222222222222,
              "#7201a8"
             ],
             [
              0.3333333333333333,
              "#9c179e"
             ],
             [
              0.4444444444444444,
              "#bd3786"
             ],
             [
              0.5555555555555556,
              "#d8576b"
             ],
             [
              0.6666666666666666,
              "#ed7953"
             ],
             [
              0.7777777777777778,
              "#fb9f3a"
             ],
             [
              0.8888888888888888,
              "#fdca26"
             ],
             [
              1,
              "#f0f921"
             ]
            ],
            "type": "surface"
           }
          ],
          "table": [
           {
            "cells": {
             "fill": {
              "color": "#EBF0F8"
             },
             "line": {
              "color": "white"
             }
            },
            "header": {
             "fill": {
              "color": "#C8D4E3"
             },
             "line": {
              "color": "white"
             }
            },
            "type": "table"
           }
          ]
         },
         "layout": {
          "annotationdefaults": {
           "arrowcolor": "#2a3f5f",
           "arrowhead": 0,
           "arrowwidth": 1
          },
          "autotypenumbers": "strict",
          "coloraxis": {
           "colorbar": {
            "outlinewidth": 0,
            "ticks": ""
           }
          },
          "colorscale": {
           "diverging": [
            [
             0,
             "#8e0152"
            ],
            [
             0.1,
             "#c51b7d"
            ],
            [
             0.2,
             "#de77ae"
            ],
            [
             0.3,
             "#f1b6da"
            ],
            [
             0.4,
             "#fde0ef"
            ],
            [
             0.5,
             "#f7f7f7"
            ],
            [
             0.6,
             "#e6f5d0"
            ],
            [
             0.7,
             "#b8e186"
            ],
            [
             0.8,
             "#7fbc41"
            ],
            [
             0.9,
             "#4d9221"
            ],
            [
             1,
             "#276419"
            ]
           ],
           "sequential": [
            [
             0,
             "#0d0887"
            ],
            [
             0.1111111111111111,
             "#46039f"
            ],
            [
             0.2222222222222222,
             "#7201a8"
            ],
            [
             0.3333333333333333,
             "#9c179e"
            ],
            [
             0.4444444444444444,
             "#bd3786"
            ],
            [
             0.5555555555555556,
             "#d8576b"
            ],
            [
             0.6666666666666666,
             "#ed7953"
            ],
            [
             0.7777777777777778,
             "#fb9f3a"
            ],
            [
             0.8888888888888888,
             "#fdca26"
            ],
            [
             1,
             "#f0f921"
            ]
           ],
           "sequentialminus": [
            [
             0,
             "#0d0887"
            ],
            [
             0.1111111111111111,
             "#46039f"
            ],
            [
             0.2222222222222222,
             "#7201a8"
            ],
            [
             0.3333333333333333,
             "#9c179e"
            ],
            [
             0.4444444444444444,
             "#bd3786"
            ],
            [
             0.5555555555555556,
             "#d8576b"
            ],
            [
             0.6666666666666666,
             "#ed7953"
            ],
            [
             0.7777777777777778,
             "#fb9f3a"
            ],
            [
             0.8888888888888888,
             "#fdca26"
            ],
            [
             1,
             "#f0f921"
            ]
           ]
          },
          "colorway": [
           "#636efa",
           "#EF553B",
           "#00cc96",
           "#ab63fa",
           "#FFA15A",
           "#19d3f3",
           "#FF6692",
           "#B6E880",
           "#FF97FF",
           "#FECB52"
          ],
          "font": {
           "color": "#2a3f5f"
          },
          "geo": {
           "bgcolor": "white",
           "lakecolor": "white",
           "landcolor": "#E5ECF6",
           "showlakes": true,
           "showland": true,
           "subunitcolor": "white"
          },
          "hoverlabel": {
           "align": "left"
          },
          "hovermode": "closest",
          "mapbox": {
           "style": "light"
          },
          "paper_bgcolor": "white",
          "plot_bgcolor": "#E5ECF6",
          "polar": {
           "angularaxis": {
            "gridcolor": "white",
            "linecolor": "white",
            "ticks": ""
           },
           "bgcolor": "#E5ECF6",
           "radialaxis": {
            "gridcolor": "white",
            "linecolor": "white",
            "ticks": ""
           }
          },
          "scene": {
           "xaxis": {
            "backgroundcolor": "#E5ECF6",
            "gridcolor": "white",
            "gridwidth": 2,
            "linecolor": "white",
            "showbackground": true,
            "ticks": "",
            "zerolinecolor": "white"
           },
           "yaxis": {
            "backgroundcolor": "#E5ECF6",
            "gridcolor": "white",
            "gridwidth": 2,
            "linecolor": "white",
            "showbackground": true,
            "ticks": "",
            "zerolinecolor": "white"
           },
           "zaxis": {
            "backgroundcolor": "#E5ECF6",
            "gridcolor": "white",
            "gridwidth": 2,
            "linecolor": "white",
            "showbackground": true,
            "ticks": "",
            "zerolinecolor": "white"
           }
          },
          "shapedefaults": {
           "line": {
            "color": "#2a3f5f"
           }
          },
          "ternary": {
           "aaxis": {
            "gridcolor": "white",
            "linecolor": "white",
            "ticks": ""
           },
           "baxis": {
            "gridcolor": "white",
            "linecolor": "white",
            "ticks": ""
           },
           "bgcolor": "#E5ECF6",
           "caxis": {
            "gridcolor": "white",
            "linecolor": "white",
            "ticks": ""
           }
          },
          "title": {
           "x": 0.05
          },
          "xaxis": {
           "automargin": true,
           "gridcolor": "white",
           "linecolor": "white",
           "ticks": "",
           "title": {
            "standoff": 15
           },
           "zerolinecolor": "white",
           "zerolinewidth": 2
          },
          "yaxis": {
           "automargin": true,
           "gridcolor": "white",
           "linecolor": "white",
           "ticks": "",
           "title": {
            "standoff": 15
           },
           "zerolinecolor": "white",
           "zerolinewidth": 2
          }
         }
        },
        "title": {
         "text": "Distribution of Fatalities for Top 5 Months"
        },
        "xaxis": {
         "anchor": "y",
         "domain": [
          0,
          1
         ],
         "title": {
          "text": "Month"
         }
        },
        "yaxis": {
         "anchor": "x",
         "domain": [
          0,
          1
         ],
         "title": {
          "text": "Number of Fatalities"
         }
        }
       }
      }
     },
     "metadata": {},
     "output_type": "display_data"
    }
   ],
   "source": [
    "# Assuming df is your DataFrame\n",
    "\n",
    "# Select the top 5 months with the highest 'Palestinians Killed'\n",
    "top_5_palestinians = df.nlargest(5, 'palestinians_killed')\n",
    "\n",
    "# Select the top 5 months with the highest 'Israelis Killed'\n",
    "top_5_israelis = df.nlargest(5, 'israelis_killed')\n",
    "\n",
    "# Concatenate the dataframes for the top 5 months\n",
    "top_5_combined = pd.concat([top_5_palestinians, top_5_israelis])\n",
    "\n",
    "# Create a histogram\n",
    "fig = px.histogram(top_5_combined, x='month', y=['palestinians_killed', 'israelis_killed'],\n",
    "                title='Distribution of Fatalities for Top 5 Months',\n",
    "                color_discrete_sequence=['rgb(78, 115, 223)', 'rgb(255, 65, 54)'],\n",
    "                barmode='group')\n",
    "\n",
    "# Update layout\n",
    "fig.update_layout(\n",
    "    xaxis=dict(title='Month'),\n",
    "    yaxis=dict(title='Number of Fatalities'),\n",
    "    legend=dict(title='Fatalities', orientation='h', yanchor='bottom', y=1.02, xanchor='right', x=1),\n",
    "    plot_bgcolor='rgba(0,0,0,0)'\n",
    ")\n",
    "\n",
    "# Show the plot\n",
    "fig.show()"
   ]
  },
  {
   "cell_type": "code",
   "execution_count": 15,
   "metadata": {},
   "outputs": [
    {
     "data": {
      "application/vnd.plotly.v1+json": {
       "config": {
        "plotlyServerURL": "https://plot.ly"
       },
       "data": [
        {
         "hovertemplate": "year=%{x}<br>palestinians_killed=%{y}<extra></extra>",
         "legendgroup": "2000",
         "line": {
          "color": "#636efa",
          "dash": "solid"
         },
         "marker": {
          "symbol": "circle"
         },
         "mode": "lines",
         "name": "2000",
         "orientation": "v",
         "showlegend": true,
         "type": "scatter",
         "x": [
          2000,
          2000,
          2000,
          2000
         ],
         "xaxis": "x",
         "y": [
          51,
          112,
          104,
          16
         ],
         "yaxis": "y"
        },
        {
         "hovertemplate": "year=%{x}<br>palestinians_killed=%{y}<extra></extra>",
         "legendgroup": "2001",
         "line": {
          "color": "#EF553B",
          "dash": "solid"
         },
         "marker": {
          "symbol": "circle"
         },
         "mode": "lines",
         "name": "2001",
         "orientation": "v",
         "showlegend": true,
         "type": "scatter",
         "x": [
          2001,
          2001,
          2001,
          2001,
          2001,
          2001,
          2001,
          2001,
          2001,
          2001,
          2001,
          2001
         ],
         "xaxis": "x",
         "y": [
          67,
          39,
          89,
          59,
          37,
          32,
          13,
          46,
          23,
          27,
          19,
          19
         ],
         "yaxis": "y"
        },
        {
         "hovertemplate": "year=%{x}<br>palestinians_killed=%{y}<extra></extra>",
         "legendgroup": "2002",
         "line": {
          "color": "#00cc96",
          "dash": "solid"
         },
         "marker": {
          "symbol": "circle"
         },
         "mode": "lines",
         "name": "2002",
         "orientation": "v",
         "showlegend": true,
         "type": "scatter",
         "x": [
          2002,
          2002,
          2002,
          2002,
          2002,
          2002,
          2002,
          2002,
          2002,
          2002,
          2002,
          2002
         ],
         "xaxis": "x",
         "y": [
          72,
          46,
          66,
          51,
          53,
          43,
          57,
          48,
          246,
          237,
          85,
          28
         ],
         "yaxis": "y"
        },
        {
         "hovertemplate": "year=%{x}<br>palestinians_killed=%{y}<extra></extra>",
         "legendgroup": "2003",
         "line": {
          "color": "#ab63fa",
          "dash": "solid"
         },
         "marker": {
          "symbol": "circle"
         },
         "mode": "lines",
         "name": "2003",
         "orientation": "v",
         "showlegend": true,
         "type": "scatter",
         "x": [
          2003,
          2003,
          2003,
          2003,
          2003,
          2003,
          2003,
          2003,
          2003,
          2003,
          2003,
          2003
         ],
         "xaxis": "x",
         "y": [
          48,
          30,
          58,
          29,
          26,
          4,
          59,
          61,
          59,
          85,
          69,
          60
         ],
         "yaxis": "y"
        },
        {
         "hovertemplate": "year=%{x}<br>palestinians_killed=%{y}<extra></extra>",
         "legendgroup": "2004",
         "line": {
          "color": "#FFA15A",
          "dash": "solid"
         },
         "marker": {
          "symbol": "circle"
         },
         "mode": "lines",
         "name": "2004",
         "orientation": "v",
         "showlegend": true,
         "type": "scatter",
         "x": [
          2004,
          2004,
          2004,
          2004,
          2004,
          2004,
          2004,
          2004,
          2004,
          2004,
          2004,
          2004
         ],
         "xaxis": "x",
         "y": [
          61,
          42,
          145,
          112,
          39,
          0,
          59,
          113,
          55,
          79,
          54,
          27
         ],
         "yaxis": "y"
        },
        {
         "hovertemplate": "year=%{x}<br>palestinians_killed=%{y}<extra></extra>",
         "legendgroup": "2005",
         "line": {
          "color": "#19d3f3",
          "dash": "solid"
         },
         "marker": {
          "symbol": "circle"
         },
         "mode": "lines",
         "name": "2005",
         "orientation": "v",
         "showlegend": true,
         "type": "scatter",
         "x": [
          2005,
          2005,
          2005,
          2005,
          2005,
          2005,
          2005,
          2005,
          2005,
          2005,
          2005,
          2005
         ],
         "xaxis": "x",
         "y": [
          20,
          15,
          22,
          17,
          11,
          25,
          5,
          10,
          5,
          1,
          9,
          50
         ],
         "yaxis": "y"
        },
        {
         "hovertemplate": "year=%{x}<br>palestinians_killed=%{y}<extra></extra>",
         "legendgroup": "2006",
         "line": {
          "color": "#FF6692",
          "dash": "solid"
         },
         "marker": {
          "symbol": "circle"
         },
         "mode": "lines",
         "name": "2006",
         "orientation": "v",
         "showlegend": true,
         "type": "scatter",
         "x": [
          2006,
          2006,
          2006,
          2006,
          2006,
          2006,
          2006,
          2006,
          2006,
          2006,
          2006,
          2006
         ],
         "xaxis": "x",
         "y": [
          14,
          134,
          61,
          32,
          74,
          180,
          43,
          37,
          31,
          15,
          31,
          13
         ],
         "yaxis": "y"
        },
        {
         "hovertemplate": "year=%{x}<br>palestinians_killed=%{y}<extra></extra>",
         "legendgroup": "2007",
         "line": {
          "color": "#B6E880",
          "dash": "solid"
         },
         "marker": {
          "symbol": "circle"
         },
         "mode": "lines",
         "name": "2007",
         "orientation": "v",
         "showlegend": true,
         "type": "scatter",
         "x": [
          2007,
          2007,
          2007,
          2007,
          2007,
          2007,
          2007,
          2007,
          2007,
          2007,
          2007,
          2007
         ],
         "xaxis": "x",
         "y": [
          61,
          31,
          36,
          34,
          47,
          27,
          40,
          62,
          16,
          9,
          12,
          10
         ],
         "yaxis": "y"
        },
        {
         "hovertemplate": "year=%{x}<br>palestinians_killed=%{y}<extra></extra>",
         "legendgroup": "2008",
         "line": {
          "color": "#FF97FF",
          "dash": "solid"
         },
         "marker": {
          "symbol": "circle"
         },
         "mode": "lines",
         "name": "2008",
         "orientation": "v",
         "showlegend": true,
         "type": "scatter",
         "x": [
          2008,
          2008,
          2008,
          2008,
          2008,
          2008,
          2008,
          2008,
          2008,
          2008,
          2008,
          2008
         ],
         "xaxis": "x",
         "y": [
          432,
          15,
          4,
          3,
          0,
          8,
          30,
          40,
          72,
          114,
          79,
          89
         ],
         "yaxis": "y"
        },
        {
         "hovertemplate": "year=%{x}<br>palestinians_killed=%{y}<extra></extra>",
         "legendgroup": "2009",
         "line": {
          "color": "#FECB52",
          "dash": "solid"
         },
         "marker": {
          "symbol": "circle"
         },
         "mode": "lines",
         "name": "2009",
         "orientation": "v",
         "showlegend": true,
         "type": "scatter",
         "x": [
          2009,
          2009,
          2009,
          2009,
          2009,
          2009,
          2009,
          2009,
          2009,
          2009,
          2009,
          2009
         ],
         "xaxis": "x",
         "y": [
          6,
          1,
          0,
          9,
          6,
          2,
          4,
          6,
          6,
          9,
          9,
          978
         ],
         "yaxis": "y"
        },
        {
         "hovertemplate": "year=%{x}<br>palestinians_killed=%{y}<extra></extra>",
         "legendgroup": "2010",
         "line": {
          "color": "#636efa",
          "dash": "solid"
         },
         "marker": {
          "symbol": "circle"
         },
         "mode": "lines",
         "name": "2010",
         "orientation": "v",
         "showlegend": true,
         "type": "scatter",
         "x": [
          2010,
          2010,
          2010,
          2010,
          2010,
          2010,
          2010,
          2010,
          2010,
          2010,
          2010,
          2010
         ],
         "xaxis": "x",
         "y": [
          13,
          3,
          6,
          13,
          2,
          5,
          15,
          2,
          5,
          8,
          2,
          8
         ],
         "yaxis": "y"
        },
        {
         "hovertemplate": "year=%{x}<br>palestinians_killed=%{y}<extra></extra>",
         "legendgroup": "2011",
         "line": {
          "color": "#EF553B",
          "dash": "solid"
         },
         "marker": {
          "symbol": "circle"
         },
         "mode": "lines",
         "name": "2011",
         "orientation": "v",
         "showlegend": true,
         "type": "scatter",
         "x": [
          2011,
          2011,
          2011,
          2011,
          2011,
          2011,
          2011,
          2011,
          2011,
          2011,
          2011,
          2011
         ],
         "xaxis": "x",
         "y": [
          8,
          4,
          12,
          2,
          30,
          4,
          0,
          2,
          24,
          15,
          6,
          10
         ],
         "yaxis": "y"
        },
        {
         "hovertemplate": "year=%{x}<br>palestinians_killed=%{y}<extra></extra>",
         "legendgroup": "2012",
         "line": {
          "color": "#00cc96",
          "dash": "solid"
         },
         "marker": {
          "symbol": "circle"
         },
         "mode": "lines",
         "name": "2012",
         "orientation": "v",
         "showlegend": true,
         "type": "scatter",
         "x": [
          2012,
          2012,
          2012,
          2012,
          2012,
          2012,
          2012,
          2012,
          2012,
          2012,
          2012,
          2012
         ],
         "xaxis": "x",
         "y": [
          2,
          181,
          12,
          8,
          1,
          3,
          15,
          0,
          1,
          28,
          2,
          2
         ],
         "yaxis": "y"
        },
        {
         "hovertemplate": "year=%{x}<br>palestinians_killed=%{y}<extra></extra>",
         "legendgroup": "2013",
         "line": {
          "color": "#ab63fa",
          "dash": "solid"
         },
         "marker": {
          "symbol": "circle"
         },
         "mode": "lines",
         "name": "2013",
         "orientation": "v",
         "showlegend": true,
         "type": "scatter",
         "x": [
          2013,
          2013,
          2013,
          2013,
          2013,
          2013,
          2013,
          2013,
          2013,
          2013,
          2013,
          2013
         ],
         "xaxis": "x",
         "y": [
          5,
          9,
          4,
          2,
          6,
          1,
          0,
          0,
          3,
          2,
          1,
          5
         ],
         "yaxis": "y"
        },
        {
         "hovertemplate": "year=%{x}<br>palestinians_killed=%{y}<extra></extra>",
         "legendgroup": "2014",
         "line": {
          "color": "#FFA15A",
          "dash": "solid"
         },
         "marker": {
          "symbol": "circle"
         },
         "mode": "lines",
         "name": "2014",
         "orientation": "v",
         "showlegend": true,
         "type": "scatter",
         "x": [
          2014,
          2014,
          2014,
          2014,
          2014,
          2014,
          2014,
          2014,
          2014,
          2014,
          2014,
          2014
         ],
         "xaxis": "x",
         "y": [
          5,
          8,
          8,
          20,
          614,
          1590,
          10,
          3,
          0,
          12,
          3,
          6
         ],
         "yaxis": "y"
        },
        {
         "hovertemplate": "year=%{x}<br>palestinians_killed=%{y}<extra></extra>",
         "legendgroup": "2015",
         "line": {
          "color": "#19d3f3",
          "dash": "solid"
         },
         "marker": {
          "symbol": "circle"
         },
         "mode": "lines",
         "name": "2015",
         "orientation": "v",
         "showlegend": true,
         "type": "scatter",
         "x": [
          2015,
          2015,
          2015,
          2015,
          2015,
          2015,
          2015,
          2015,
          2015,
          2015,
          2015,
          2015
         ],
         "xaxis": "x",
         "y": [
          40,
          34,
          74,
          4,
          9,
          7,
          3,
          1,
          7,
          1,
          4,
          4
         ],
         "yaxis": "y"
        },
        {
         "hovertemplate": "year=%{x}<br>palestinians_killed=%{y}<extra></extra>",
         "legendgroup": "2016",
         "line": {
          "color": "#FF6692",
          "dash": "solid"
         },
         "marker": {
          "symbol": "circle"
         },
         "mode": "lines",
         "name": "2016",
         "orientation": "v",
         "showlegend": true,
         "type": "scatter",
         "x": [
          2016,
          2016,
          2016,
          2016,
          2016,
          2016,
          2016,
          2016,
          2016,
          2016,
          2016,
          2016
         ],
         "xaxis": "x",
         "y": [
          5,
          6,
          8,
          11,
          3,
          9,
          7,
          3,
          3,
          23,
          17,
          20
         ],
         "yaxis": "y"
        },
        {
         "hovertemplate": "year=%{x}<br>palestinians_killed=%{y}<extra></extra>",
         "legendgroup": "2017",
         "line": {
          "color": "#B6E880",
          "dash": "solid"
         },
         "marker": {
          "symbol": "circle"
         },
         "mode": "lines",
         "name": "2017",
         "orientation": "v",
         "showlegend": true,
         "type": "scatter",
         "x": [
          2017,
          2017,
          2017,
          2017,
          2017,
          2017,
          2017,
          2017,
          2017,
          2017,
          2017,
          2017
         ],
         "xaxis": "x",
         "y": [
          18,
          2,
          13,
          2,
          2,
          20,
          8,
          6,
          5,
          7,
          6,
          7
         ],
         "yaxis": "y"
        },
        {
         "hovertemplate": "year=%{x}<br>palestinians_killed=%{y}<extra></extra>",
         "legendgroup": "2018",
         "line": {
          "color": "#FF97FF",
          "dash": "solid"
         },
         "marker": {
          "symbol": "circle"
         },
         "mode": "lines",
         "name": "2018",
         "orientation": "v",
         "showlegend": true,
         "type": "scatter",
         "x": [
          2018,
          2018,
          2018,
          2018,
          2018,
          2018,
          2018,
          2018,
          2018,
          2018,
          2018,
          2018
         ],
         "xaxis": "x",
         "y": [
          14,
          25,
          32,
          25,
          16,
          24,
          18,
          66,
          34,
          20,
          9,
          7
         ],
         "yaxis": "y"
        },
        {
         "hovertemplate": "year=%{x}<br>palestinians_killed=%{y}<extra></extra>",
         "legendgroup": "2019",
         "line": {
          "color": "#FECB52",
          "dash": "solid"
         },
         "marker": {
          "symbol": "circle"
         },
         "mode": "lines",
         "name": "2019",
         "orientation": "v",
         "showlegend": true,
         "type": "scatter",
         "x": [
          2019,
          2019,
          2019,
          2019,
          2019,
          2019,
          2019,
          2019,
          2019,
          2019,
          2019,
          2019
         ],
         "xaxis": "x",
         "y": [
          1,
          43,
          3,
          5,
          11,
          4,
          3,
          33,
          8,
          21,
          8,
          9
         ],
         "yaxis": "y"
        },
        {
         "hovertemplate": "year=%{x}<br>palestinians_killed=%{y}<extra></extra>",
         "legendgroup": "2020",
         "line": {
          "color": "#636efa",
          "dash": "solid"
         },
         "marker": {
          "symbol": "circle"
         },
         "mode": "lines",
         "name": "2020",
         "orientation": "v",
         "showlegend": true,
         "type": "scatter",
         "x": [
          2020,
          2020,
          2020,
          2020,
          2020,
          2020,
          2020,
          2020,
          2020,
          2020,
          2020,
          2020
         ],
         "xaxis": "x",
         "y": [
          2,
          2,
          2,
          1,
          3,
          1,
          1,
          4,
          1,
          2,
          9,
          6
         ],
         "yaxis": "y"
        },
        {
         "hovertemplate": "year=%{x}<br>palestinians_killed=%{y}<extra></extra>",
         "legendgroup": "2021",
         "line": {
          "color": "#EF553B",
          "dash": "solid"
         },
         "marker": {
          "symbol": "circle"
         },
         "mode": "lines",
         "name": "2021",
         "orientation": "v",
         "showlegend": true,
         "type": "scatter",
         "x": [
          2021,
          2021,
          2021,
          2021,
          2021
         ],
         "xaxis": "x",
         "y": [
          4,
          1,
          4,
          1,
          26
         ],
         "yaxis": "y"
        }
       ],
       "layout": {
        "legend": {
         "title": {
          "text": "year"
         },
         "tracegroupgap": 0
        },
        "template": {
         "data": {
          "bar": [
           {
            "error_x": {
             "color": "#2a3f5f"
            },
            "error_y": {
             "color": "#2a3f5f"
            },
            "marker": {
             "line": {
              "color": "#E5ECF6",
              "width": 0.5
             },
             "pattern": {
              "fillmode": "overlay",
              "size": 10,
              "solidity": 0.2
             }
            },
            "type": "bar"
           }
          ],
          "barpolar": [
           {
            "marker": {
             "line": {
              "color": "#E5ECF6",
              "width": 0.5
             },
             "pattern": {
              "fillmode": "overlay",
              "size": 10,
              "solidity": 0.2
             }
            },
            "type": "barpolar"
           }
          ],
          "carpet": [
           {
            "aaxis": {
             "endlinecolor": "#2a3f5f",
             "gridcolor": "white",
             "linecolor": "white",
             "minorgridcolor": "white",
             "startlinecolor": "#2a3f5f"
            },
            "baxis": {
             "endlinecolor": "#2a3f5f",
             "gridcolor": "white",
             "linecolor": "white",
             "minorgridcolor": "white",
             "startlinecolor": "#2a3f5f"
            },
            "type": "carpet"
           }
          ],
          "choropleth": [
           {
            "colorbar": {
             "outlinewidth": 0,
             "ticks": ""
            },
            "type": "choropleth"
           }
          ],
          "contour": [
           {
            "colorbar": {
             "outlinewidth": 0,
             "ticks": ""
            },
            "colorscale": [
             [
              0,
              "#0d0887"
             ],
             [
              0.1111111111111111,
              "#46039f"
             ],
             [
              0.2222222222222222,
              "#7201a8"
             ],
             [
              0.3333333333333333,
              "#9c179e"
             ],
             [
              0.4444444444444444,
              "#bd3786"
             ],
             [
              0.5555555555555556,
              "#d8576b"
             ],
             [
              0.6666666666666666,
              "#ed7953"
             ],
             [
              0.7777777777777778,
              "#fb9f3a"
             ],
             [
              0.8888888888888888,
              "#fdca26"
             ],
             [
              1,
              "#f0f921"
             ]
            ],
            "type": "contour"
           }
          ],
          "contourcarpet": [
           {
            "colorbar": {
             "outlinewidth": 0,
             "ticks": ""
            },
            "type": "contourcarpet"
           }
          ],
          "heatmap": [
           {
            "colorbar": {
             "outlinewidth": 0,
             "ticks": ""
            },
            "colorscale": [
             [
              0,
              "#0d0887"
             ],
             [
              0.1111111111111111,
              "#46039f"
             ],
             [
              0.2222222222222222,
              "#7201a8"
             ],
             [
              0.3333333333333333,
              "#9c179e"
             ],
             [
              0.4444444444444444,
              "#bd3786"
             ],
             [
              0.5555555555555556,
              "#d8576b"
             ],
             [
              0.6666666666666666,
              "#ed7953"
             ],
             [
              0.7777777777777778,
              "#fb9f3a"
             ],
             [
              0.8888888888888888,
              "#fdca26"
             ],
             [
              1,
              "#f0f921"
             ]
            ],
            "type": "heatmap"
           }
          ],
          "heatmapgl": [
           {
            "colorbar": {
             "outlinewidth": 0,
             "ticks": ""
            },
            "colorscale": [
             [
              0,
              "#0d0887"
             ],
             [
              0.1111111111111111,
              "#46039f"
             ],
             [
              0.2222222222222222,
              "#7201a8"
             ],
             [
              0.3333333333333333,
              "#9c179e"
             ],
             [
              0.4444444444444444,
              "#bd3786"
             ],
             [
              0.5555555555555556,
              "#d8576b"
             ],
             [
              0.6666666666666666,
              "#ed7953"
             ],
             [
              0.7777777777777778,
              "#fb9f3a"
             ],
             [
              0.8888888888888888,
              "#fdca26"
             ],
             [
              1,
              "#f0f921"
             ]
            ],
            "type": "heatmapgl"
           }
          ],
          "histogram": [
           {
            "marker": {
             "pattern": {
              "fillmode": "overlay",
              "size": 10,
              "solidity": 0.2
             }
            },
            "type": "histogram"
           }
          ],
          "histogram2d": [
           {
            "colorbar": {
             "outlinewidth": 0,
             "ticks": ""
            },
            "colorscale": [
             [
              0,
              "#0d0887"
             ],
             [
              0.1111111111111111,
              "#46039f"
             ],
             [
              0.2222222222222222,
              "#7201a8"
             ],
             [
              0.3333333333333333,
              "#9c179e"
             ],
             [
              0.4444444444444444,
              "#bd3786"
             ],
             [
              0.5555555555555556,
              "#d8576b"
             ],
             [
              0.6666666666666666,
              "#ed7953"
             ],
             [
              0.7777777777777778,
              "#fb9f3a"
             ],
             [
              0.8888888888888888,
              "#fdca26"
             ],
             [
              1,
              "#f0f921"
             ]
            ],
            "type": "histogram2d"
           }
          ],
          "histogram2dcontour": [
           {
            "colorbar": {
             "outlinewidth": 0,
             "ticks": ""
            },
            "colorscale": [
             [
              0,
              "#0d0887"
             ],
             [
              0.1111111111111111,
              "#46039f"
             ],
             [
              0.2222222222222222,
              "#7201a8"
             ],
             [
              0.3333333333333333,
              "#9c179e"
             ],
             [
              0.4444444444444444,
              "#bd3786"
             ],
             [
              0.5555555555555556,
              "#d8576b"
             ],
             [
              0.6666666666666666,
              "#ed7953"
             ],
             [
              0.7777777777777778,
              "#fb9f3a"
             ],
             [
              0.8888888888888888,
              "#fdca26"
             ],
             [
              1,
              "#f0f921"
             ]
            ],
            "type": "histogram2dcontour"
           }
          ],
          "mesh3d": [
           {
            "colorbar": {
             "outlinewidth": 0,
             "ticks": ""
            },
            "type": "mesh3d"
           }
          ],
          "parcoords": [
           {
            "line": {
             "colorbar": {
              "outlinewidth": 0,
              "ticks": ""
             }
            },
            "type": "parcoords"
           }
          ],
          "pie": [
           {
            "automargin": true,
            "type": "pie"
           }
          ],
          "scatter": [
           {
            "fillpattern": {
             "fillmode": "overlay",
             "size": 10,
             "solidity": 0.2
            },
            "type": "scatter"
           }
          ],
          "scatter3d": [
           {
            "line": {
             "colorbar": {
              "outlinewidth": 0,
              "ticks": ""
             }
            },
            "marker": {
             "colorbar": {
              "outlinewidth": 0,
              "ticks": ""
             }
            },
            "type": "scatter3d"
           }
          ],
          "scattercarpet": [
           {
            "marker": {
             "colorbar": {
              "outlinewidth": 0,
              "ticks": ""
             }
            },
            "type": "scattercarpet"
           }
          ],
          "scattergeo": [
           {
            "marker": {
             "colorbar": {
              "outlinewidth": 0,
              "ticks": ""
             }
            },
            "type": "scattergeo"
           }
          ],
          "scattergl": [
           {
            "marker": {
             "colorbar": {
              "outlinewidth": 0,
              "ticks": ""
             }
            },
            "type": "scattergl"
           }
          ],
          "scattermapbox": [
           {
            "marker": {
             "colorbar": {
              "outlinewidth": 0,
              "ticks": ""
             }
            },
            "type": "scattermapbox"
           }
          ],
          "scatterpolar": [
           {
            "marker": {
             "colorbar": {
              "outlinewidth": 0,
              "ticks": ""
             }
            },
            "type": "scatterpolar"
           }
          ],
          "scatterpolargl": [
           {
            "marker": {
             "colorbar": {
              "outlinewidth": 0,
              "ticks": ""
             }
            },
            "type": "scatterpolargl"
           }
          ],
          "scatterternary": [
           {
            "marker": {
             "colorbar": {
              "outlinewidth": 0,
              "ticks": ""
             }
            },
            "type": "scatterternary"
           }
          ],
          "surface": [
           {
            "colorbar": {
             "outlinewidth": 0,
             "ticks": ""
            },
            "colorscale": [
             [
              0,
              "#0d0887"
             ],
             [
              0.1111111111111111,
              "#46039f"
             ],
             [
              0.2222222222222222,
              "#7201a8"
             ],
             [
              0.3333333333333333,
              "#9c179e"
             ],
             [
              0.4444444444444444,
              "#bd3786"
             ],
             [
              0.5555555555555556,
              "#d8576b"
             ],
             [
              0.6666666666666666,
              "#ed7953"
             ],
             [
              0.7777777777777778,
              "#fb9f3a"
             ],
             [
              0.8888888888888888,
              "#fdca26"
             ],
             [
              1,
              "#f0f921"
             ]
            ],
            "type": "surface"
           }
          ],
          "table": [
           {
            "cells": {
             "fill": {
              "color": "#EBF0F8"
             },
             "line": {
              "color": "white"
             }
            },
            "header": {
             "fill": {
              "color": "#C8D4E3"
             },
             "line": {
              "color": "white"
             }
            },
            "type": "table"
           }
          ]
         },
         "layout": {
          "annotationdefaults": {
           "arrowcolor": "#2a3f5f",
           "arrowhead": 0,
           "arrowwidth": 1
          },
          "autotypenumbers": "strict",
          "coloraxis": {
           "colorbar": {
            "outlinewidth": 0,
            "ticks": ""
           }
          },
          "colorscale": {
           "diverging": [
            [
             0,
             "#8e0152"
            ],
            [
             0.1,
             "#c51b7d"
            ],
            [
             0.2,
             "#de77ae"
            ],
            [
             0.3,
             "#f1b6da"
            ],
            [
             0.4,
             "#fde0ef"
            ],
            [
             0.5,
             "#f7f7f7"
            ],
            [
             0.6,
             "#e6f5d0"
            ],
            [
             0.7,
             "#b8e186"
            ],
            [
             0.8,
             "#7fbc41"
            ],
            [
             0.9,
             "#4d9221"
            ],
            [
             1,
             "#276419"
            ]
           ],
           "sequential": [
            [
             0,
             "#0d0887"
            ],
            [
             0.1111111111111111,
             "#46039f"
            ],
            [
             0.2222222222222222,
             "#7201a8"
            ],
            [
             0.3333333333333333,
             "#9c179e"
            ],
            [
             0.4444444444444444,
             "#bd3786"
            ],
            [
             0.5555555555555556,
             "#d8576b"
            ],
            [
             0.6666666666666666,
             "#ed7953"
            ],
            [
             0.7777777777777778,
             "#fb9f3a"
            ],
            [
             0.8888888888888888,
             "#fdca26"
            ],
            [
             1,
             "#f0f921"
            ]
           ],
           "sequentialminus": [
            [
             0,
             "#0d0887"
            ],
            [
             0.1111111111111111,
             "#46039f"
            ],
            [
             0.2222222222222222,
             "#7201a8"
            ],
            [
             0.3333333333333333,
             "#9c179e"
            ],
            [
             0.4444444444444444,
             "#bd3786"
            ],
            [
             0.5555555555555556,
             "#d8576b"
            ],
            [
             0.6666666666666666,
             "#ed7953"
            ],
            [
             0.7777777777777778,
             "#fb9f3a"
            ],
            [
             0.8888888888888888,
             "#fdca26"
            ],
            [
             1,
             "#f0f921"
            ]
           ]
          },
          "colorway": [
           "#636efa",
           "#EF553B",
           "#00cc96",
           "#ab63fa",
           "#FFA15A",
           "#19d3f3",
           "#FF6692",
           "#B6E880",
           "#FF97FF",
           "#FECB52"
          ],
          "font": {
           "color": "#2a3f5f"
          },
          "geo": {
           "bgcolor": "white",
           "lakecolor": "white",
           "landcolor": "#E5ECF6",
           "showlakes": true,
           "showland": true,
           "subunitcolor": "white"
          },
          "hoverlabel": {
           "align": "left"
          },
          "hovermode": "closest",
          "mapbox": {
           "style": "light"
          },
          "paper_bgcolor": "white",
          "plot_bgcolor": "#E5ECF6",
          "polar": {
           "angularaxis": {
            "gridcolor": "white",
            "linecolor": "white",
            "ticks": ""
           },
           "bgcolor": "#E5ECF6",
           "radialaxis": {
            "gridcolor": "white",
            "linecolor": "white",
            "ticks": ""
           }
          },
          "scene": {
           "xaxis": {
            "backgroundcolor": "#E5ECF6",
            "gridcolor": "white",
            "gridwidth": 2,
            "linecolor": "white",
            "showbackground": true,
            "ticks": "",
            "zerolinecolor": "white"
           },
           "yaxis": {
            "backgroundcolor": "#E5ECF6",
            "gridcolor": "white",
            "gridwidth": 2,
            "linecolor": "white",
            "showbackground": true,
            "ticks": "",
            "zerolinecolor": "white"
           },
           "zaxis": {
            "backgroundcolor": "#E5ECF6",
            "gridcolor": "white",
            "gridwidth": 2,
            "linecolor": "white",
            "showbackground": true,
            "ticks": "",
            "zerolinecolor": "white"
           }
          },
          "shapedefaults": {
           "line": {
            "color": "#2a3f5f"
           }
          },
          "ternary": {
           "aaxis": {
            "gridcolor": "white",
            "linecolor": "white",
            "ticks": ""
           },
           "baxis": {
            "gridcolor": "white",
            "linecolor": "white",
            "ticks": ""
           },
           "bgcolor": "#E5ECF6",
           "caxis": {
            "gridcolor": "white",
            "linecolor": "white",
            "ticks": ""
           }
          },
          "title": {
           "x": 0.05
          },
          "xaxis": {
           "automargin": true,
           "gridcolor": "white",
           "linecolor": "white",
           "ticks": "",
           "title": {
            "standoff": 15
           },
           "zerolinecolor": "white",
           "zerolinewidth": 2
          },
          "yaxis": {
           "automargin": true,
           "gridcolor": "white",
           "linecolor": "white",
           "ticks": "",
           "title": {
            "standoff": 15
           },
           "zerolinecolor": "white",
           "zerolinewidth": 2
          }
         }
        },
        "title": {
         "text": "palestinians_killed"
        },
        "xaxis": {
         "anchor": "y",
         "categoryarray": [
          2000,
          2001,
          2002,
          2003,
          2004,
          2005,
          2006,
          2007,
          2008,
          2009,
          2010,
          2011,
          2012,
          2013,
          2014,
          2015,
          2016,
          2017,
          2018,
          2019,
          2020,
          2021
         ],
         "categoryorder": "array",
         "domain": [
          0,
          1
         ],
         "title": {
          "text": "year"
         }
        },
        "yaxis": {
         "anchor": "x",
         "domain": [
          0,
          1
         ],
         "title": {
          "text": "palestinians_killed"
         }
        }
       }
      }
     },
     "metadata": {},
     "output_type": "display_data"
    },
    {
     "data": {
      "application/vnd.plotly.v1+json": {
       "config": {
        "plotlyServerURL": "https://plot.ly"
       },
       "data": [
        {
         "hovertemplate": "year=%{x}<br>israelis_killed=%{y}<extra></extra>",
         "legendgroup": "2000",
         "line": {
          "color": "#636efa",
          "dash": "solid"
         },
         "marker": {
          "symbol": "circle"
         },
         "mode": "lines",
         "name": "2000",
         "orientation": "v",
         "showlegend": true,
         "type": "scatter",
         "x": [
          2000,
          2000,
          2000,
          2000
         ],
         "xaxis": "x",
         "y": [
          8,
          22,
          10,
          1
         ],
         "yaxis": "y"
        },
        {
         "hovertemplate": "year=%{x}<br>israelis_killed=%{y}<extra></extra>",
         "legendgroup": "2001",
         "line": {
          "color": "#EF553B",
          "dash": "solid"
         },
         "marker": {
          "symbol": "circle"
         },
         "mode": "lines",
         "name": "2001",
         "orientation": "v",
         "showlegend": true,
         "type": "scatter",
         "x": [
          2001,
          2001,
          2001,
          2001,
          2001,
          2001,
          2001,
          2001,
          2001,
          2001,
          2001,
          2001
         ],
         "xaxis": "x",
         "y": [
          36,
          14,
          14,
          13,
          26,
          10,
          28,
          17,
          7,
          8,
          13,
          6
         ],
         "yaxis": "y"
        },
        {
         "hovertemplate": "year=%{x}<br>israelis_killed=%{y}<extra></extra>",
         "legendgroup": "2002",
         "line": {
          "color": "#00cc96",
          "dash": "solid"
         },
         "marker": {
          "symbol": "circle"
         },
         "mode": "lines",
         "name": "2002",
         "orientation": "v",
         "showlegend": true,
         "type": "scatter",
         "x": [
          2002,
          2002,
          2002,
          2002,
          2002,
          2002,
          2002,
          2002,
          2002,
          2002,
          2002,
          2002
         ],
         "xaxis": "x",
         "y": [
          7,
          40,
          22,
          13,
          13,
          25,
          57,
          29,
          46,
          122,
          29,
          16
         ],
         "yaxis": "y"
        },
        {
         "hovertemplate": "year=%{x}<br>israelis_killed=%{y}<extra></extra>",
         "legendgroup": "2003",
         "line": {
          "color": "#ab63fa",
          "dash": "solid"
         },
         "marker": {
          "symbol": "circle"
         },
         "mode": "lines",
         "name": "2003",
         "orientation": "v",
         "showlegend": true,
         "type": "scatter",
         "x": [
          2003,
          2003,
          2003,
          2003,
          2003,
          2003,
          2003,
          2003,
          2003,
          2003,
          2003,
          2003
         ],
         "xaxis": "x",
         "y": [
          6,
          4,
          27,
          21,
          25,
          2,
          28,
          13,
          6,
          23,
          8,
          22
         ],
         "yaxis": "y"
        },
        {
         "hovertemplate": "year=%{x}<br>israelis_killed=%{y}<extra></extra>",
         "legendgroup": "2004",
         "line": {
          "color": "#FFA15A",
          "dash": "solid"
         },
         "marker": {
          "symbol": "circle"
         },
         "mode": "lines",
         "name": "2004",
         "orientation": "v",
         "showlegend": true,
         "type": "scatter",
         "x": [
          2004,
          2004,
          2004,
          2004,
          2004,
          2004,
          2004,
          2004,
          2004,
          2004,
          2004,
          2004
         ],
         "xaxis": "x",
         "y": [
          8,
          3,
          3,
          11,
          17,
          0,
          3,
          19,
          3,
          11,
          11,
          15
         ],
         "yaxis": "y"
        },
        {
         "hovertemplate": "year=%{x}<br>israelis_killed=%{y}<extra></extra>",
         "legendgroup": "2005",
         "line": {
          "color": "#19d3f3",
          "dash": "solid"
         },
         "marker": {
          "symbol": "circle"
         },
         "mode": "lines",
         "name": "2005",
         "orientation": "v",
         "showlegend": true,
         "type": "scatter",
         "x": [
          2005,
          2005,
          2005,
          2005,
          2005,
          2005,
          2005,
          2005,
          2005,
          2005,
          2005,
          2005
         ],
         "xaxis": "x",
         "y": [
          8,
          1,
          10,
          1,
          0,
          8,
          4,
          1,
          0,
          0,
          5,
          13
         ],
         "yaxis": "y"
        },
        {
         "hovertemplate": "year=%{x}<br>israelis_killed=%{y}<extra></extra>",
         "legendgroup": "2006",
         "line": {
          "color": "#FF6692",
          "dash": "solid"
         },
         "marker": {
          "symbol": "circle"
         },
         "mode": "lines",
         "name": "2006",
         "orientation": "v",
         "showlegend": true,
         "type": "scatter",
         "x": [
          2006,
          2006,
          2006,
          2006,
          2006,
          2006,
          2006,
          2006,
          2006,
          2006,
          2006,
          2006
         ],
         "xaxis": "x",
         "y": [
          0,
          0,
          0,
          1,
          1,
          2,
          3,
          0,
          7,
          5,
          1,
          0
         ],
         "yaxis": "y"
        },
        {
         "hovertemplate": "year=%{x}<br>israelis_killed=%{y}<extra></extra>",
         "legendgroup": "2007",
         "line": {
          "color": "#B6E880",
          "dash": "solid"
         },
         "marker": {
          "symbol": "circle"
         },
         "mode": "lines",
         "name": "2007",
         "orientation": "v",
         "showlegend": true,
         "type": "scatter",
         "x": [
          2007,
          2007,
          2007,
          2007,
          2007,
          2007,
          2007,
          2007,
          2007,
          2007,
          2007,
          2007
         ],
         "xaxis": "x",
         "y": [
          2,
          1,
          2,
          0,
          0,
          1,
          0,
          2,
          0,
          0,
          1,
          3
         ],
         "yaxis": "y"
        },
        {
         "hovertemplate": "year=%{x}<br>israelis_killed=%{y}<extra></extra>",
         "legendgroup": "2008",
         "line": {
          "color": "#FF97FF",
          "dash": "solid"
         },
         "marker": {
          "symbol": "circle"
         },
         "mode": "lines",
         "name": "2008",
         "orientation": "v",
         "showlegend": true,
         "type": "scatter",
         "x": [
          2008,
          2008,
          2008,
          2008,
          2008,
          2008,
          2008,
          2008,
          2008,
          2008,
          2008,
          2008
         ],
         "xaxis": "x",
         "y": [
          4,
          0,
          1,
          0,
          4,
          4,
          1,
          2,
          8,
          12,
          2,
          1
         ],
         "yaxis": "y"
        },
        {
         "hovertemplate": "year=%{x}<br>israelis_killed=%{y}<extra></extra>",
         "legendgroup": "2009",
         "line": {
          "color": "#FECB52",
          "dash": "solid"
         },
         "marker": {
          "symbol": "circle"
         },
         "mode": "lines",
         "name": "2009",
         "orientation": "v",
         "showlegend": true,
         "type": "scatter",
         "x": [
          2009,
          2009,
          2009,
          2009,
          2009,
          2009,
          2009,
          2009,
          2009,
          2009,
          2009,
          2009
         ],
         "xaxis": "x",
         "y": [
          1,
          0,
          0,
          0,
          0,
          0,
          0,
          1,
          1,
          0,
          0,
          6
         ],
         "yaxis": "y"
        },
        {
         "hovertemplate": "year=%{x}<br>israelis_killed=%{y}<extra></extra>",
         "legendgroup": "2010",
         "line": {
          "color": "#636efa",
          "dash": "solid"
         },
         "marker": {
          "symbol": "circle"
         },
         "mode": "lines",
         "name": "2010",
         "orientation": "v",
         "showlegend": true,
         "type": "scatter",
         "x": [
          2010,
          2010,
          2010,
          2010,
          2010,
          2010,
          2010,
          2010,
          2010,
          2010,
          2010,
          2010
         ],
         "xaxis": "x",
         "y": [
          0,
          0,
          0,
          0,
          4,
          0,
          1,
          0,
          0,
          2,
          2,
          0
         ],
         "yaxis": "y"
        },
        {
         "hovertemplate": "year=%{x}<br>israelis_killed=%{y}<extra></extra>",
         "legendgroup": "2011",
         "line": {
          "color": "#EF553B",
          "dash": "solid"
         },
         "marker": {
          "symbol": "circle"
         },
         "mode": "lines",
         "name": "2011",
         "orientation": "v",
         "showlegend": true,
         "type": "scatter",
         "x": [
          2011,
          2011,
          2011,
          2011,
          2011,
          2011,
          2011,
          2011,
          2011,
          2011,
          2011,
          2011
         ],
         "xaxis": "x",
         "y": [
          0,
          0,
          0,
          2,
          1,
          0,
          0,
          0,
          2,
          5,
          0,
          0
         ],
         "yaxis": "y"
        },
        {
         "hovertemplate": "year=%{x}<br>israelis_killed=%{y}<extra></extra>",
         "legendgroup": "2012",
         "line": {
          "color": "#00cc96",
          "dash": "solid"
         },
         "marker": {
          "symbol": "circle"
         },
         "mode": "lines",
         "name": "2012",
         "orientation": "v",
         "showlegend": true,
         "type": "scatter",
         "x": [
          2012,
          2012,
          2012,
          2012,
          2012,
          2012,
          2012,
          2012,
          2012,
          2012,
          2012,
          2012
         ],
         "xaxis": "x",
         "y": [
          0,
          6,
          0,
          0,
          0,
          0,
          1,
          0,
          0,
          0,
          0,
          0
         ],
         "yaxis": "y"
        },
        {
         "hovertemplate": "year=%{x}<br>israelis_killed=%{y}<extra></extra>",
         "legendgroup": "2013",
         "line": {
          "color": "#ab63fa",
          "dash": "solid"
         },
         "marker": {
          "symbol": "circle"
         },
         "mode": "lines",
         "name": "2013",
         "orientation": "v",
         "showlegend": true,
         "type": "scatter",
         "x": [
          2013,
          2013,
          2013,
          2013,
          2013,
          2013,
          2013,
          2013,
          2013,
          2013,
          2013,
          2013
         ],
         "xaxis": "x",
         "y": [
          1,
          1,
          1,
          2,
          0,
          0,
          0,
          0,
          1,
          0,
          0,
          0
         ],
         "yaxis": "y"
        },
        {
         "hovertemplate": "year=%{x}<br>israelis_killed=%{y}<extra></extra>",
         "legendgroup": "2014",
         "line": {
          "color": "#FFA15A",
          "dash": "solid"
         },
         "marker": {
          "symbol": "circle"
         },
         "mode": "lines",
         "name": "2014",
         "orientation": "v",
         "showlegend": true,
         "type": "scatter",
         "x": [
          2014,
          2014,
          2014,
          2014,
          2014,
          2014,
          2014,
          2014,
          2014,
          2014,
          2014,
          2014
         ],
         "xaxis": "x",
         "y": [
          0,
          10,
          2,
          0,
          9,
          59,
          3,
          1,
          1,
          0,
          0,
          0
         ],
         "yaxis": "y"
        },
        {
         "hovertemplate": "year=%{x}<br>israelis_killed=%{y}<extra></extra>",
         "legendgroup": "2015",
         "line": {
          "color": "#19d3f3",
          "dash": "solid"
         },
         "marker": {
          "symbol": "circle"
         },
         "mode": "lines",
         "name": "2015",
         "orientation": "v",
         "showlegend": true,
         "type": "scatter",
         "x": [
          2015,
          2015,
          2015,
          2015,
          2015,
          2015,
          2015,
          2015,
          2015,
          2015,
          2015,
          2015
         ],
         "xaxis": "x",
         "y": [
          2,
          8,
          10,
          1,
          0,
          0,
          2,
          0,
          1,
          0,
          0,
          0
         ],
         "yaxis": "y"
        },
        {
         "hovertemplate": "year=%{x}<br>israelis_killed=%{y}<extra></extra>",
         "legendgroup": "2016",
         "line": {
          "color": "#FF6692",
          "dash": "solid"
         },
         "marker": {
          "symbol": "circle"
         },
         "mode": "lines",
         "name": "2016",
         "orientation": "v",
         "showlegend": true,
         "type": "scatter",
         "x": [
          2016,
          2016,
          2016,
          2016,
          2016,
          2016,
          2016,
          2016,
          2016,
          2016,
          2016,
          2016
         ],
         "xaxis": "x",
         "y": [
          0,
          0,
          2,
          0,
          0,
          1,
          5,
          0,
          0,
          0,
          2,
          2
         ],
         "yaxis": "y"
        },
        {
         "hovertemplate": "year=%{x}<br>israelis_killed=%{y}<extra></extra>",
         "legendgroup": "2017",
         "line": {
          "color": "#B6E880",
          "dash": "solid"
         },
         "marker": {
          "symbol": "circle"
         },
         "mode": "lines",
         "name": "2017",
         "orientation": "v",
         "showlegend": true,
         "type": "scatter",
         "x": [
          2017,
          2017,
          2017,
          2017,
          2017,
          2017,
          2017,
          2017,
          2017,
          2017,
          2017,
          2017
         ],
         "xaxis": "x",
         "y": [
          0,
          2,
          1,
          3,
          0,
          5,
          1,
          0,
          1,
          0,
          0,
          6
         ],
         "yaxis": "y"
        },
        {
         "hovertemplate": "year=%{x}<br>israelis_killed=%{y}<extra></extra>",
         "legendgroup": "2018",
         "line": {
          "color": "#FF97FF",
          "dash": "solid"
         },
         "marker": {
          "symbol": "circle"
         },
         "mode": "lines",
         "name": "2018",
         "orientation": "v",
         "showlegend": true,
         "type": "scatter",
         "x": [
          2018,
          2018,
          2018,
          2018,
          2018,
          2018,
          2018,
          2018,
          2018,
          2018,
          2018,
          2018
         ],
         "xaxis": "x",
         "y": [
          2,
          1,
          2,
          1,
          0,
          2,
          0,
          1,
          0,
          3,
          1,
          1
         ],
         "yaxis": "y"
        },
        {
         "hovertemplate": "year=%{x}<br>israelis_killed=%{y}<extra></extra>",
         "legendgroup": "2019",
         "line": {
          "color": "#FECB52",
          "dash": "solid"
         },
         "marker": {
          "symbol": "circle"
         },
         "mode": "lines",
         "name": "2019",
         "orientation": "v",
         "showlegend": true,
         "type": "scatter",
         "x": [
          2019,
          2019,
          2019,
          2019,
          2019,
          2019,
          2019,
          2019,
          2019,
          2019,
          2019,
          2019
         ],
         "xaxis": "x",
         "y": [
          0,
          0,
          0,
          1,
          2,
          1,
          0,
          4,
          0,
          2,
          1,
          0
         ],
         "yaxis": "y"
        },
        {
         "hovertemplate": "year=%{x}<br>israelis_killed=%{y}<extra></extra>",
         "legendgroup": "2020",
         "line": {
          "color": "#636efa",
          "dash": "solid"
         },
         "marker": {
          "symbol": "circle"
         },
         "mode": "lines",
         "name": "2020",
         "orientation": "v",
         "showlegend": true,
         "type": "scatter",
         "x": [
          2020,
          2020,
          2020,
          2020,
          2020,
          2020,
          2020,
          2020,
          2020,
          2020,
          2020,
          2020
         ],
         "xaxis": "x",
         "y": [
          1,
          0,
          0,
          0,
          1,
          0,
          0,
          1,
          0,
          0,
          0,
          0
         ],
         "yaxis": "y"
        },
        {
         "hovertemplate": "year=%{x}<br>israelis_killed=%{y}<extra></extra>",
         "legendgroup": "2021",
         "line": {
          "color": "#EF553B",
          "dash": "solid"
         },
         "marker": {
          "symbol": "circle"
         },
         "mode": "lines",
         "name": "2021",
         "orientation": "v",
         "showlegend": true,
         "type": "scatter",
         "x": [
          2021,
          2021,
          2021,
          2021,
          2021
         ],
         "xaxis": "x",
         "y": [
          0,
          0,
          0,
          0,
          3
         ],
         "yaxis": "y"
        }
       ],
       "layout": {
        "legend": {
         "title": {
          "text": "year"
         },
         "tracegroupgap": 0
        },
        "template": {
         "data": {
          "bar": [
           {
            "error_x": {
             "color": "#2a3f5f"
            },
            "error_y": {
             "color": "#2a3f5f"
            },
            "marker": {
             "line": {
              "color": "#E5ECF6",
              "width": 0.5
             },
             "pattern": {
              "fillmode": "overlay",
              "size": 10,
              "solidity": 0.2
             }
            },
            "type": "bar"
           }
          ],
          "barpolar": [
           {
            "marker": {
             "line": {
              "color": "#E5ECF6",
              "width": 0.5
             },
             "pattern": {
              "fillmode": "overlay",
              "size": 10,
              "solidity": 0.2
             }
            },
            "type": "barpolar"
           }
          ],
          "carpet": [
           {
            "aaxis": {
             "endlinecolor": "#2a3f5f",
             "gridcolor": "white",
             "linecolor": "white",
             "minorgridcolor": "white",
             "startlinecolor": "#2a3f5f"
            },
            "baxis": {
             "endlinecolor": "#2a3f5f",
             "gridcolor": "white",
             "linecolor": "white",
             "minorgridcolor": "white",
             "startlinecolor": "#2a3f5f"
            },
            "type": "carpet"
           }
          ],
          "choropleth": [
           {
            "colorbar": {
             "outlinewidth": 0,
             "ticks": ""
            },
            "type": "choropleth"
           }
          ],
          "contour": [
           {
            "colorbar": {
             "outlinewidth": 0,
             "ticks": ""
            },
            "colorscale": [
             [
              0,
              "#0d0887"
             ],
             [
              0.1111111111111111,
              "#46039f"
             ],
             [
              0.2222222222222222,
              "#7201a8"
             ],
             [
              0.3333333333333333,
              "#9c179e"
             ],
             [
              0.4444444444444444,
              "#bd3786"
             ],
             [
              0.5555555555555556,
              "#d8576b"
             ],
             [
              0.6666666666666666,
              "#ed7953"
             ],
             [
              0.7777777777777778,
              "#fb9f3a"
             ],
             [
              0.8888888888888888,
              "#fdca26"
             ],
             [
              1,
              "#f0f921"
             ]
            ],
            "type": "contour"
           }
          ],
          "contourcarpet": [
           {
            "colorbar": {
             "outlinewidth": 0,
             "ticks": ""
            },
            "type": "contourcarpet"
           }
          ],
          "heatmap": [
           {
            "colorbar": {
             "outlinewidth": 0,
             "ticks": ""
            },
            "colorscale": [
             [
              0,
              "#0d0887"
             ],
             [
              0.1111111111111111,
              "#46039f"
             ],
             [
              0.2222222222222222,
              "#7201a8"
             ],
             [
              0.3333333333333333,
              "#9c179e"
             ],
             [
              0.4444444444444444,
              "#bd3786"
             ],
             [
              0.5555555555555556,
              "#d8576b"
             ],
             [
              0.6666666666666666,
              "#ed7953"
             ],
             [
              0.7777777777777778,
              "#fb9f3a"
             ],
             [
              0.8888888888888888,
              "#fdca26"
             ],
             [
              1,
              "#f0f921"
             ]
            ],
            "type": "heatmap"
           }
          ],
          "heatmapgl": [
           {
            "colorbar": {
             "outlinewidth": 0,
             "ticks": ""
            },
            "colorscale": [
             [
              0,
              "#0d0887"
             ],
             [
              0.1111111111111111,
              "#46039f"
             ],
             [
              0.2222222222222222,
              "#7201a8"
             ],
             [
              0.3333333333333333,
              "#9c179e"
             ],
             [
              0.4444444444444444,
              "#bd3786"
             ],
             [
              0.5555555555555556,
              "#d8576b"
             ],
             [
              0.6666666666666666,
              "#ed7953"
             ],
             [
              0.7777777777777778,
              "#fb9f3a"
             ],
             [
              0.8888888888888888,
              "#fdca26"
             ],
             [
              1,
              "#f0f921"
             ]
            ],
            "type": "heatmapgl"
           }
          ],
          "histogram": [
           {
            "marker": {
             "pattern": {
              "fillmode": "overlay",
              "size": 10,
              "solidity": 0.2
             }
            },
            "type": "histogram"
           }
          ],
          "histogram2d": [
           {
            "colorbar": {
             "outlinewidth": 0,
             "ticks": ""
            },
            "colorscale": [
             [
              0,
              "#0d0887"
             ],
             [
              0.1111111111111111,
              "#46039f"
             ],
             [
              0.2222222222222222,
              "#7201a8"
             ],
             [
              0.3333333333333333,
              "#9c179e"
             ],
             [
              0.4444444444444444,
              "#bd3786"
             ],
             [
              0.5555555555555556,
              "#d8576b"
             ],
             [
              0.6666666666666666,
              "#ed7953"
             ],
             [
              0.7777777777777778,
              "#fb9f3a"
             ],
             [
              0.8888888888888888,
              "#fdca26"
             ],
             [
              1,
              "#f0f921"
             ]
            ],
            "type": "histogram2d"
           }
          ],
          "histogram2dcontour": [
           {
            "colorbar": {
             "outlinewidth": 0,
             "ticks": ""
            },
            "colorscale": [
             [
              0,
              "#0d0887"
             ],
             [
              0.1111111111111111,
              "#46039f"
             ],
             [
              0.2222222222222222,
              "#7201a8"
             ],
             [
              0.3333333333333333,
              "#9c179e"
             ],
             [
              0.4444444444444444,
              "#bd3786"
             ],
             [
              0.5555555555555556,
              "#d8576b"
             ],
             [
              0.6666666666666666,
              "#ed7953"
             ],
             [
              0.7777777777777778,
              "#fb9f3a"
             ],
             [
              0.8888888888888888,
              "#fdca26"
             ],
             [
              1,
              "#f0f921"
             ]
            ],
            "type": "histogram2dcontour"
           }
          ],
          "mesh3d": [
           {
            "colorbar": {
             "outlinewidth": 0,
             "ticks": ""
            },
            "type": "mesh3d"
           }
          ],
          "parcoords": [
           {
            "line": {
             "colorbar": {
              "outlinewidth": 0,
              "ticks": ""
             }
            },
            "type": "parcoords"
           }
          ],
          "pie": [
           {
            "automargin": true,
            "type": "pie"
           }
          ],
          "scatter": [
           {
            "fillpattern": {
             "fillmode": "overlay",
             "size": 10,
             "solidity": 0.2
            },
            "type": "scatter"
           }
          ],
          "scatter3d": [
           {
            "line": {
             "colorbar": {
              "outlinewidth": 0,
              "ticks": ""
             }
            },
            "marker": {
             "colorbar": {
              "outlinewidth": 0,
              "ticks": ""
             }
            },
            "type": "scatter3d"
           }
          ],
          "scattercarpet": [
           {
            "marker": {
             "colorbar": {
              "outlinewidth": 0,
              "ticks": ""
             }
            },
            "type": "scattercarpet"
           }
          ],
          "scattergeo": [
           {
            "marker": {
             "colorbar": {
              "outlinewidth": 0,
              "ticks": ""
             }
            },
            "type": "scattergeo"
           }
          ],
          "scattergl": [
           {
            "marker": {
             "colorbar": {
              "outlinewidth": 0,
              "ticks": ""
             }
            },
            "type": "scattergl"
           }
          ],
          "scattermapbox": [
           {
            "marker": {
             "colorbar": {
              "outlinewidth": 0,
              "ticks": ""
             }
            },
            "type": "scattermapbox"
           }
          ],
          "scatterpolar": [
           {
            "marker": {
             "colorbar": {
              "outlinewidth": 0,
              "ticks": ""
             }
            },
            "type": "scatterpolar"
           }
          ],
          "scatterpolargl": [
           {
            "marker": {
             "colorbar": {
              "outlinewidth": 0,
              "ticks": ""
             }
            },
            "type": "scatterpolargl"
           }
          ],
          "scatterternary": [
           {
            "marker": {
             "colorbar": {
              "outlinewidth": 0,
              "ticks": ""
             }
            },
            "type": "scatterternary"
           }
          ],
          "surface": [
           {
            "colorbar": {
             "outlinewidth": 0,
             "ticks": ""
            },
            "colorscale": [
             [
              0,
              "#0d0887"
             ],
             [
              0.1111111111111111,
              "#46039f"
             ],
             [
              0.2222222222222222,
              "#7201a8"
             ],
             [
              0.3333333333333333,
              "#9c179e"
             ],
             [
              0.4444444444444444,
              "#bd3786"
             ],
             [
              0.5555555555555556,
              "#d8576b"
             ],
             [
              0.6666666666666666,
              "#ed7953"
             ],
             [
              0.7777777777777778,
              "#fb9f3a"
             ],
             [
              0.8888888888888888,
              "#fdca26"
             ],
             [
              1,
              "#f0f921"
             ]
            ],
            "type": "surface"
           }
          ],
          "table": [
           {
            "cells": {
             "fill": {
              "color": "#EBF0F8"
             },
             "line": {
              "color": "white"
             }
            },
            "header": {
             "fill": {
              "color": "#C8D4E3"
             },
             "line": {
              "color": "white"
             }
            },
            "type": "table"
           }
          ]
         },
         "layout": {
          "annotationdefaults": {
           "arrowcolor": "#2a3f5f",
           "arrowhead": 0,
           "arrowwidth": 1
          },
          "autotypenumbers": "strict",
          "coloraxis": {
           "colorbar": {
            "outlinewidth": 0,
            "ticks": ""
           }
          },
          "colorscale": {
           "diverging": [
            [
             0,
             "#8e0152"
            ],
            [
             0.1,
             "#c51b7d"
            ],
            [
             0.2,
             "#de77ae"
            ],
            [
             0.3,
             "#f1b6da"
            ],
            [
             0.4,
             "#fde0ef"
            ],
            [
             0.5,
             "#f7f7f7"
            ],
            [
             0.6,
             "#e6f5d0"
            ],
            [
             0.7,
             "#b8e186"
            ],
            [
             0.8,
             "#7fbc41"
            ],
            [
             0.9,
             "#4d9221"
            ],
            [
             1,
             "#276419"
            ]
           ],
           "sequential": [
            [
             0,
             "#0d0887"
            ],
            [
             0.1111111111111111,
             "#46039f"
            ],
            [
             0.2222222222222222,
             "#7201a8"
            ],
            [
             0.3333333333333333,
             "#9c179e"
            ],
            [
             0.4444444444444444,
             "#bd3786"
            ],
            [
             0.5555555555555556,
             "#d8576b"
            ],
            [
             0.6666666666666666,
             "#ed7953"
            ],
            [
             0.7777777777777778,
             "#fb9f3a"
            ],
            [
             0.8888888888888888,
             "#fdca26"
            ],
            [
             1,
             "#f0f921"
            ]
           ],
           "sequentialminus": [
            [
             0,
             "#0d0887"
            ],
            [
             0.1111111111111111,
             "#46039f"
            ],
            [
             0.2222222222222222,
             "#7201a8"
            ],
            [
             0.3333333333333333,
             "#9c179e"
            ],
            [
             0.4444444444444444,
             "#bd3786"
            ],
            [
             0.5555555555555556,
             "#d8576b"
            ],
            [
             0.6666666666666666,
             "#ed7953"
            ],
            [
             0.7777777777777778,
             "#fb9f3a"
            ],
            [
             0.8888888888888888,
             "#fdca26"
            ],
            [
             1,
             "#f0f921"
            ]
           ]
          },
          "colorway": [
           "#636efa",
           "#EF553B",
           "#00cc96",
           "#ab63fa",
           "#FFA15A",
           "#19d3f3",
           "#FF6692",
           "#B6E880",
           "#FF97FF",
           "#FECB52"
          ],
          "font": {
           "color": "#2a3f5f"
          },
          "geo": {
           "bgcolor": "white",
           "lakecolor": "white",
           "landcolor": "#E5ECF6",
           "showlakes": true,
           "showland": true,
           "subunitcolor": "white"
          },
          "hoverlabel": {
           "align": "left"
          },
          "hovermode": "closest",
          "mapbox": {
           "style": "light"
          },
          "paper_bgcolor": "white",
          "plot_bgcolor": "#E5ECF6",
          "polar": {
           "angularaxis": {
            "gridcolor": "white",
            "linecolor": "white",
            "ticks": ""
           },
           "bgcolor": "#E5ECF6",
           "radialaxis": {
            "gridcolor": "white",
            "linecolor": "white",
            "ticks": ""
           }
          },
          "scene": {
           "xaxis": {
            "backgroundcolor": "#E5ECF6",
            "gridcolor": "white",
            "gridwidth": 2,
            "linecolor": "white",
            "showbackground": true,
            "ticks": "",
            "zerolinecolor": "white"
           },
           "yaxis": {
            "backgroundcolor": "#E5ECF6",
            "gridcolor": "white",
            "gridwidth": 2,
            "linecolor": "white",
            "showbackground": true,
            "ticks": "",
            "zerolinecolor": "white"
           },
           "zaxis": {
            "backgroundcolor": "#E5ECF6",
            "gridcolor": "white",
            "gridwidth": 2,
            "linecolor": "white",
            "showbackground": true,
            "ticks": "",
            "zerolinecolor": "white"
           }
          },
          "shapedefaults": {
           "line": {
            "color": "#2a3f5f"
           }
          },
          "ternary": {
           "aaxis": {
            "gridcolor": "white",
            "linecolor": "white",
            "ticks": ""
           },
           "baxis": {
            "gridcolor": "white",
            "linecolor": "white",
            "ticks": ""
           },
           "bgcolor": "#E5ECF6",
           "caxis": {
            "gridcolor": "white",
            "linecolor": "white",
            "ticks": ""
           }
          },
          "title": {
           "x": 0.05
          },
          "xaxis": {
           "automargin": true,
           "gridcolor": "white",
           "linecolor": "white",
           "ticks": "",
           "title": {
            "standoff": 15
           },
           "zerolinecolor": "white",
           "zerolinewidth": 2
          },
          "yaxis": {
           "automargin": true,
           "gridcolor": "white",
           "linecolor": "white",
           "ticks": "",
           "title": {
            "standoff": 15
           },
           "zerolinecolor": "white",
           "zerolinewidth": 2
          }
         }
        },
        "title": {
         "text": "israelis_killed"
        },
        "xaxis": {
         "anchor": "y",
         "categoryarray": [
          2000,
          2001,
          2002,
          2003,
          2004,
          2005,
          2006,
          2007,
          2008,
          2009,
          2010,
          2011,
          2012,
          2013,
          2014,
          2015,
          2016,
          2017,
          2018,
          2019,
          2020,
          2021
         ],
         "categoryorder": "array",
         "domain": [
          0,
          1
         ],
         "title": {
          "text": "year"
         }
        },
        "yaxis": {
         "anchor": "x",
         "domain": [
          0,
          1
         ],
         "title": {
          "text": "israelis_killed"
         }
        }
       }
      }
     },
     "metadata": {},
     "output_type": "display_data"
    }
   ],
   "source": [
    "# Palestinians Killed graph\n",
    "df_palestinians = df[['year', 'palestinians_killed']].copy()\n",
    "graph_palestinians = px.line(df_palestinians, x='year', y='palestinians_killed', color='year',\n",
    "                            title='palestinians_killed')\n",
    "graph_palestinians.show()\n",
    "\n",
    "# Israelis Killed graph\n",
    "df_israelis = df[['year', 'israelis_killed']].copy()\n",
    "graph_israelis = px.line(df_israelis, x='year', y='israelis_killed', color='year',\n",
    "                        title='israelis_killed')\n",
    "graph_israelis.show()"
   ]
  },
  {
   "cell_type": "code",
   "execution_count": 16,
   "metadata": {},
   "outputs": [
    {
     "data": {
      "application/vnd.plotly.v1+json": {
       "config": {
        "plotlyServerURL": "https://plot.ly"
       },
       "data": [
        {
         "customdata": [
          [
           2000
          ],
          [
           2000
          ],
          [
           2000
          ],
          [
           2000
          ],
          [
           2001
          ],
          [
           2001
          ],
          [
           2001
          ],
          [
           2001
          ],
          [
           2001
          ],
          [
           2001
          ],
          [
           2001
          ],
          [
           2001
          ],
          [
           2001
          ],
          [
           2001
          ],
          [
           2001
          ],
          [
           2001
          ],
          [
           2002
          ],
          [
           2002
          ],
          [
           2002
          ],
          [
           2002
          ],
          [
           2002
          ],
          [
           2002
          ],
          [
           2002
          ],
          [
           2002
          ],
          [
           2002
          ],
          [
           2002
          ],
          [
           2002
          ],
          [
           2002
          ],
          [
           2003
          ],
          [
           2003
          ],
          [
           2003
          ],
          [
           2003
          ],
          [
           2003
          ],
          [
           2003
          ],
          [
           2003
          ],
          [
           2003
          ],
          [
           2003
          ],
          [
           2003
          ],
          [
           2003
          ],
          [
           2003
          ],
          [
           2004
          ],
          [
           2004
          ],
          [
           2004
          ],
          [
           2004
          ],
          [
           2004
          ],
          [
           2004
          ],
          [
           2004
          ],
          [
           2004
          ],
          [
           2004
          ],
          [
           2004
          ],
          [
           2004
          ],
          [
           2004
          ],
          [
           2005
          ],
          [
           2005
          ],
          [
           2005
          ],
          [
           2005
          ],
          [
           2005
          ],
          [
           2005
          ],
          [
           2005
          ],
          [
           2005
          ],
          [
           2005
          ],
          [
           2005
          ],
          [
           2005
          ],
          [
           2005
          ],
          [
           2006
          ],
          [
           2006
          ],
          [
           2006
          ],
          [
           2006
          ],
          [
           2006
          ],
          [
           2006
          ],
          [
           2006
          ],
          [
           2006
          ],
          [
           2006
          ],
          [
           2006
          ],
          [
           2006
          ],
          [
           2006
          ],
          [
           2007
          ],
          [
           2007
          ],
          [
           2007
          ],
          [
           2007
          ],
          [
           2007
          ],
          [
           2007
          ],
          [
           2007
          ],
          [
           2007
          ],
          [
           2007
          ],
          [
           2007
          ],
          [
           2007
          ],
          [
           2007
          ],
          [
           2008
          ],
          [
           2008
          ],
          [
           2008
          ],
          [
           2008
          ],
          [
           2008
          ],
          [
           2008
          ],
          [
           2008
          ],
          [
           2008
          ],
          [
           2008
          ],
          [
           2008
          ],
          [
           2008
          ],
          [
           2008
          ],
          [
           2009
          ],
          [
           2009
          ],
          [
           2009
          ],
          [
           2009
          ],
          [
           2009
          ],
          [
           2009
          ],
          [
           2009
          ],
          [
           2009
          ],
          [
           2009
          ],
          [
           2009
          ],
          [
           2009
          ],
          [
           2009
          ],
          [
           2010
          ],
          [
           2010
          ],
          [
           2010
          ],
          [
           2010
          ],
          [
           2010
          ],
          [
           2010
          ],
          [
           2010
          ],
          [
           2010
          ],
          [
           2010
          ],
          [
           2010
          ],
          [
           2010
          ],
          [
           2010
          ],
          [
           2011
          ],
          [
           2011
          ],
          [
           2011
          ],
          [
           2011
          ],
          [
           2011
          ],
          [
           2011
          ],
          [
           2011
          ],
          [
           2011
          ],
          [
           2011
          ],
          [
           2011
          ],
          [
           2011
          ],
          [
           2011
          ],
          [
           2012
          ],
          [
           2012
          ],
          [
           2012
          ],
          [
           2012
          ],
          [
           2012
          ],
          [
           2012
          ],
          [
           2012
          ],
          [
           2012
          ],
          [
           2012
          ],
          [
           2012
          ],
          [
           2012
          ],
          [
           2012
          ],
          [
           2013
          ],
          [
           2013
          ],
          [
           2013
          ],
          [
           2013
          ],
          [
           2013
          ],
          [
           2013
          ],
          [
           2013
          ],
          [
           2013
          ],
          [
           2013
          ],
          [
           2013
          ],
          [
           2013
          ],
          [
           2013
          ],
          [
           2014
          ],
          [
           2014
          ],
          [
           2014
          ],
          [
           2014
          ],
          [
           2014
          ],
          [
           2014
          ],
          [
           2014
          ],
          [
           2014
          ],
          [
           2014
          ],
          [
           2014
          ],
          [
           2014
          ],
          [
           2014
          ],
          [
           2015
          ],
          [
           2015
          ],
          [
           2015
          ],
          [
           2015
          ],
          [
           2015
          ],
          [
           2015
          ],
          [
           2015
          ],
          [
           2015
          ],
          [
           2015
          ],
          [
           2015
          ],
          [
           2015
          ],
          [
           2015
          ],
          [
           2016
          ],
          [
           2016
          ],
          [
           2016
          ],
          [
           2016
          ],
          [
           2016
          ],
          [
           2016
          ],
          [
           2016
          ],
          [
           2016
          ],
          [
           2016
          ],
          [
           2016
          ],
          [
           2016
          ],
          [
           2016
          ],
          [
           2017
          ],
          [
           2017
          ],
          [
           2017
          ],
          [
           2017
          ],
          [
           2017
          ],
          [
           2017
          ],
          [
           2017
          ],
          [
           2017
          ],
          [
           2017
          ],
          [
           2017
          ],
          [
           2017
          ],
          [
           2017
          ],
          [
           2018
          ],
          [
           2018
          ],
          [
           2018
          ],
          [
           2018
          ],
          [
           2018
          ],
          [
           2018
          ],
          [
           2018
          ],
          [
           2018
          ],
          [
           2018
          ],
          [
           2018
          ],
          [
           2018
          ],
          [
           2018
          ],
          [
           2019
          ],
          [
           2019
          ],
          [
           2019
          ],
          [
           2019
          ],
          [
           2019
          ],
          [
           2019
          ],
          [
           2019
          ],
          [
           2019
          ],
          [
           2019
          ],
          [
           2019
          ],
          [
           2019
          ],
          [
           2019
          ],
          [
           2020
          ],
          [
           2020
          ],
          [
           2020
          ],
          [
           2020
          ],
          [
           2020
          ],
          [
           2020
          ],
          [
           2020
          ],
          [
           2020
          ],
          [
           2020
          ],
          [
           2020
          ],
          [
           2020
          ],
          [
           2020
          ],
          [
           2021
          ],
          [
           2021
          ],
          [
           2021
          ],
          [
           2021
          ],
          [
           2021
          ]
         ],
         "domain": {
          "x": [
           0,
           1
          ],
          "y": [
           0,
           1
          ]
         },
         "hole": 0.2,
         "hovertemplate": "year=%{customdata[0]}<br>palestinians_killed=%{value}<extra></extra>",
         "labels": [
          2000,
          2000,
          2000,
          2000,
          2001,
          2001,
          2001,
          2001,
          2001,
          2001,
          2001,
          2001,
          2001,
          2001,
          2001,
          2001,
          2002,
          2002,
          2002,
          2002,
          2002,
          2002,
          2002,
          2002,
          2002,
          2002,
          2002,
          2002,
          2003,
          2003,
          2003,
          2003,
          2003,
          2003,
          2003,
          2003,
          2003,
          2003,
          2003,
          2003,
          2004,
          2004,
          2004,
          2004,
          2004,
          2004,
          2004,
          2004,
          2004,
          2004,
          2004,
          2004,
          2005,
          2005,
          2005,
          2005,
          2005,
          2005,
          2005,
          2005,
          2005,
          2005,
          2005,
          2005,
          2006,
          2006,
          2006,
          2006,
          2006,
          2006,
          2006,
          2006,
          2006,
          2006,
          2006,
          2006,
          2007,
          2007,
          2007,
          2007,
          2007,
          2007,
          2007,
          2007,
          2007,
          2007,
          2007,
          2007,
          2008,
          2008,
          2008,
          2008,
          2008,
          2008,
          2008,
          2008,
          2008,
          2008,
          2008,
          2008,
          2009,
          2009,
          2009,
          2009,
          2009,
          2009,
          2009,
          2009,
          2009,
          2009,
          2009,
          2009,
          2010,
          2010,
          2010,
          2010,
          2010,
          2010,
          2010,
          2010,
          2010,
          2010,
          2010,
          2010,
          2011,
          2011,
          2011,
          2011,
          2011,
          2011,
          2011,
          2011,
          2011,
          2011,
          2011,
          2011,
          2012,
          2012,
          2012,
          2012,
          2012,
          2012,
          2012,
          2012,
          2012,
          2012,
          2012,
          2012,
          2013,
          2013,
          2013,
          2013,
          2013,
          2013,
          2013,
          2013,
          2013,
          2013,
          2013,
          2013,
          2014,
          2014,
          2014,
          2014,
          2014,
          2014,
          2014,
          2014,
          2014,
          2014,
          2014,
          2014,
          2015,
          2015,
          2015,
          2015,
          2015,
          2015,
          2015,
          2015,
          2015,
          2015,
          2015,
          2015,
          2016,
          2016,
          2016,
          2016,
          2016,
          2016,
          2016,
          2016,
          2016,
          2016,
          2016,
          2016,
          2017,
          2017,
          2017,
          2017,
          2017,
          2017,
          2017,
          2017,
          2017,
          2017,
          2017,
          2017,
          2018,
          2018,
          2018,
          2018,
          2018,
          2018,
          2018,
          2018,
          2018,
          2018,
          2018,
          2018,
          2019,
          2019,
          2019,
          2019,
          2019,
          2019,
          2019,
          2019,
          2019,
          2019,
          2019,
          2019,
          2020,
          2020,
          2020,
          2020,
          2020,
          2020,
          2020,
          2020,
          2020,
          2020,
          2020,
          2020,
          2021,
          2021,
          2021,
          2021,
          2021
         ],
         "legendgroup": "",
         "marker": {
          "colors": [
           "#636efa",
           "#636efa",
           "#636efa",
           "#636efa",
           "#EF553B",
           "#EF553B",
           "#EF553B",
           "#EF553B",
           "#EF553B",
           "#EF553B",
           "#EF553B",
           "#EF553B",
           "#EF553B",
           "#EF553B",
           "#EF553B",
           "#EF553B",
           "#00cc96",
           "#00cc96",
           "#00cc96",
           "#00cc96",
           "#00cc96",
           "#00cc96",
           "#00cc96",
           "#00cc96",
           "#00cc96",
           "#00cc96",
           "#00cc96",
           "#00cc96",
           "#ab63fa",
           "#ab63fa",
           "#ab63fa",
           "#ab63fa",
           "#ab63fa",
           "#ab63fa",
           "#ab63fa",
           "#ab63fa",
           "#ab63fa",
           "#ab63fa",
           "#ab63fa",
           "#ab63fa",
           "#FFA15A",
           "#FFA15A",
           "#FFA15A",
           "#FFA15A",
           "#FFA15A",
           "#FFA15A",
           "#FFA15A",
           "#FFA15A",
           "#FFA15A",
           "#FFA15A",
           "#FFA15A",
           "#FFA15A",
           "#19d3f3",
           "#19d3f3",
           "#19d3f3",
           "#19d3f3",
           "#19d3f3",
           "#19d3f3",
           "#19d3f3",
           "#19d3f3",
           "#19d3f3",
           "#19d3f3",
           "#19d3f3",
           "#19d3f3",
           "#FF6692",
           "#FF6692",
           "#FF6692",
           "#FF6692",
           "#FF6692",
           "#FF6692",
           "#FF6692",
           "#FF6692",
           "#FF6692",
           "#FF6692",
           "#FF6692",
           "#FF6692",
           "#B6E880",
           "#B6E880",
           "#B6E880",
           "#B6E880",
           "#B6E880",
           "#B6E880",
           "#B6E880",
           "#B6E880",
           "#B6E880",
           "#B6E880",
           "#B6E880",
           "#B6E880",
           "#FF97FF",
           "#FF97FF",
           "#FF97FF",
           "#FF97FF",
           "#FF97FF",
           "#FF97FF",
           "#FF97FF",
           "#FF97FF",
           "#FF97FF",
           "#FF97FF",
           "#FF97FF",
           "#FF97FF",
           "#FECB52",
           "#FECB52",
           "#FECB52",
           "#FECB52",
           "#FECB52",
           "#FECB52",
           "#FECB52",
           "#FECB52",
           "#FECB52",
           "#FECB52",
           "#FECB52",
           "#FECB52",
           "#636efa",
           "#636efa",
           "#636efa",
           "#636efa",
           "#636efa",
           "#636efa",
           "#636efa",
           "#636efa",
           "#636efa",
           "#636efa",
           "#636efa",
           "#636efa",
           "#EF553B",
           "#EF553B",
           "#EF553B",
           "#EF553B",
           "#EF553B",
           "#EF553B",
           "#EF553B",
           "#EF553B",
           "#EF553B",
           "#EF553B",
           "#EF553B",
           "#EF553B",
           "#00cc96",
           "#00cc96",
           "#00cc96",
           "#00cc96",
           "#00cc96",
           "#00cc96",
           "#00cc96",
           "#00cc96",
           "#00cc96",
           "#00cc96",
           "#00cc96",
           "#00cc96",
           "#ab63fa",
           "#ab63fa",
           "#ab63fa",
           "#ab63fa",
           "#ab63fa",
           "#ab63fa",
           "#ab63fa",
           "#ab63fa",
           "#ab63fa",
           "#ab63fa",
           "#ab63fa",
           "#ab63fa",
           "#FFA15A",
           "#FFA15A",
           "#FFA15A",
           "#FFA15A",
           "#FFA15A",
           "#FFA15A",
           "#FFA15A",
           "#FFA15A",
           "#FFA15A",
           "#FFA15A",
           "#FFA15A",
           "#FFA15A",
           "#19d3f3",
           "#19d3f3",
           "#19d3f3",
           "#19d3f3",
           "#19d3f3",
           "#19d3f3",
           "#19d3f3",
           "#19d3f3",
           "#19d3f3",
           "#19d3f3",
           "#19d3f3",
           "#19d3f3",
           "#FF6692",
           "#FF6692",
           "#FF6692",
           "#FF6692",
           "#FF6692",
           "#FF6692",
           "#FF6692",
           "#FF6692",
           "#FF6692",
           "#FF6692",
           "#FF6692",
           "#FF6692",
           "#B6E880",
           "#B6E880",
           "#B6E880",
           "#B6E880",
           "#B6E880",
           "#B6E880",
           "#B6E880",
           "#B6E880",
           "#B6E880",
           "#B6E880",
           "#B6E880",
           "#B6E880",
           "#FF97FF",
           "#FF97FF",
           "#FF97FF",
           "#FF97FF",
           "#FF97FF",
           "#FF97FF",
           "#FF97FF",
           "#FF97FF",
           "#FF97FF",
           "#FF97FF",
           "#FF97FF",
           "#FF97FF",
           "#FECB52",
           "#FECB52",
           "#FECB52",
           "#FECB52",
           "#FECB52",
           "#FECB52",
           "#FECB52",
           "#FECB52",
           "#FECB52",
           "#FECB52",
           "#FECB52",
           "#FECB52",
           "#636efa",
           "#636efa",
           "#636efa",
           "#636efa",
           "#636efa",
           "#636efa",
           "#636efa",
           "#636efa",
           "#636efa",
           "#636efa",
           "#636efa",
           "#636efa",
           "#EF553B",
           "#EF553B",
           "#EF553B",
           "#EF553B",
           "#EF553B"
          ]
         },
         "name": "",
         "showlegend": true,
         "type": "pie",
         "values": [
          51,
          112,
          104,
          16,
          67,
          39,
          89,
          59,
          37,
          32,
          13,
          46,
          23,
          27,
          19,
          19,
          72,
          46,
          66,
          51,
          53,
          43,
          57,
          48,
          246,
          237,
          85,
          28,
          48,
          30,
          58,
          29,
          26,
          4,
          59,
          61,
          59,
          85,
          69,
          60,
          61,
          42,
          145,
          112,
          39,
          0,
          59,
          113,
          55,
          79,
          54,
          27,
          20,
          15,
          22,
          17,
          11,
          25,
          5,
          10,
          5,
          1,
          9,
          50,
          14,
          134,
          61,
          32,
          74,
          180,
          43,
          37,
          31,
          15,
          31,
          13,
          61,
          31,
          36,
          34,
          47,
          27,
          40,
          62,
          16,
          9,
          12,
          10,
          432,
          15,
          4,
          3,
          0,
          8,
          30,
          40,
          72,
          114,
          79,
          89,
          6,
          1,
          0,
          9,
          6,
          2,
          4,
          6,
          6,
          9,
          9,
          978,
          13,
          3,
          6,
          13,
          2,
          5,
          15,
          2,
          5,
          8,
          2,
          8,
          8,
          4,
          12,
          2,
          30,
          4,
          0,
          2,
          24,
          15,
          6,
          10,
          2,
          181,
          12,
          8,
          1,
          3,
          15,
          0,
          1,
          28,
          2,
          2,
          5,
          9,
          4,
          2,
          6,
          1,
          0,
          0,
          3,
          2,
          1,
          5,
          5,
          8,
          8,
          20,
          614,
          1590,
          10,
          3,
          0,
          12,
          3,
          6,
          40,
          34,
          74,
          4,
          9,
          7,
          3,
          1,
          7,
          1,
          4,
          4,
          5,
          6,
          8,
          11,
          3,
          9,
          7,
          3,
          3,
          23,
          17,
          20,
          18,
          2,
          13,
          2,
          2,
          20,
          8,
          6,
          5,
          7,
          6,
          7,
          14,
          25,
          32,
          25,
          16,
          24,
          18,
          66,
          34,
          20,
          9,
          7,
          1,
          43,
          3,
          5,
          11,
          4,
          3,
          33,
          8,
          21,
          8,
          9,
          2,
          2,
          2,
          1,
          3,
          1,
          1,
          4,
          1,
          2,
          9,
          6,
          4,
          1,
          4,
          1,
          26
         ]
        }
       ],
       "layout": {
        "height": 600,
        "legend": {
         "tracegroupgap": 0
        },
        "margin": {
         "t": 60
        },
        "template": {
         "data": {
          "bar": [
           {
            "error_x": {
             "color": "#2a3f5f"
            },
            "error_y": {
             "color": "#2a3f5f"
            },
            "marker": {
             "line": {
              "color": "#E5ECF6",
              "width": 0.5
             },
             "pattern": {
              "fillmode": "overlay",
              "size": 10,
              "solidity": 0.2
             }
            },
            "type": "bar"
           }
          ],
          "barpolar": [
           {
            "marker": {
             "line": {
              "color": "#E5ECF6",
              "width": 0.5
             },
             "pattern": {
              "fillmode": "overlay",
              "size": 10,
              "solidity": 0.2
             }
            },
            "type": "barpolar"
           }
          ],
          "carpet": [
           {
            "aaxis": {
             "endlinecolor": "#2a3f5f",
             "gridcolor": "white",
             "linecolor": "white",
             "minorgridcolor": "white",
             "startlinecolor": "#2a3f5f"
            },
            "baxis": {
             "endlinecolor": "#2a3f5f",
             "gridcolor": "white",
             "linecolor": "white",
             "minorgridcolor": "white",
             "startlinecolor": "#2a3f5f"
            },
            "type": "carpet"
           }
          ],
          "choropleth": [
           {
            "colorbar": {
             "outlinewidth": 0,
             "ticks": ""
            },
            "type": "choropleth"
           }
          ],
          "contour": [
           {
            "colorbar": {
             "outlinewidth": 0,
             "ticks": ""
            },
            "colorscale": [
             [
              0,
              "#0d0887"
             ],
             [
              0.1111111111111111,
              "#46039f"
             ],
             [
              0.2222222222222222,
              "#7201a8"
             ],
             [
              0.3333333333333333,
              "#9c179e"
             ],
             [
              0.4444444444444444,
              "#bd3786"
             ],
             [
              0.5555555555555556,
              "#d8576b"
             ],
             [
              0.6666666666666666,
              "#ed7953"
             ],
             [
              0.7777777777777778,
              "#fb9f3a"
             ],
             [
              0.8888888888888888,
              "#fdca26"
             ],
             [
              1,
              "#f0f921"
             ]
            ],
            "type": "contour"
           }
          ],
          "contourcarpet": [
           {
            "colorbar": {
             "outlinewidth": 0,
             "ticks": ""
            },
            "type": "contourcarpet"
           }
          ],
          "heatmap": [
           {
            "colorbar": {
             "outlinewidth": 0,
             "ticks": ""
            },
            "colorscale": [
             [
              0,
              "#0d0887"
             ],
             [
              0.1111111111111111,
              "#46039f"
             ],
             [
              0.2222222222222222,
              "#7201a8"
             ],
             [
              0.3333333333333333,
              "#9c179e"
             ],
             [
              0.4444444444444444,
              "#bd3786"
             ],
             [
              0.5555555555555556,
              "#d8576b"
             ],
             [
              0.6666666666666666,
              "#ed7953"
             ],
             [
              0.7777777777777778,
              "#fb9f3a"
             ],
             [
              0.8888888888888888,
              "#fdca26"
             ],
             [
              1,
              "#f0f921"
             ]
            ],
            "type": "heatmap"
           }
          ],
          "heatmapgl": [
           {
            "colorbar": {
             "outlinewidth": 0,
             "ticks": ""
            },
            "colorscale": [
             [
              0,
              "#0d0887"
             ],
             [
              0.1111111111111111,
              "#46039f"
             ],
             [
              0.2222222222222222,
              "#7201a8"
             ],
             [
              0.3333333333333333,
              "#9c179e"
             ],
             [
              0.4444444444444444,
              "#bd3786"
             ],
             [
              0.5555555555555556,
              "#d8576b"
             ],
             [
              0.6666666666666666,
              "#ed7953"
             ],
             [
              0.7777777777777778,
              "#fb9f3a"
             ],
             [
              0.8888888888888888,
              "#fdca26"
             ],
             [
              1,
              "#f0f921"
             ]
            ],
            "type": "heatmapgl"
           }
          ],
          "histogram": [
           {
            "marker": {
             "pattern": {
              "fillmode": "overlay",
              "size": 10,
              "solidity": 0.2
             }
            },
            "type": "histogram"
           }
          ],
          "histogram2d": [
           {
            "colorbar": {
             "outlinewidth": 0,
             "ticks": ""
            },
            "colorscale": [
             [
              0,
              "#0d0887"
             ],
             [
              0.1111111111111111,
              "#46039f"
             ],
             [
              0.2222222222222222,
              "#7201a8"
             ],
             [
              0.3333333333333333,
              "#9c179e"
             ],
             [
              0.4444444444444444,
              "#bd3786"
             ],
             [
              0.5555555555555556,
              "#d8576b"
             ],
             [
              0.6666666666666666,
              "#ed7953"
             ],
             [
              0.7777777777777778,
              "#fb9f3a"
             ],
             [
              0.8888888888888888,
              "#fdca26"
             ],
             [
              1,
              "#f0f921"
             ]
            ],
            "type": "histogram2d"
           }
          ],
          "histogram2dcontour": [
           {
            "colorbar": {
             "outlinewidth": 0,
             "ticks": ""
            },
            "colorscale": [
             [
              0,
              "#0d0887"
             ],
             [
              0.1111111111111111,
              "#46039f"
             ],
             [
              0.2222222222222222,
              "#7201a8"
             ],
             [
              0.3333333333333333,
              "#9c179e"
             ],
             [
              0.4444444444444444,
              "#bd3786"
             ],
             [
              0.5555555555555556,
              "#d8576b"
             ],
             [
              0.6666666666666666,
              "#ed7953"
             ],
             [
              0.7777777777777778,
              "#fb9f3a"
             ],
             [
              0.8888888888888888,
              "#fdca26"
             ],
             [
              1,
              "#f0f921"
             ]
            ],
            "type": "histogram2dcontour"
           }
          ],
          "mesh3d": [
           {
            "colorbar": {
             "outlinewidth": 0,
             "ticks": ""
            },
            "type": "mesh3d"
           }
          ],
          "parcoords": [
           {
            "line": {
             "colorbar": {
              "outlinewidth": 0,
              "ticks": ""
             }
            },
            "type": "parcoords"
           }
          ],
          "pie": [
           {
            "automargin": true,
            "type": "pie"
           }
          ],
          "scatter": [
           {
            "fillpattern": {
             "fillmode": "overlay",
             "size": 10,
             "solidity": 0.2
            },
            "type": "scatter"
           }
          ],
          "scatter3d": [
           {
            "line": {
             "colorbar": {
              "outlinewidth": 0,
              "ticks": ""
             }
            },
            "marker": {
             "colorbar": {
              "outlinewidth": 0,
              "ticks": ""
             }
            },
            "type": "scatter3d"
           }
          ],
          "scattercarpet": [
           {
            "marker": {
             "colorbar": {
              "outlinewidth": 0,
              "ticks": ""
             }
            },
            "type": "scattercarpet"
           }
          ],
          "scattergeo": [
           {
            "marker": {
             "colorbar": {
              "outlinewidth": 0,
              "ticks": ""
             }
            },
            "type": "scattergeo"
           }
          ],
          "scattergl": [
           {
            "marker": {
             "colorbar": {
              "outlinewidth": 0,
              "ticks": ""
             }
            },
            "type": "scattergl"
           }
          ],
          "scattermapbox": [
           {
            "marker": {
             "colorbar": {
              "outlinewidth": 0,
              "ticks": ""
             }
            },
            "type": "scattermapbox"
           }
          ],
          "scatterpolar": [
           {
            "marker": {
             "colorbar": {
              "outlinewidth": 0,
              "ticks": ""
             }
            },
            "type": "scatterpolar"
           }
          ],
          "scatterpolargl": [
           {
            "marker": {
             "colorbar": {
              "outlinewidth": 0,
              "ticks": ""
             }
            },
            "type": "scatterpolargl"
           }
          ],
          "scatterternary": [
           {
            "marker": {
             "colorbar": {
              "outlinewidth": 0,
              "ticks": ""
             }
            },
            "type": "scatterternary"
           }
          ],
          "surface": [
           {
            "colorbar": {
             "outlinewidth": 0,
             "ticks": ""
            },
            "colorscale": [
             [
              0,
              "#0d0887"
             ],
             [
              0.1111111111111111,
              "#46039f"
             ],
             [
              0.2222222222222222,
              "#7201a8"
             ],
             [
              0.3333333333333333,
              "#9c179e"
             ],
             [
              0.4444444444444444,
              "#bd3786"
             ],
             [
              0.5555555555555556,
              "#d8576b"
             ],
             [
              0.6666666666666666,
              "#ed7953"
             ],
             [
              0.7777777777777778,
              "#fb9f3a"
             ],
             [
              0.8888888888888888,
              "#fdca26"
             ],
             [
              1,
              "#f0f921"
             ]
            ],
            "type": "surface"
           }
          ],
          "table": [
           {
            "cells": {
             "fill": {
              "color": "#EBF0F8"
             },
             "line": {
              "color": "white"
             }
            },
            "header": {
             "fill": {
              "color": "#C8D4E3"
             },
             "line": {
              "color": "white"
             }
            },
            "type": "table"
           }
          ]
         },
         "layout": {
          "annotationdefaults": {
           "arrowcolor": "#2a3f5f",
           "arrowhead": 0,
           "arrowwidth": 1
          },
          "autotypenumbers": "strict",
          "coloraxis": {
           "colorbar": {
            "outlinewidth": 0,
            "ticks": ""
           }
          },
          "colorscale": {
           "diverging": [
            [
             0,
             "#8e0152"
            ],
            [
             0.1,
             "#c51b7d"
            ],
            [
             0.2,
             "#de77ae"
            ],
            [
             0.3,
             "#f1b6da"
            ],
            [
             0.4,
             "#fde0ef"
            ],
            [
             0.5,
             "#f7f7f7"
            ],
            [
             0.6,
             "#e6f5d0"
            ],
            [
             0.7,
             "#b8e186"
            ],
            [
             0.8,
             "#7fbc41"
            ],
            [
             0.9,
             "#4d9221"
            ],
            [
             1,
             "#276419"
            ]
           ],
           "sequential": [
            [
             0,
             "#0d0887"
            ],
            [
             0.1111111111111111,
             "#46039f"
            ],
            [
             0.2222222222222222,
             "#7201a8"
            ],
            [
             0.3333333333333333,
             "#9c179e"
            ],
            [
             0.4444444444444444,
             "#bd3786"
            ],
            [
             0.5555555555555556,
             "#d8576b"
            ],
            [
             0.6666666666666666,
             "#ed7953"
            ],
            [
             0.7777777777777778,
             "#fb9f3a"
            ],
            [
             0.8888888888888888,
             "#fdca26"
            ],
            [
             1,
             "#f0f921"
            ]
           ],
           "sequentialminus": [
            [
             0,
             "#0d0887"
            ],
            [
             0.1111111111111111,
             "#46039f"
            ],
            [
             0.2222222222222222,
             "#7201a8"
            ],
            [
             0.3333333333333333,
             "#9c179e"
            ],
            [
             0.4444444444444444,
             "#bd3786"
            ],
            [
             0.5555555555555556,
             "#d8576b"
            ],
            [
             0.6666666666666666,
             "#ed7953"
            ],
            [
             0.7777777777777778,
             "#fb9f3a"
            ],
            [
             0.8888888888888888,
             "#fdca26"
            ],
            [
             1,
             "#f0f921"
            ]
           ]
          },
          "colorway": [
           "#636efa",
           "#EF553B",
           "#00cc96",
           "#ab63fa",
           "#FFA15A",
           "#19d3f3",
           "#FF6692",
           "#B6E880",
           "#FF97FF",
           "#FECB52"
          ],
          "font": {
           "color": "#2a3f5f"
          },
          "geo": {
           "bgcolor": "white",
           "lakecolor": "white",
           "landcolor": "#E5ECF6",
           "showlakes": true,
           "showland": true,
           "subunitcolor": "white"
          },
          "hoverlabel": {
           "align": "left"
          },
          "hovermode": "closest",
          "mapbox": {
           "style": "light"
          },
          "paper_bgcolor": "white",
          "plot_bgcolor": "#E5ECF6",
          "polar": {
           "angularaxis": {
            "gridcolor": "white",
            "linecolor": "white",
            "ticks": ""
           },
           "bgcolor": "#E5ECF6",
           "radialaxis": {
            "gridcolor": "white",
            "linecolor": "white",
            "ticks": ""
           }
          },
          "scene": {
           "xaxis": {
            "backgroundcolor": "#E5ECF6",
            "gridcolor": "white",
            "gridwidth": 2,
            "linecolor": "white",
            "showbackground": true,
            "ticks": "",
            "zerolinecolor": "white"
           },
           "yaxis": {
            "backgroundcolor": "#E5ECF6",
            "gridcolor": "white",
            "gridwidth": 2,
            "linecolor": "white",
            "showbackground": true,
            "ticks": "",
            "zerolinecolor": "white"
           },
           "zaxis": {
            "backgroundcolor": "#E5ECF6",
            "gridcolor": "white",
            "gridwidth": 2,
            "linecolor": "white",
            "showbackground": true,
            "ticks": "",
            "zerolinecolor": "white"
           }
          },
          "shapedefaults": {
           "line": {
            "color": "#2a3f5f"
           }
          },
          "ternary": {
           "aaxis": {
            "gridcolor": "white",
            "linecolor": "white",
            "ticks": ""
           },
           "baxis": {
            "gridcolor": "white",
            "linecolor": "white",
            "ticks": ""
           },
           "bgcolor": "#E5ECF6",
           "caxis": {
            "gridcolor": "white",
            "linecolor": "white",
            "ticks": ""
           }
          },
          "title": {
           "x": 0.05
          },
          "xaxis": {
           "automargin": true,
           "gridcolor": "white",
           "linecolor": "white",
           "ticks": "",
           "title": {
            "standoff": 15
           },
           "zerolinecolor": "white",
           "zerolinewidth": 2
          },
          "yaxis": {
           "automargin": true,
           "gridcolor": "white",
           "linecolor": "white",
           "ticks": "",
           "title": {
            "standoff": 15
           },
           "zerolinecolor": "white",
           "zerolinewidth": 2
          }
         }
        },
        "title": {
         "font": {
          "family": "Serif",
          "size": 24
         },
         "text": "<b>Palestinians Killed By Year<b>"
        },
        "width": 800
       }
      }
     },
     "metadata": {},
     "output_type": "display_data"
    }
   ],
   "source": [
    "sel = df[['palestinians_killed','year']]\n",
    "\n",
    "fig=px.pie(data_frame=sel,values='palestinians_killed',color='year',names='year',labels='year',\n",
    "            width=800,height=600,hole=0.2)\n",
    "fig.update_layout(title=\"<b>Palestinians Killed By Year<b>\", titlefont={'size':24, 'family':'Serif'})\n",
    "fig.show()"
   ]
  },
  {
   "cell_type": "code",
   "execution_count": 17,
   "metadata": {},
   "outputs": [
    {
     "data": {
      "application/vnd.plotly.v1+json": {
       "config": {
        "plotlyServerURL": "https://plot.ly"
       },
       "data": [
        {
         "alignmentgroup": "True",
         "hovertemplate": "year=%{x}<br>palestinians_killed=%{marker.color}<extra></extra>",
         "ids": [
          51,
          112,
          104,
          16
         ],
         "legendgroup": "",
         "marker": {
          "color": [
           51,
           112,
           104,
           16
          ],
          "coloraxis": "coloraxis",
          "pattern": {
           "shape": ""
          }
         },
         "name": "",
         "offsetgroup": "",
         "orientation": "v",
         "showlegend": false,
         "textposition": "auto",
         "type": "bar",
         "x": [
          2000,
          2000,
          2000,
          2000
         ],
         "xaxis": "x",
         "y": [
          51,
          112,
          104,
          16
         ],
         "yaxis": "y"
        }
       ],
       "frames": [
        {
         "data": [
          {
           "alignmentgroup": "True",
           "hovertemplate": "year=%{x}<br>palestinians_killed=%{marker.color}<extra></extra>",
           "ids": [
            51,
            112,
            104,
            16
           ],
           "legendgroup": "",
           "marker": {
            "color": [
             51,
             112,
             104,
             16
            ],
            "coloraxis": "coloraxis",
            "pattern": {
             "shape": ""
            }
           },
           "name": "",
           "offsetgroup": "",
           "orientation": "v",
           "showlegend": false,
           "textposition": "auto",
           "type": "bar",
           "x": [
            2000,
            2000,
            2000,
            2000
           ],
           "xaxis": "x",
           "y": [
            51,
            112,
            104,
            16
           ],
           "yaxis": "y"
          }
         ],
         "name": "2000"
        },
        {
         "data": [
          {
           "alignmentgroup": "True",
           "hovertemplate": "year=%{x}<br>palestinians_killed=%{marker.color}<extra></extra>",
           "ids": [
            67,
            39,
            89,
            59,
            37,
            32,
            13,
            46,
            23,
            27,
            19,
            19
           ],
           "legendgroup": "",
           "marker": {
            "color": [
             67,
             39,
             89,
             59,
             37,
             32,
             13,
             46,
             23,
             27,
             19,
             19
            ],
            "coloraxis": "coloraxis",
            "pattern": {
             "shape": ""
            }
           },
           "name": "",
           "offsetgroup": "",
           "orientation": "v",
           "showlegend": false,
           "textposition": "auto",
           "type": "bar",
           "x": [
            2001,
            2001,
            2001,
            2001,
            2001,
            2001,
            2001,
            2001,
            2001,
            2001,
            2001,
            2001
           ],
           "xaxis": "x",
           "y": [
            67,
            39,
            89,
            59,
            37,
            32,
            13,
            46,
            23,
            27,
            19,
            19
           ],
           "yaxis": "y"
          }
         ],
         "name": "2001"
        },
        {
         "data": [
          {
           "alignmentgroup": "True",
           "hovertemplate": "year=%{x}<br>palestinians_killed=%{marker.color}<extra></extra>",
           "ids": [
            72,
            46,
            66,
            51,
            53,
            43,
            57,
            48,
            246,
            237,
            85,
            28
           ],
           "legendgroup": "",
           "marker": {
            "color": [
             72,
             46,
             66,
             51,
             53,
             43,
             57,
             48,
             246,
             237,
             85,
             28
            ],
            "coloraxis": "coloraxis",
            "pattern": {
             "shape": ""
            }
           },
           "name": "",
           "offsetgroup": "",
           "orientation": "v",
           "showlegend": false,
           "textposition": "auto",
           "type": "bar",
           "x": [
            2002,
            2002,
            2002,
            2002,
            2002,
            2002,
            2002,
            2002,
            2002,
            2002,
            2002,
            2002
           ],
           "xaxis": "x",
           "y": [
            72,
            46,
            66,
            51,
            53,
            43,
            57,
            48,
            246,
            237,
            85,
            28
           ],
           "yaxis": "y"
          }
         ],
         "name": "2002"
        },
        {
         "data": [
          {
           "alignmentgroup": "True",
           "hovertemplate": "year=%{x}<br>palestinians_killed=%{marker.color}<extra></extra>",
           "ids": [
            48,
            30,
            58,
            29,
            26,
            4,
            59,
            61,
            59,
            85,
            69,
            60
           ],
           "legendgroup": "",
           "marker": {
            "color": [
             48,
             30,
             58,
             29,
             26,
             4,
             59,
             61,
             59,
             85,
             69,
             60
            ],
            "coloraxis": "coloraxis",
            "pattern": {
             "shape": ""
            }
           },
           "name": "",
           "offsetgroup": "",
           "orientation": "v",
           "showlegend": false,
           "textposition": "auto",
           "type": "bar",
           "x": [
            2003,
            2003,
            2003,
            2003,
            2003,
            2003,
            2003,
            2003,
            2003,
            2003,
            2003,
            2003
           ],
           "xaxis": "x",
           "y": [
            48,
            30,
            58,
            29,
            26,
            4,
            59,
            61,
            59,
            85,
            69,
            60
           ],
           "yaxis": "y"
          }
         ],
         "name": "2003"
        },
        {
         "data": [
          {
           "alignmentgroup": "True",
           "hovertemplate": "year=%{x}<br>palestinians_killed=%{marker.color}<extra></extra>",
           "ids": [
            61,
            42,
            145,
            112,
            39,
            0,
            59,
            113,
            55,
            79,
            54,
            27
           ],
           "legendgroup": "",
           "marker": {
            "color": [
             61,
             42,
             145,
             112,
             39,
             0,
             59,
             113,
             55,
             79,
             54,
             27
            ],
            "coloraxis": "coloraxis",
            "pattern": {
             "shape": ""
            }
           },
           "name": "",
           "offsetgroup": "",
           "orientation": "v",
           "showlegend": false,
           "textposition": "auto",
           "type": "bar",
           "x": [
            2004,
            2004,
            2004,
            2004,
            2004,
            2004,
            2004,
            2004,
            2004,
            2004,
            2004,
            2004
           ],
           "xaxis": "x",
           "y": [
            61,
            42,
            145,
            112,
            39,
            0,
            59,
            113,
            55,
            79,
            54,
            27
           ],
           "yaxis": "y"
          }
         ],
         "name": "2004"
        },
        {
         "data": [
          {
           "alignmentgroup": "True",
           "hovertemplate": "year=%{x}<br>palestinians_killed=%{marker.color}<extra></extra>",
           "ids": [
            20,
            15,
            22,
            17,
            11,
            25,
            5,
            10,
            5,
            1,
            9,
            50
           ],
           "legendgroup": "",
           "marker": {
            "color": [
             20,
             15,
             22,
             17,
             11,
             25,
             5,
             10,
             5,
             1,
             9,
             50
            ],
            "coloraxis": "coloraxis",
            "pattern": {
             "shape": ""
            }
           },
           "name": "",
           "offsetgroup": "",
           "orientation": "v",
           "showlegend": false,
           "textposition": "auto",
           "type": "bar",
           "x": [
            2005,
            2005,
            2005,
            2005,
            2005,
            2005,
            2005,
            2005,
            2005,
            2005,
            2005,
            2005
           ],
           "xaxis": "x",
           "y": [
            20,
            15,
            22,
            17,
            11,
            25,
            5,
            10,
            5,
            1,
            9,
            50
           ],
           "yaxis": "y"
          }
         ],
         "name": "2005"
        },
        {
         "data": [
          {
           "alignmentgroup": "True",
           "hovertemplate": "year=%{x}<br>palestinians_killed=%{marker.color}<extra></extra>",
           "ids": [
            14,
            134,
            61,
            32,
            74,
            180,
            43,
            37,
            31,
            15,
            31,
            13
           ],
           "legendgroup": "",
           "marker": {
            "color": [
             14,
             134,
             61,
             32,
             74,
             180,
             43,
             37,
             31,
             15,
             31,
             13
            ],
            "coloraxis": "coloraxis",
            "pattern": {
             "shape": ""
            }
           },
           "name": "",
           "offsetgroup": "",
           "orientation": "v",
           "showlegend": false,
           "textposition": "auto",
           "type": "bar",
           "x": [
            2006,
            2006,
            2006,
            2006,
            2006,
            2006,
            2006,
            2006,
            2006,
            2006,
            2006,
            2006
           ],
           "xaxis": "x",
           "y": [
            14,
            134,
            61,
            32,
            74,
            180,
            43,
            37,
            31,
            15,
            31,
            13
           ],
           "yaxis": "y"
          }
         ],
         "name": "2006"
        },
        {
         "data": [
          {
           "alignmentgroup": "True",
           "hovertemplate": "year=%{x}<br>palestinians_killed=%{marker.color}<extra></extra>",
           "ids": [
            61,
            31,
            36,
            34,
            47,
            27,
            40,
            62,
            16,
            9,
            12,
            10
           ],
           "legendgroup": "",
           "marker": {
            "color": [
             61,
             31,
             36,
             34,
             47,
             27,
             40,
             62,
             16,
             9,
             12,
             10
            ],
            "coloraxis": "coloraxis",
            "pattern": {
             "shape": ""
            }
           },
           "name": "",
           "offsetgroup": "",
           "orientation": "v",
           "showlegend": false,
           "textposition": "auto",
           "type": "bar",
           "x": [
            2007,
            2007,
            2007,
            2007,
            2007,
            2007,
            2007,
            2007,
            2007,
            2007,
            2007,
            2007
           ],
           "xaxis": "x",
           "y": [
            61,
            31,
            36,
            34,
            47,
            27,
            40,
            62,
            16,
            9,
            12,
            10
           ],
           "yaxis": "y"
          }
         ],
         "name": "2007"
        },
        {
         "data": [
          {
           "alignmentgroup": "True",
           "hovertemplate": "year=%{x}<br>palestinians_killed=%{marker.color}<extra></extra>",
           "ids": [
            432,
            15,
            4,
            3,
            0,
            8,
            30,
            40,
            72,
            114,
            79,
            89
           ],
           "legendgroup": "",
           "marker": {
            "color": [
             432,
             15,
             4,
             3,
             0,
             8,
             30,
             40,
             72,
             114,
             79,
             89
            ],
            "coloraxis": "coloraxis",
            "pattern": {
             "shape": ""
            }
           },
           "name": "",
           "offsetgroup": "",
           "orientation": "v",
           "showlegend": false,
           "textposition": "auto",
           "type": "bar",
           "x": [
            2008,
            2008,
            2008,
            2008,
            2008,
            2008,
            2008,
            2008,
            2008,
            2008,
            2008,
            2008
           ],
           "xaxis": "x",
           "y": [
            432,
            15,
            4,
            3,
            0,
            8,
            30,
            40,
            72,
            114,
            79,
            89
           ],
           "yaxis": "y"
          }
         ],
         "name": "2008"
        },
        {
         "data": [
          {
           "alignmentgroup": "True",
           "hovertemplate": "year=%{x}<br>palestinians_killed=%{marker.color}<extra></extra>",
           "ids": [
            6,
            1,
            0,
            9,
            6,
            2,
            4,
            6,
            6,
            9,
            9,
            978
           ],
           "legendgroup": "",
           "marker": {
            "color": [
             6,
             1,
             0,
             9,
             6,
             2,
             4,
             6,
             6,
             9,
             9,
             978
            ],
            "coloraxis": "coloraxis",
            "pattern": {
             "shape": ""
            }
           },
           "name": "",
           "offsetgroup": "",
           "orientation": "v",
           "showlegend": false,
           "textposition": "auto",
           "type": "bar",
           "x": [
            2009,
            2009,
            2009,
            2009,
            2009,
            2009,
            2009,
            2009,
            2009,
            2009,
            2009,
            2009
           ],
           "xaxis": "x",
           "y": [
            6,
            1,
            0,
            9,
            6,
            2,
            4,
            6,
            6,
            9,
            9,
            978
           ],
           "yaxis": "y"
          }
         ],
         "name": "2009"
        },
        {
         "data": [
          {
           "alignmentgroup": "True",
           "hovertemplate": "year=%{x}<br>palestinians_killed=%{marker.color}<extra></extra>",
           "ids": [
            13,
            3,
            6,
            13,
            2,
            5,
            15,
            2,
            5,
            8,
            2,
            8
           ],
           "legendgroup": "",
           "marker": {
            "color": [
             13,
             3,
             6,
             13,
             2,
             5,
             15,
             2,
             5,
             8,
             2,
             8
            ],
            "coloraxis": "coloraxis",
            "pattern": {
             "shape": ""
            }
           },
           "name": "",
           "offsetgroup": "",
           "orientation": "v",
           "showlegend": false,
           "textposition": "auto",
           "type": "bar",
           "x": [
            2010,
            2010,
            2010,
            2010,
            2010,
            2010,
            2010,
            2010,
            2010,
            2010,
            2010,
            2010
           ],
           "xaxis": "x",
           "y": [
            13,
            3,
            6,
            13,
            2,
            5,
            15,
            2,
            5,
            8,
            2,
            8
           ],
           "yaxis": "y"
          }
         ],
         "name": "2010"
        },
        {
         "data": [
          {
           "alignmentgroup": "True",
           "hovertemplate": "year=%{x}<br>palestinians_killed=%{marker.color}<extra></extra>",
           "ids": [
            8,
            4,
            12,
            2,
            30,
            4,
            0,
            2,
            24,
            15,
            6,
            10
           ],
           "legendgroup": "",
           "marker": {
            "color": [
             8,
             4,
             12,
             2,
             30,
             4,
             0,
             2,
             24,
             15,
             6,
             10
            ],
            "coloraxis": "coloraxis",
            "pattern": {
             "shape": ""
            }
           },
           "name": "",
           "offsetgroup": "",
           "orientation": "v",
           "showlegend": false,
           "textposition": "auto",
           "type": "bar",
           "x": [
            2011,
            2011,
            2011,
            2011,
            2011,
            2011,
            2011,
            2011,
            2011,
            2011,
            2011,
            2011
           ],
           "xaxis": "x",
           "y": [
            8,
            4,
            12,
            2,
            30,
            4,
            0,
            2,
            24,
            15,
            6,
            10
           ],
           "yaxis": "y"
          }
         ],
         "name": "2011"
        },
        {
         "data": [
          {
           "alignmentgroup": "True",
           "hovertemplate": "year=%{x}<br>palestinians_killed=%{marker.color}<extra></extra>",
           "ids": [
            2,
            181,
            12,
            8,
            1,
            3,
            15,
            0,
            1,
            28,
            2,
            2
           ],
           "legendgroup": "",
           "marker": {
            "color": [
             2,
             181,
             12,
             8,
             1,
             3,
             15,
             0,
             1,
             28,
             2,
             2
            ],
            "coloraxis": "coloraxis",
            "pattern": {
             "shape": ""
            }
           },
           "name": "",
           "offsetgroup": "",
           "orientation": "v",
           "showlegend": false,
           "textposition": "auto",
           "type": "bar",
           "x": [
            2012,
            2012,
            2012,
            2012,
            2012,
            2012,
            2012,
            2012,
            2012,
            2012,
            2012,
            2012
           ],
           "xaxis": "x",
           "y": [
            2,
            181,
            12,
            8,
            1,
            3,
            15,
            0,
            1,
            28,
            2,
            2
           ],
           "yaxis": "y"
          }
         ],
         "name": "2012"
        },
        {
         "data": [
          {
           "alignmentgroup": "True",
           "hovertemplate": "year=%{x}<br>palestinians_killed=%{marker.color}<extra></extra>",
           "ids": [
            5,
            9,
            4,
            2,
            6,
            1,
            0,
            0,
            3,
            2,
            1,
            5
           ],
           "legendgroup": "",
           "marker": {
            "color": [
             5,
             9,
             4,
             2,
             6,
             1,
             0,
             0,
             3,
             2,
             1,
             5
            ],
            "coloraxis": "coloraxis",
            "pattern": {
             "shape": ""
            }
           },
           "name": "",
           "offsetgroup": "",
           "orientation": "v",
           "showlegend": false,
           "textposition": "auto",
           "type": "bar",
           "x": [
            2013,
            2013,
            2013,
            2013,
            2013,
            2013,
            2013,
            2013,
            2013,
            2013,
            2013,
            2013
           ],
           "xaxis": "x",
           "y": [
            5,
            9,
            4,
            2,
            6,
            1,
            0,
            0,
            3,
            2,
            1,
            5
           ],
           "yaxis": "y"
          }
         ],
         "name": "2013"
        },
        {
         "data": [
          {
           "alignmentgroup": "True",
           "hovertemplate": "year=%{x}<br>palestinians_killed=%{marker.color}<extra></extra>",
           "ids": [
            5,
            8,
            8,
            20,
            614,
            1590,
            10,
            3,
            0,
            12,
            3,
            6
           ],
           "legendgroup": "",
           "marker": {
            "color": [
             5,
             8,
             8,
             20,
             614,
             1590,
             10,
             3,
             0,
             12,
             3,
             6
            ],
            "coloraxis": "coloraxis",
            "pattern": {
             "shape": ""
            }
           },
           "name": "",
           "offsetgroup": "",
           "orientation": "v",
           "showlegend": false,
           "textposition": "auto",
           "type": "bar",
           "x": [
            2014,
            2014,
            2014,
            2014,
            2014,
            2014,
            2014,
            2014,
            2014,
            2014,
            2014,
            2014
           ],
           "xaxis": "x",
           "y": [
            5,
            8,
            8,
            20,
            614,
            1590,
            10,
            3,
            0,
            12,
            3,
            6
           ],
           "yaxis": "y"
          }
         ],
         "name": "2014"
        },
        {
         "data": [
          {
           "alignmentgroup": "True",
           "hovertemplate": "year=%{x}<br>palestinians_killed=%{marker.color}<extra></extra>",
           "ids": [
            40,
            34,
            74,
            4,
            9,
            7,
            3,
            1,
            7,
            1,
            4,
            4
           ],
           "legendgroup": "",
           "marker": {
            "color": [
             40,
             34,
             74,
             4,
             9,
             7,
             3,
             1,
             7,
             1,
             4,
             4
            ],
            "coloraxis": "coloraxis",
            "pattern": {
             "shape": ""
            }
           },
           "name": "",
           "offsetgroup": "",
           "orientation": "v",
           "showlegend": false,
           "textposition": "auto",
           "type": "bar",
           "x": [
            2015,
            2015,
            2015,
            2015,
            2015,
            2015,
            2015,
            2015,
            2015,
            2015,
            2015,
            2015
           ],
           "xaxis": "x",
           "y": [
            40,
            34,
            74,
            4,
            9,
            7,
            3,
            1,
            7,
            1,
            4,
            4
           ],
           "yaxis": "y"
          }
         ],
         "name": "2015"
        },
        {
         "data": [
          {
           "alignmentgroup": "True",
           "hovertemplate": "year=%{x}<br>palestinians_killed=%{marker.color}<extra></extra>",
           "ids": [
            5,
            6,
            8,
            11,
            3,
            9,
            7,
            3,
            3,
            23,
            17,
            20
           ],
           "legendgroup": "",
           "marker": {
            "color": [
             5,
             6,
             8,
             11,
             3,
             9,
             7,
             3,
             3,
             23,
             17,
             20
            ],
            "coloraxis": "coloraxis",
            "pattern": {
             "shape": ""
            }
           },
           "name": "",
           "offsetgroup": "",
           "orientation": "v",
           "showlegend": false,
           "textposition": "auto",
           "type": "bar",
           "x": [
            2016,
            2016,
            2016,
            2016,
            2016,
            2016,
            2016,
            2016,
            2016,
            2016,
            2016,
            2016
           ],
           "xaxis": "x",
           "y": [
            5,
            6,
            8,
            11,
            3,
            9,
            7,
            3,
            3,
            23,
            17,
            20
           ],
           "yaxis": "y"
          }
         ],
         "name": "2016"
        },
        {
         "data": [
          {
           "alignmentgroup": "True",
           "hovertemplate": "year=%{x}<br>palestinians_killed=%{marker.color}<extra></extra>",
           "ids": [
            18,
            2,
            13,
            2,
            2,
            20,
            8,
            6,
            5,
            7,
            6,
            7
           ],
           "legendgroup": "",
           "marker": {
            "color": [
             18,
             2,
             13,
             2,
             2,
             20,
             8,
             6,
             5,
             7,
             6,
             7
            ],
            "coloraxis": "coloraxis",
            "pattern": {
             "shape": ""
            }
           },
           "name": "",
           "offsetgroup": "",
           "orientation": "v",
           "showlegend": false,
           "textposition": "auto",
           "type": "bar",
           "x": [
            2017,
            2017,
            2017,
            2017,
            2017,
            2017,
            2017,
            2017,
            2017,
            2017,
            2017,
            2017
           ],
           "xaxis": "x",
           "y": [
            18,
            2,
            13,
            2,
            2,
            20,
            8,
            6,
            5,
            7,
            6,
            7
           ],
           "yaxis": "y"
          }
         ],
         "name": "2017"
        },
        {
         "data": [
          {
           "alignmentgroup": "True",
           "hovertemplate": "year=%{x}<br>palestinians_killed=%{marker.color}<extra></extra>",
           "ids": [
            14,
            25,
            32,
            25,
            16,
            24,
            18,
            66,
            34,
            20,
            9,
            7
           ],
           "legendgroup": "",
           "marker": {
            "color": [
             14,
             25,
             32,
             25,
             16,
             24,
             18,
             66,
             34,
             20,
             9,
             7
            ],
            "coloraxis": "coloraxis",
            "pattern": {
             "shape": ""
            }
           },
           "name": "",
           "offsetgroup": "",
           "orientation": "v",
           "showlegend": false,
           "textposition": "auto",
           "type": "bar",
           "x": [
            2018,
            2018,
            2018,
            2018,
            2018,
            2018,
            2018,
            2018,
            2018,
            2018,
            2018,
            2018
           ],
           "xaxis": "x",
           "y": [
            14,
            25,
            32,
            25,
            16,
            24,
            18,
            66,
            34,
            20,
            9,
            7
           ],
           "yaxis": "y"
          }
         ],
         "name": "2018"
        },
        {
         "data": [
          {
           "alignmentgroup": "True",
           "hovertemplate": "year=%{x}<br>palestinians_killed=%{marker.color}<extra></extra>",
           "ids": [
            1,
            43,
            3,
            5,
            11,
            4,
            3,
            33,
            8,
            21,
            8,
            9
           ],
           "legendgroup": "",
           "marker": {
            "color": [
             1,
             43,
             3,
             5,
             11,
             4,
             3,
             33,
             8,
             21,
             8,
             9
            ],
            "coloraxis": "coloraxis",
            "pattern": {
             "shape": ""
            }
           },
           "name": "",
           "offsetgroup": "",
           "orientation": "v",
           "showlegend": false,
           "textposition": "auto",
           "type": "bar",
           "x": [
            2019,
            2019,
            2019,
            2019,
            2019,
            2019,
            2019,
            2019,
            2019,
            2019,
            2019,
            2019
           ],
           "xaxis": "x",
           "y": [
            1,
            43,
            3,
            5,
            11,
            4,
            3,
            33,
            8,
            21,
            8,
            9
           ],
           "yaxis": "y"
          }
         ],
         "name": "2019"
        },
        {
         "data": [
          {
           "alignmentgroup": "True",
           "hovertemplate": "year=%{x}<br>palestinians_killed=%{marker.color}<extra></extra>",
           "ids": [
            2,
            2,
            2,
            1,
            3,
            1,
            1,
            4,
            1,
            2,
            9,
            6
           ],
           "legendgroup": "",
           "marker": {
            "color": [
             2,
             2,
             2,
             1,
             3,
             1,
             1,
             4,
             1,
             2,
             9,
             6
            ],
            "coloraxis": "coloraxis",
            "pattern": {
             "shape": ""
            }
           },
           "name": "",
           "offsetgroup": "",
           "orientation": "v",
           "showlegend": false,
           "textposition": "auto",
           "type": "bar",
           "x": [
            2020,
            2020,
            2020,
            2020,
            2020,
            2020,
            2020,
            2020,
            2020,
            2020,
            2020,
            2020
           ],
           "xaxis": "x",
           "y": [
            2,
            2,
            2,
            1,
            3,
            1,
            1,
            4,
            1,
            2,
            9,
            6
           ],
           "yaxis": "y"
          }
         ],
         "name": "2020"
        },
        {
         "data": [
          {
           "alignmentgroup": "True",
           "hovertemplate": "year=%{x}<br>palestinians_killed=%{marker.color}<extra></extra>",
           "ids": [
            4,
            1,
            4,
            1,
            26
           ],
           "legendgroup": "",
           "marker": {
            "color": [
             4,
             1,
             4,
             1,
             26
            ],
            "coloraxis": "coloraxis",
            "pattern": {
             "shape": ""
            }
           },
           "name": "",
           "offsetgroup": "",
           "orientation": "v",
           "showlegend": false,
           "textposition": "auto",
           "type": "bar",
           "x": [
            2021,
            2021,
            2021,
            2021,
            2021
           ],
           "xaxis": "x",
           "y": [
            4,
            1,
            4,
            1,
            26
           ],
           "yaxis": "y"
          }
         ],
         "name": "2021"
        }
       ],
       "layout": {
        "barmode": "relative",
        "coloraxis": {
         "colorbar": {
          "title": {
           "text": "palestinians_killed"
          }
         },
         "colorscale": [
          [
           0,
           "#0d0887"
          ],
          [
           0.1111111111111111,
           "#46039f"
          ],
          [
           0.2222222222222222,
           "#7201a8"
          ],
          [
           0.3333333333333333,
           "#9c179e"
          ],
          [
           0.4444444444444444,
           "#bd3786"
          ],
          [
           0.5555555555555556,
           "#d8576b"
          ],
          [
           0.6666666666666666,
           "#ed7953"
          ],
          [
           0.7777777777777778,
           "#fb9f3a"
          ],
          [
           0.8888888888888888,
           "#fdca26"
          ],
          [
           1,
           "#f0f921"
          ]
         ]
        },
        "legend": {
         "tracegroupgap": 0
        },
        "margin": {
         "t": 60
        },
        "sliders": [
         {
          "active": 0,
          "currentvalue": {
           "prefix": "year="
          },
          "len": 0.9,
          "pad": {
           "b": 10,
           "t": 60
          },
          "steps": [
           {
            "args": [
             [
              "2000"
             ],
             {
              "frame": {
               "duration": 0,
               "redraw": true
              },
              "fromcurrent": true,
              "mode": "immediate",
              "transition": {
               "duration": 0,
               "easing": "linear"
              }
             }
            ],
            "label": "2000",
            "method": "animate"
           },
           {
            "args": [
             [
              "2001"
             ],
             {
              "frame": {
               "duration": 0,
               "redraw": true
              },
              "fromcurrent": true,
              "mode": "immediate",
              "transition": {
               "duration": 0,
               "easing": "linear"
              }
             }
            ],
            "label": "2001",
            "method": "animate"
           },
           {
            "args": [
             [
              "2002"
             ],
             {
              "frame": {
               "duration": 0,
               "redraw": true
              },
              "fromcurrent": true,
              "mode": "immediate",
              "transition": {
               "duration": 0,
               "easing": "linear"
              }
             }
            ],
            "label": "2002",
            "method": "animate"
           },
           {
            "args": [
             [
              "2003"
             ],
             {
              "frame": {
               "duration": 0,
               "redraw": true
              },
              "fromcurrent": true,
              "mode": "immediate",
              "transition": {
               "duration": 0,
               "easing": "linear"
              }
             }
            ],
            "label": "2003",
            "method": "animate"
           },
           {
            "args": [
             [
              "2004"
             ],
             {
              "frame": {
               "duration": 0,
               "redraw": true
              },
              "fromcurrent": true,
              "mode": "immediate",
              "transition": {
               "duration": 0,
               "easing": "linear"
              }
             }
            ],
            "label": "2004",
            "method": "animate"
           },
           {
            "args": [
             [
              "2005"
             ],
             {
              "frame": {
               "duration": 0,
               "redraw": true
              },
              "fromcurrent": true,
              "mode": "immediate",
              "transition": {
               "duration": 0,
               "easing": "linear"
              }
             }
            ],
            "label": "2005",
            "method": "animate"
           },
           {
            "args": [
             [
              "2006"
             ],
             {
              "frame": {
               "duration": 0,
               "redraw": true
              },
              "fromcurrent": true,
              "mode": "immediate",
              "transition": {
               "duration": 0,
               "easing": "linear"
              }
             }
            ],
            "label": "2006",
            "method": "animate"
           },
           {
            "args": [
             [
              "2007"
             ],
             {
              "frame": {
               "duration": 0,
               "redraw": true
              },
              "fromcurrent": true,
              "mode": "immediate",
              "transition": {
               "duration": 0,
               "easing": "linear"
              }
             }
            ],
            "label": "2007",
            "method": "animate"
           },
           {
            "args": [
             [
              "2008"
             ],
             {
              "frame": {
               "duration": 0,
               "redraw": true
              },
              "fromcurrent": true,
              "mode": "immediate",
              "transition": {
               "duration": 0,
               "easing": "linear"
              }
             }
            ],
            "label": "2008",
            "method": "animate"
           },
           {
            "args": [
             [
              "2009"
             ],
             {
              "frame": {
               "duration": 0,
               "redraw": true
              },
              "fromcurrent": true,
              "mode": "immediate",
              "transition": {
               "duration": 0,
               "easing": "linear"
              }
             }
            ],
            "label": "2009",
            "method": "animate"
           },
           {
            "args": [
             [
              "2010"
             ],
             {
              "frame": {
               "duration": 0,
               "redraw": true
              },
              "fromcurrent": true,
              "mode": "immediate",
              "transition": {
               "duration": 0,
               "easing": "linear"
              }
             }
            ],
            "label": "2010",
            "method": "animate"
           },
           {
            "args": [
             [
              "2011"
             ],
             {
              "frame": {
               "duration": 0,
               "redraw": true
              },
              "fromcurrent": true,
              "mode": "immediate",
              "transition": {
               "duration": 0,
               "easing": "linear"
              }
             }
            ],
            "label": "2011",
            "method": "animate"
           },
           {
            "args": [
             [
              "2012"
             ],
             {
              "frame": {
               "duration": 0,
               "redraw": true
              },
              "fromcurrent": true,
              "mode": "immediate",
              "transition": {
               "duration": 0,
               "easing": "linear"
              }
             }
            ],
            "label": "2012",
            "method": "animate"
           },
           {
            "args": [
             [
              "2013"
             ],
             {
              "frame": {
               "duration": 0,
               "redraw": true
              },
              "fromcurrent": true,
              "mode": "immediate",
              "transition": {
               "duration": 0,
               "easing": "linear"
              }
             }
            ],
            "label": "2013",
            "method": "animate"
           },
           {
            "args": [
             [
              "2014"
             ],
             {
              "frame": {
               "duration": 0,
               "redraw": true
              },
              "fromcurrent": true,
              "mode": "immediate",
              "transition": {
               "duration": 0,
               "easing": "linear"
              }
             }
            ],
            "label": "2014",
            "method": "animate"
           },
           {
            "args": [
             [
              "2015"
             ],
             {
              "frame": {
               "duration": 0,
               "redraw": true
              },
              "fromcurrent": true,
              "mode": "immediate",
              "transition": {
               "duration": 0,
               "easing": "linear"
              }
             }
            ],
            "label": "2015",
            "method": "animate"
           },
           {
            "args": [
             [
              "2016"
             ],
             {
              "frame": {
               "duration": 0,
               "redraw": true
              },
              "fromcurrent": true,
              "mode": "immediate",
              "transition": {
               "duration": 0,
               "easing": "linear"
              }
             }
            ],
            "label": "2016",
            "method": "animate"
           },
           {
            "args": [
             [
              "2017"
             ],
             {
              "frame": {
               "duration": 0,
               "redraw": true
              },
              "fromcurrent": true,
              "mode": "immediate",
              "transition": {
               "duration": 0,
               "easing": "linear"
              }
             }
            ],
            "label": "2017",
            "method": "animate"
           },
           {
            "args": [
             [
              "2018"
             ],
             {
              "frame": {
               "duration": 0,
               "redraw": true
              },
              "fromcurrent": true,
              "mode": "immediate",
              "transition": {
               "duration": 0,
               "easing": "linear"
              }
             }
            ],
            "label": "2018",
            "method": "animate"
           },
           {
            "args": [
             [
              "2019"
             ],
             {
              "frame": {
               "duration": 0,
               "redraw": true
              },
              "fromcurrent": true,
              "mode": "immediate",
              "transition": {
               "duration": 0,
               "easing": "linear"
              }
             }
            ],
            "label": "2019",
            "method": "animate"
           },
           {
            "args": [
             [
              "2020"
             ],
             {
              "frame": {
               "duration": 0,
               "redraw": true
              },
              "fromcurrent": true,
              "mode": "immediate",
              "transition": {
               "duration": 0,
               "easing": "linear"
              }
             }
            ],
            "label": "2020",
            "method": "animate"
           },
           {
            "args": [
             [
              "2021"
             ],
             {
              "frame": {
               "duration": 0,
               "redraw": true
              },
              "fromcurrent": true,
              "mode": "immediate",
              "transition": {
               "duration": 0,
               "easing": "linear"
              }
             }
            ],
            "label": "2021",
            "method": "animate"
           }
          ],
          "x": 0.1,
          "xanchor": "left",
          "y": 0,
          "yanchor": "top"
         }
        ],
        "template": {
         "data": {
          "bar": [
           {
            "error_x": {
             "color": "#2a3f5f"
            },
            "error_y": {
             "color": "#2a3f5f"
            },
            "marker": {
             "line": {
              "color": "#E5ECF6",
              "width": 0.5
             },
             "pattern": {
              "fillmode": "overlay",
              "size": 10,
              "solidity": 0.2
             }
            },
            "type": "bar"
           }
          ],
          "barpolar": [
           {
            "marker": {
             "line": {
              "color": "#E5ECF6",
              "width": 0.5
             },
             "pattern": {
              "fillmode": "overlay",
              "size": 10,
              "solidity": 0.2
             }
            },
            "type": "barpolar"
           }
          ],
          "carpet": [
           {
            "aaxis": {
             "endlinecolor": "#2a3f5f",
             "gridcolor": "white",
             "linecolor": "white",
             "minorgridcolor": "white",
             "startlinecolor": "#2a3f5f"
            },
            "baxis": {
             "endlinecolor": "#2a3f5f",
             "gridcolor": "white",
             "linecolor": "white",
             "minorgridcolor": "white",
             "startlinecolor": "#2a3f5f"
            },
            "type": "carpet"
           }
          ],
          "choropleth": [
           {
            "colorbar": {
             "outlinewidth": 0,
             "ticks": ""
            },
            "type": "choropleth"
           }
          ],
          "contour": [
           {
            "colorbar": {
             "outlinewidth": 0,
             "ticks": ""
            },
            "colorscale": [
             [
              0,
              "#0d0887"
             ],
             [
              0.1111111111111111,
              "#46039f"
             ],
             [
              0.2222222222222222,
              "#7201a8"
             ],
             [
              0.3333333333333333,
              "#9c179e"
             ],
             [
              0.4444444444444444,
              "#bd3786"
             ],
             [
              0.5555555555555556,
              "#d8576b"
             ],
             [
              0.6666666666666666,
              "#ed7953"
             ],
             [
              0.7777777777777778,
              "#fb9f3a"
             ],
             [
              0.8888888888888888,
              "#fdca26"
             ],
             [
              1,
              "#f0f921"
             ]
            ],
            "type": "contour"
           }
          ],
          "contourcarpet": [
           {
            "colorbar": {
             "outlinewidth": 0,
             "ticks": ""
            },
            "type": "contourcarpet"
           }
          ],
          "heatmap": [
           {
            "colorbar": {
             "outlinewidth": 0,
             "ticks": ""
            },
            "colorscale": [
             [
              0,
              "#0d0887"
             ],
             [
              0.1111111111111111,
              "#46039f"
             ],
             [
              0.2222222222222222,
              "#7201a8"
             ],
             [
              0.3333333333333333,
              "#9c179e"
             ],
             [
              0.4444444444444444,
              "#bd3786"
             ],
             [
              0.5555555555555556,
              "#d8576b"
             ],
             [
              0.6666666666666666,
              "#ed7953"
             ],
             [
              0.7777777777777778,
              "#fb9f3a"
             ],
             [
              0.8888888888888888,
              "#fdca26"
             ],
             [
              1,
              "#f0f921"
             ]
            ],
            "type": "heatmap"
           }
          ],
          "heatmapgl": [
           {
            "colorbar": {
             "outlinewidth": 0,
             "ticks": ""
            },
            "colorscale": [
             [
              0,
              "#0d0887"
             ],
             [
              0.1111111111111111,
              "#46039f"
             ],
             [
              0.2222222222222222,
              "#7201a8"
             ],
             [
              0.3333333333333333,
              "#9c179e"
             ],
             [
              0.4444444444444444,
              "#bd3786"
             ],
             [
              0.5555555555555556,
              "#d8576b"
             ],
             [
              0.6666666666666666,
              "#ed7953"
             ],
             [
              0.7777777777777778,
              "#fb9f3a"
             ],
             [
              0.8888888888888888,
              "#fdca26"
             ],
             [
              1,
              "#f0f921"
             ]
            ],
            "type": "heatmapgl"
           }
          ],
          "histogram": [
           {
            "marker": {
             "pattern": {
              "fillmode": "overlay",
              "size": 10,
              "solidity": 0.2
             }
            },
            "type": "histogram"
           }
          ],
          "histogram2d": [
           {
            "colorbar": {
             "outlinewidth": 0,
             "ticks": ""
            },
            "colorscale": [
             [
              0,
              "#0d0887"
             ],
             [
              0.1111111111111111,
              "#46039f"
             ],
             [
              0.2222222222222222,
              "#7201a8"
             ],
             [
              0.3333333333333333,
              "#9c179e"
             ],
             [
              0.4444444444444444,
              "#bd3786"
             ],
             [
              0.5555555555555556,
              "#d8576b"
             ],
             [
              0.6666666666666666,
              "#ed7953"
             ],
             [
              0.7777777777777778,
              "#fb9f3a"
             ],
             [
              0.8888888888888888,
              "#fdca26"
             ],
             [
              1,
              "#f0f921"
             ]
            ],
            "type": "histogram2d"
           }
          ],
          "histogram2dcontour": [
           {
            "colorbar": {
             "outlinewidth": 0,
             "ticks": ""
            },
            "colorscale": [
             [
              0,
              "#0d0887"
             ],
             [
              0.1111111111111111,
              "#46039f"
             ],
             [
              0.2222222222222222,
              "#7201a8"
             ],
             [
              0.3333333333333333,
              "#9c179e"
             ],
             [
              0.4444444444444444,
              "#bd3786"
             ],
             [
              0.5555555555555556,
              "#d8576b"
             ],
             [
              0.6666666666666666,
              "#ed7953"
             ],
             [
              0.7777777777777778,
              "#fb9f3a"
             ],
             [
              0.8888888888888888,
              "#fdca26"
             ],
             [
              1,
              "#f0f921"
             ]
            ],
            "type": "histogram2dcontour"
           }
          ],
          "mesh3d": [
           {
            "colorbar": {
             "outlinewidth": 0,
             "ticks": ""
            },
            "type": "mesh3d"
           }
          ],
          "parcoords": [
           {
            "line": {
             "colorbar": {
              "outlinewidth": 0,
              "ticks": ""
             }
            },
            "type": "parcoords"
           }
          ],
          "pie": [
           {
            "automargin": true,
            "type": "pie"
           }
          ],
          "scatter": [
           {
            "fillpattern": {
             "fillmode": "overlay",
             "size": 10,
             "solidity": 0.2
            },
            "type": "scatter"
           }
          ],
          "scatter3d": [
           {
            "line": {
             "colorbar": {
              "outlinewidth": 0,
              "ticks": ""
             }
            },
            "marker": {
             "colorbar": {
              "outlinewidth": 0,
              "ticks": ""
             }
            },
            "type": "scatter3d"
           }
          ],
          "scattercarpet": [
           {
            "marker": {
             "colorbar": {
              "outlinewidth": 0,
              "ticks": ""
             }
            },
            "type": "scattercarpet"
           }
          ],
          "scattergeo": [
           {
            "marker": {
             "colorbar": {
              "outlinewidth": 0,
              "ticks": ""
             }
            },
            "type": "scattergeo"
           }
          ],
          "scattergl": [
           {
            "marker": {
             "colorbar": {
              "outlinewidth": 0,
              "ticks": ""
             }
            },
            "type": "scattergl"
           }
          ],
          "scattermapbox": [
           {
            "marker": {
             "colorbar": {
              "outlinewidth": 0,
              "ticks": ""
             }
            },
            "type": "scattermapbox"
           }
          ],
          "scatterpolar": [
           {
            "marker": {
             "colorbar": {
              "outlinewidth": 0,
              "ticks": ""
             }
            },
            "type": "scatterpolar"
           }
          ],
          "scatterpolargl": [
           {
            "marker": {
             "colorbar": {
              "outlinewidth": 0,
              "ticks": ""
             }
            },
            "type": "scatterpolargl"
           }
          ],
          "scatterternary": [
           {
            "marker": {
             "colorbar": {
              "outlinewidth": 0,
              "ticks": ""
             }
            },
            "type": "scatterternary"
           }
          ],
          "surface": [
           {
            "colorbar": {
             "outlinewidth": 0,
             "ticks": ""
            },
            "colorscale": [
             [
              0,
              "#0d0887"
             ],
             [
              0.1111111111111111,
              "#46039f"
             ],
             [
              0.2222222222222222,
              "#7201a8"
             ],
             [
              0.3333333333333333,
              "#9c179e"
             ],
             [
              0.4444444444444444,
              "#bd3786"
             ],
             [
              0.5555555555555556,
              "#d8576b"
             ],
             [
              0.6666666666666666,
              "#ed7953"
             ],
             [
              0.7777777777777778,
              "#fb9f3a"
             ],
             [
              0.8888888888888888,
              "#fdca26"
             ],
             [
              1,
              "#f0f921"
             ]
            ],
            "type": "surface"
           }
          ],
          "table": [
           {
            "cells": {
             "fill": {
              "color": "#EBF0F8"
             },
             "line": {
              "color": "white"
             }
            },
            "header": {
             "fill": {
              "color": "#C8D4E3"
             },
             "line": {
              "color": "white"
             }
            },
            "type": "table"
           }
          ]
         },
         "layout": {
          "annotationdefaults": {
           "arrowcolor": "#2a3f5f",
           "arrowhead": 0,
           "arrowwidth": 1
          },
          "autotypenumbers": "strict",
          "coloraxis": {
           "colorbar": {
            "outlinewidth": 0,
            "ticks": ""
           }
          },
          "colorscale": {
           "diverging": [
            [
             0,
             "#8e0152"
            ],
            [
             0.1,
             "#c51b7d"
            ],
            [
             0.2,
             "#de77ae"
            ],
            [
             0.3,
             "#f1b6da"
            ],
            [
             0.4,
             "#fde0ef"
            ],
            [
             0.5,
             "#f7f7f7"
            ],
            [
             0.6,
             "#e6f5d0"
            ],
            [
             0.7,
             "#b8e186"
            ],
            [
             0.8,
             "#7fbc41"
            ],
            [
             0.9,
             "#4d9221"
            ],
            [
             1,
             "#276419"
            ]
           ],
           "sequential": [
            [
             0,
             "#0d0887"
            ],
            [
             0.1111111111111111,
             "#46039f"
            ],
            [
             0.2222222222222222,
             "#7201a8"
            ],
            [
             0.3333333333333333,
             "#9c179e"
            ],
            [
             0.4444444444444444,
             "#bd3786"
            ],
            [
             0.5555555555555556,
             "#d8576b"
            ],
            [
             0.6666666666666666,
             "#ed7953"
            ],
            [
             0.7777777777777778,
             "#fb9f3a"
            ],
            [
             0.8888888888888888,
             "#fdca26"
            ],
            [
             1,
             "#f0f921"
            ]
           ],
           "sequentialminus": [
            [
             0,
             "#0d0887"
            ],
            [
             0.1111111111111111,
             "#46039f"
            ],
            [
             0.2222222222222222,
             "#7201a8"
            ],
            [
             0.3333333333333333,
             "#9c179e"
            ],
            [
             0.4444444444444444,
             "#bd3786"
            ],
            [
             0.5555555555555556,
             "#d8576b"
            ],
            [
             0.6666666666666666,
             "#ed7953"
            ],
            [
             0.7777777777777778,
             "#fb9f3a"
            ],
            [
             0.8888888888888888,
             "#fdca26"
            ],
            [
             1,
             "#f0f921"
            ]
           ]
          },
          "colorway": [
           "#636efa",
           "#EF553B",
           "#00cc96",
           "#ab63fa",
           "#FFA15A",
           "#19d3f3",
           "#FF6692",
           "#B6E880",
           "#FF97FF",
           "#FECB52"
          ],
          "font": {
           "color": "#2a3f5f"
          },
          "geo": {
           "bgcolor": "white",
           "lakecolor": "white",
           "landcolor": "#E5ECF6",
           "showlakes": true,
           "showland": true,
           "subunitcolor": "white"
          },
          "hoverlabel": {
           "align": "left"
          },
          "hovermode": "closest",
          "mapbox": {
           "style": "light"
          },
          "paper_bgcolor": "white",
          "plot_bgcolor": "#E5ECF6",
          "polar": {
           "angularaxis": {
            "gridcolor": "white",
            "linecolor": "white",
            "ticks": ""
           },
           "bgcolor": "#E5ECF6",
           "radialaxis": {
            "gridcolor": "white",
            "linecolor": "white",
            "ticks": ""
           }
          },
          "scene": {
           "xaxis": {
            "backgroundcolor": "#E5ECF6",
            "gridcolor": "white",
            "gridwidth": 2,
            "linecolor": "white",
            "showbackground": true,
            "ticks": "",
            "zerolinecolor": "white"
           },
           "yaxis": {
            "backgroundcolor": "#E5ECF6",
            "gridcolor": "white",
            "gridwidth": 2,
            "linecolor": "white",
            "showbackground": true,
            "ticks": "",
            "zerolinecolor": "white"
           },
           "zaxis": {
            "backgroundcolor": "#E5ECF6",
            "gridcolor": "white",
            "gridwidth": 2,
            "linecolor": "white",
            "showbackground": true,
            "ticks": "",
            "zerolinecolor": "white"
           }
          },
          "shapedefaults": {
           "line": {
            "color": "#2a3f5f"
           }
          },
          "ternary": {
           "aaxis": {
            "gridcolor": "white",
            "linecolor": "white",
            "ticks": ""
           },
           "baxis": {
            "gridcolor": "white",
            "linecolor": "white",
            "ticks": ""
           },
           "bgcolor": "#E5ECF6",
           "caxis": {
            "gridcolor": "white",
            "linecolor": "white",
            "ticks": ""
           }
          },
          "title": {
           "x": 0.05
          },
          "xaxis": {
           "automargin": true,
           "gridcolor": "white",
           "linecolor": "white",
           "ticks": "",
           "title": {
            "standoff": 15
           },
           "zerolinecolor": "white",
           "zerolinewidth": 2
          },
          "yaxis": {
           "automargin": true,
           "gridcolor": "white",
           "linecolor": "white",
           "ticks": "",
           "title": {
            "standoff": 15
           },
           "zerolinecolor": "white",
           "zerolinewidth": 2
          }
         }
        },
        "updatemenus": [
         {
          "buttons": [
           {
            "args": [
             null,
             {
              "frame": {
               "duration": 500,
               "redraw": true
              },
              "fromcurrent": true,
              "mode": "immediate",
              "transition": {
               "duration": 500,
               "easing": "linear"
              }
             }
            ],
            "label": "&#9654;",
            "method": "animate"
           },
           {
            "args": [
             [
              null
             ],
             {
              "frame": {
               "duration": 0,
               "redraw": true
              },
              "fromcurrent": true,
              "mode": "immediate",
              "transition": {
               "duration": 0,
               "easing": "linear"
              }
             }
            ],
            "label": "&#9724;",
            "method": "animate"
           }
          ],
          "direction": "left",
          "pad": {
           "r": 10,
           "t": 70
          },
          "showactive": false,
          "type": "buttons",
          "x": 0.1,
          "xanchor": "right",
          "y": 0,
          "yanchor": "top"
         }
        ],
        "xaxis": {
         "anchor": "y",
         "categoryarray": [
          2000,
          2001,
          2002,
          2003,
          2004,
          2005,
          2006,
          2007,
          2008,
          2009,
          2010,
          2011,
          2012,
          2013,
          2014,
          2015,
          2016,
          2017,
          2018,
          2019,
          2020,
          2021
         ],
         "categoryorder": "array",
         "domain": [
          0,
          1
         ],
         "range": [
          3.3008127941181167,
          3.305781151254982
         ],
         "title": {
          "text": "year"
         },
         "type": "log"
        },
        "yaxis": {
         "anchor": "x",
         "domain": [
          0,
          1
         ],
         "range": [
          0,
          2500
         ],
         "title": {
          "text": "palestinians_killed"
         }
        }
       }
      }
     },
     "metadata": {},
     "output_type": "display_data"
    }
   ],
   "source": [
    "data = df[['palestinians_killed','year']]\n",
    "graph=px.bar(data,x=\"year\",y=\"palestinians_killed\",color='palestinians_killed',\n",
    "            animation_frame=\"year\",animation_group=\"palestinians_killed\",log_x=True,range_x=[1999,2022],\n",
    "            range_y=[0,2500])\n",
    "graph.show()"
   ]
  },
  {
   "cell_type": "code",
   "execution_count": 18,
   "metadata": {},
   "outputs": [
    {
     "data": {
      "application/vnd.plotly.v1+json": {
       "config": {
        "plotlyServerURL": "https://plot.ly"
       },
       "data": [
        {
         "domain": {
          "x": [
           0,
           1
          ],
          "y": [
           0,
           1
          ]
         },
         "hovertemplate": "label=%{label}<br>value=%{value}<extra></extra>",
         "labels": [
          "Israeli",
          "Palestinian"
         ],
         "legendgroup": "",
         "name": "",
         "showlegend": true,
         "type": "pie",
         "values": [
          1275,
          10000
         ]
        }
       ],
       "layout": {
        "legend": {
         "tracegroupgap": 0
        },
        "template": {
         "data": {
          "bar": [
           {
            "error_x": {
             "color": "#2a3f5f"
            },
            "error_y": {
             "color": "#2a3f5f"
            },
            "marker": {
             "line": {
              "color": "#E5ECF6",
              "width": 0.5
             },
             "pattern": {
              "fillmode": "overlay",
              "size": 10,
              "solidity": 0.2
             }
            },
            "type": "bar"
           }
          ],
          "barpolar": [
           {
            "marker": {
             "line": {
              "color": "#E5ECF6",
              "width": 0.5
             },
             "pattern": {
              "fillmode": "overlay",
              "size": 10,
              "solidity": 0.2
             }
            },
            "type": "barpolar"
           }
          ],
          "carpet": [
           {
            "aaxis": {
             "endlinecolor": "#2a3f5f",
             "gridcolor": "white",
             "linecolor": "white",
             "minorgridcolor": "white",
             "startlinecolor": "#2a3f5f"
            },
            "baxis": {
             "endlinecolor": "#2a3f5f",
             "gridcolor": "white",
             "linecolor": "white",
             "minorgridcolor": "white",
             "startlinecolor": "#2a3f5f"
            },
            "type": "carpet"
           }
          ],
          "choropleth": [
           {
            "colorbar": {
             "outlinewidth": 0,
             "ticks": ""
            },
            "type": "choropleth"
           }
          ],
          "contour": [
           {
            "colorbar": {
             "outlinewidth": 0,
             "ticks": ""
            },
            "colorscale": [
             [
              0,
              "#0d0887"
             ],
             [
              0.1111111111111111,
              "#46039f"
             ],
             [
              0.2222222222222222,
              "#7201a8"
             ],
             [
              0.3333333333333333,
              "#9c179e"
             ],
             [
              0.4444444444444444,
              "#bd3786"
             ],
             [
              0.5555555555555556,
              "#d8576b"
             ],
             [
              0.6666666666666666,
              "#ed7953"
             ],
             [
              0.7777777777777778,
              "#fb9f3a"
             ],
             [
              0.8888888888888888,
              "#fdca26"
             ],
             [
              1,
              "#f0f921"
             ]
            ],
            "type": "contour"
           }
          ],
          "contourcarpet": [
           {
            "colorbar": {
             "outlinewidth": 0,
             "ticks": ""
            },
            "type": "contourcarpet"
           }
          ],
          "heatmap": [
           {
            "colorbar": {
             "outlinewidth": 0,
             "ticks": ""
            },
            "colorscale": [
             [
              0,
              "#0d0887"
             ],
             [
              0.1111111111111111,
              "#46039f"
             ],
             [
              0.2222222222222222,
              "#7201a8"
             ],
             [
              0.3333333333333333,
              "#9c179e"
             ],
             [
              0.4444444444444444,
              "#bd3786"
             ],
             [
              0.5555555555555556,
              "#d8576b"
             ],
             [
              0.6666666666666666,
              "#ed7953"
             ],
             [
              0.7777777777777778,
              "#fb9f3a"
             ],
             [
              0.8888888888888888,
              "#fdca26"
             ],
             [
              1,
              "#f0f921"
             ]
            ],
            "type": "heatmap"
           }
          ],
          "heatmapgl": [
           {
            "colorbar": {
             "outlinewidth": 0,
             "ticks": ""
            },
            "colorscale": [
             [
              0,
              "#0d0887"
             ],
             [
              0.1111111111111111,
              "#46039f"
             ],
             [
              0.2222222222222222,
              "#7201a8"
             ],
             [
              0.3333333333333333,
              "#9c179e"
             ],
             [
              0.4444444444444444,
              "#bd3786"
             ],
             [
              0.5555555555555556,
              "#d8576b"
             ],
             [
              0.6666666666666666,
              "#ed7953"
             ],
             [
              0.7777777777777778,
              "#fb9f3a"
             ],
             [
              0.8888888888888888,
              "#fdca26"
             ],
             [
              1,
              "#f0f921"
             ]
            ],
            "type": "heatmapgl"
           }
          ],
          "histogram": [
           {
            "marker": {
             "pattern": {
              "fillmode": "overlay",
              "size": 10,
              "solidity": 0.2
             }
            },
            "type": "histogram"
           }
          ],
          "histogram2d": [
           {
            "colorbar": {
             "outlinewidth": 0,
             "ticks": ""
            },
            "colorscale": [
             [
              0,
              "#0d0887"
             ],
             [
              0.1111111111111111,
              "#46039f"
             ],
             [
              0.2222222222222222,
              "#7201a8"
             ],
             [
              0.3333333333333333,
              "#9c179e"
             ],
             [
              0.4444444444444444,
              "#bd3786"
             ],
             [
              0.5555555555555556,
              "#d8576b"
             ],
             [
              0.6666666666666666,
              "#ed7953"
             ],
             [
              0.7777777777777778,
              "#fb9f3a"
             ],
             [
              0.8888888888888888,
              "#fdca26"
             ],
             [
              1,
              "#f0f921"
             ]
            ],
            "type": "histogram2d"
           }
          ],
          "histogram2dcontour": [
           {
            "colorbar": {
             "outlinewidth": 0,
             "ticks": ""
            },
            "colorscale": [
             [
              0,
              "#0d0887"
             ],
             [
              0.1111111111111111,
              "#46039f"
             ],
             [
              0.2222222222222222,
              "#7201a8"
             ],
             [
              0.3333333333333333,
              "#9c179e"
             ],
             [
              0.4444444444444444,
              "#bd3786"
             ],
             [
              0.5555555555555556,
              "#d8576b"
             ],
             [
              0.6666666666666666,
              "#ed7953"
             ],
             [
              0.7777777777777778,
              "#fb9f3a"
             ],
             [
              0.8888888888888888,
              "#fdca26"
             ],
             [
              1,
              "#f0f921"
             ]
            ],
            "type": "histogram2dcontour"
           }
          ],
          "mesh3d": [
           {
            "colorbar": {
             "outlinewidth": 0,
             "ticks": ""
            },
            "type": "mesh3d"
           }
          ],
          "parcoords": [
           {
            "line": {
             "colorbar": {
              "outlinewidth": 0,
              "ticks": ""
             }
            },
            "type": "parcoords"
           }
          ],
          "pie": [
           {
            "automargin": true,
            "type": "pie"
           }
          ],
          "scatter": [
           {
            "fillpattern": {
             "fillmode": "overlay",
             "size": 10,
             "solidity": 0.2
            },
            "type": "scatter"
           }
          ],
          "scatter3d": [
           {
            "line": {
             "colorbar": {
              "outlinewidth": 0,
              "ticks": ""
             }
            },
            "marker": {
             "colorbar": {
              "outlinewidth": 0,
              "ticks": ""
             }
            },
            "type": "scatter3d"
           }
          ],
          "scattercarpet": [
           {
            "marker": {
             "colorbar": {
              "outlinewidth": 0,
              "ticks": ""
             }
            },
            "type": "scattercarpet"
           }
          ],
          "scattergeo": [
           {
            "marker": {
             "colorbar": {
              "outlinewidth": 0,
              "ticks": ""
             }
            },
            "type": "scattergeo"
           }
          ],
          "scattergl": [
           {
            "marker": {
             "colorbar": {
              "outlinewidth": 0,
              "ticks": ""
             }
            },
            "type": "scattergl"
           }
          ],
          "scattermapbox": [
           {
            "marker": {
             "colorbar": {
              "outlinewidth": 0,
              "ticks": ""
             }
            },
            "type": "scattermapbox"
           }
          ],
          "scatterpolar": [
           {
            "marker": {
             "colorbar": {
              "outlinewidth": 0,
              "ticks": ""
             }
            },
            "type": "scatterpolar"
           }
          ],
          "scatterpolargl": [
           {
            "marker": {
             "colorbar": {
              "outlinewidth": 0,
              "ticks": ""
             }
            },
            "type": "scatterpolargl"
           }
          ],
          "scatterternary": [
           {
            "marker": {
             "colorbar": {
              "outlinewidth": 0,
              "ticks": ""
             }
            },
            "type": "scatterternary"
           }
          ],
          "surface": [
           {
            "colorbar": {
             "outlinewidth": 0,
             "ticks": ""
            },
            "colorscale": [
             [
              0,
              "#0d0887"
             ],
             [
              0.1111111111111111,
              "#46039f"
             ],
             [
              0.2222222222222222,
              "#7201a8"
             ],
             [
              0.3333333333333333,
              "#9c179e"
             ],
             [
              0.4444444444444444,
              "#bd3786"
             ],
             [
              0.5555555555555556,
              "#d8576b"
             ],
             [
              0.6666666666666666,
              "#ed7953"
             ],
             [
              0.7777777777777778,
              "#fb9f3a"
             ],
             [
              0.8888888888888888,
              "#fdca26"
             ],
             [
              1,
              "#f0f921"
             ]
            ],
            "type": "surface"
           }
          ],
          "table": [
           {
            "cells": {
             "fill": {
              "color": "#EBF0F8"
             },
             "line": {
              "color": "white"
             }
            },
            "header": {
             "fill": {
              "color": "#C8D4E3"
             },
             "line": {
              "color": "white"
             }
            },
            "type": "table"
           }
          ]
         },
         "layout": {
          "annotationdefaults": {
           "arrowcolor": "#2a3f5f",
           "arrowhead": 0,
           "arrowwidth": 1
          },
          "autotypenumbers": "strict",
          "coloraxis": {
           "colorbar": {
            "outlinewidth": 0,
            "ticks": ""
           }
          },
          "colorscale": {
           "diverging": [
            [
             0,
             "#8e0152"
            ],
            [
             0.1,
             "#c51b7d"
            ],
            [
             0.2,
             "#de77ae"
            ],
            [
             0.3,
             "#f1b6da"
            ],
            [
             0.4,
             "#fde0ef"
            ],
            [
             0.5,
             "#f7f7f7"
            ],
            [
             0.6,
             "#e6f5d0"
            ],
            [
             0.7,
             "#b8e186"
            ],
            [
             0.8,
             "#7fbc41"
            ],
            [
             0.9,
             "#4d9221"
            ],
            [
             1,
             "#276419"
            ]
           ],
           "sequential": [
            [
             0,
             "#0d0887"
            ],
            [
             0.1111111111111111,
             "#46039f"
            ],
            [
             0.2222222222222222,
             "#7201a8"
            ],
            [
             0.3333333333333333,
             "#9c179e"
            ],
            [
             0.4444444444444444,
             "#bd3786"
            ],
            [
             0.5555555555555556,
             "#d8576b"
            ],
            [
             0.6666666666666666,
             "#ed7953"
            ],
            [
             0.7777777777777778,
             "#fb9f3a"
            ],
            [
             0.8888888888888888,
             "#fdca26"
            ],
            [
             1,
             "#f0f921"
            ]
           ],
           "sequentialminus": [
            [
             0,
             "#0d0887"
            ],
            [
             0.1111111111111111,
             "#46039f"
            ],
            [
             0.2222222222222222,
             "#7201a8"
            ],
            [
             0.3333333333333333,
             "#9c179e"
            ],
            [
             0.4444444444444444,
             "#bd3786"
            ],
            [
             0.5555555555555556,
             "#d8576b"
            ],
            [
             0.6666666666666666,
             "#ed7953"
            ],
            [
             0.7777777777777778,
             "#fb9f3a"
            ],
            [
             0.8888888888888888,
             "#fdca26"
            ],
            [
             1,
             "#f0f921"
            ]
           ]
          },
          "colorway": [
           "#636efa",
           "#EF553B",
           "#00cc96",
           "#ab63fa",
           "#FFA15A",
           "#19d3f3",
           "#FF6692",
           "#B6E880",
           "#FF97FF",
           "#FECB52"
          ],
          "font": {
           "color": "#2a3f5f"
          },
          "geo": {
           "bgcolor": "white",
           "lakecolor": "white",
           "landcolor": "#E5ECF6",
           "showlakes": true,
           "showland": true,
           "subunitcolor": "white"
          },
          "hoverlabel": {
           "align": "left"
          },
          "hovermode": "closest",
          "mapbox": {
           "style": "light"
          },
          "paper_bgcolor": "white",
          "plot_bgcolor": "#E5ECF6",
          "polar": {
           "angularaxis": {
            "gridcolor": "white",
            "linecolor": "white",
            "ticks": ""
           },
           "bgcolor": "#E5ECF6",
           "radialaxis": {
            "gridcolor": "white",
            "linecolor": "white",
            "ticks": ""
           }
          },
          "scene": {
           "xaxis": {
            "backgroundcolor": "#E5ECF6",
            "gridcolor": "white",
            "gridwidth": 2,
            "linecolor": "white",
            "showbackground": true,
            "ticks": "",
            "zerolinecolor": "white"
           },
           "yaxis": {
            "backgroundcolor": "#E5ECF6",
            "gridcolor": "white",
            "gridwidth": 2,
            "linecolor": "white",
            "showbackground": true,
            "ticks": "",
            "zerolinecolor": "white"
           },
           "zaxis": {
            "backgroundcolor": "#E5ECF6",
            "gridcolor": "white",
            "gridwidth": 2,
            "linecolor": "white",
            "showbackground": true,
            "ticks": "",
            "zerolinecolor": "white"
           }
          },
          "shapedefaults": {
           "line": {
            "color": "#2a3f5f"
           }
          },
          "ternary": {
           "aaxis": {
            "gridcolor": "white",
            "linecolor": "white",
            "ticks": ""
           },
           "baxis": {
            "gridcolor": "white",
            "linecolor": "white",
            "ticks": ""
           },
           "bgcolor": "#E5ECF6",
           "caxis": {
            "gridcolor": "white",
            "linecolor": "white",
            "ticks": ""
           }
          },
          "title": {
           "x": 0.05
          },
          "xaxis": {
           "automargin": true,
           "gridcolor": "white",
           "linecolor": "white",
           "ticks": "",
           "title": {
            "standoff": 15
           },
           "zerolinecolor": "white",
           "zerolinewidth": 2
          },
          "yaxis": {
           "automargin": true,
           "gridcolor": "white",
           "linecolor": "white",
           "ticks": "",
           "title": {
            "standoff": 15
           },
           "zerolinecolor": "white",
           "zerolinewidth": 2
          }
         }
        },
        "title": {
         "text": "Ratio of Total Number of Killed Persons In Last 20 Years"
        }
       }
      }
     },
     "metadata": {},
     "output_type": "display_data"
    }
   ],
   "source": [
    "total_israelis_killed = df[\"israelis_killed\"].sum()\n",
    "total_palestinians_killed = df[\"palestinians_killed\"].sum()\n",
    "\n",
    "# Create a list of values and labels for the pie chart\n",
    "values = [total_israelis_killed, total_palestinians_killed]\n",
    "labels = ['Israeli', 'Palestinian']\n",
    "\n",
    "# Create a pie chart using Plotly Express\n",
    "fig = px.pie(values=values, names=labels, labels=labels,\n",
    "            title='Ratio of Total Number of Killed Persons In Last 20 Years')\n",
    "\n",
    "# Show the plot\n",
    "fig.show()"
   ]
  }
 ],
 "metadata": {
  "kernelspec": {
   "display_name": "Python 3",
   "language": "python",
   "name": "python3"
  },
  "language_info": {
   "codemirror_mode": {
    "name": "ipython",
    "version": 3
   },
   "file_extension": ".py",
   "mimetype": "text/x-python",
   "name": "python",
   "nbconvert_exporter": "python",
   "pygments_lexer": "ipython3",
   "version": "3.11.0"
  }
 },
 "nbformat": 4,
 "nbformat_minor": 2
}
